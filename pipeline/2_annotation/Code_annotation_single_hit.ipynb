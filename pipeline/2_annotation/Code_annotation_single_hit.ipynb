{
 "cells": [
  {
   "cell_type": "markdown",
   "id": "c3058d47-b12b-4b97-8cee-00627719ba43",
   "metadata": {},
   "source": [
    "# Fold first, ask later: structure-informed function annotation of *Pseudomonas* phage proteins\n",
    "## Pipeline stage 2: annotation"
   ]
  },
  {
   "cell_type": "markdown",
   "id": "dfc12ff8-a7e5-42d8-80f1-2758c61d0b6a",
   "metadata": {},
   "source": [
    "### Stage 2.2: annotation - single hit annotation strategies\n",
    "\n",
    "**Goals:**\n",
    "* Implement a best hit annotation method, using only the information stored in the search database.\n",
    "* Implement a best annotated hit annotation method, using only the information stored in the search database.\n",
    "* Assess & compare the annotation rate of best (annotated) hit methods using only database information, including Phold.\n",
    "* Implement a best annotated hit annotation method, that uses information fetched from UniProt to annotate proteins.\n",
    "* Assess the annotation rate of best annotated hit annotation method, that uses information fetched from UniProt to annotate proteins.\n",
    "* Assess whether proteins that get annotated are different from those that do not.\n",
    "* Implement a three tiered best annotated hit annotation method, and assess whether it improves annotations from the AlphaFold database.\n",
    "* Implement a three tiered best annotated hit annotation method, and assess whether it improves annotations fetched through UniProt.\n",
    "\n",
    "**Requires:**\n",
    "* in folder Desktop/phage_annotation_input:\n",
    "    * FoldSeek search database header files pdb_2024mar_h (FoldSeek 'PDB' database v.2024-02-20) and af50m_2024mar_h (FoldSeek 'Alphafold/UniProt50-minimal' database v.4) \n",
    "    * dict_pdb_PDBidch_UniProtID.csv : a csv file storing the dictionary linking PDB identifier & chain combinations in the FoldSeek output files (against the PDB database) to the linked UniProt identifier. Each column is one dictionary entry, the first row contains the PDB identifier & chain combination, the second row the linked UniProt ID(s)\n",
    "    * dict_pdb_UniProtID_NCBIid.csv :  a csv file storing the dictionary linking UniProt IDs obtained based on the PDB identifier & chain combination in the FoldSeek output files (against the PDB database) to the NCBI id of the PROTEIN used as search query for the FoldSeek run. Each column is one dictionary entry, the first row contains the UniProt IDs, the second row the NCBI ids\n",
    "    * dict_UniProtID_function.csv : a csv file storing the dictionary linking UniProt IDs to the fetched UniProt protein name. Each column is one dictionary entry, the first row contains the UniProt IDs, the second row contains the linked protein name(s).\n",
    "* in folder associated_data:\n",
    "    * list_obsolete_PDB_ids_15jul2024.txt : a txt file containing all the obsolete PDB identifiers at runtime (July '24)\n",
    "* in folder 1_dataset/a_input/protein_overview:\n",
    "    * PHAGE_protein_overview.txt : a tab-seperated overview of the NCBI proteins for each PHAGE, listing NCBI unique ID, NCBI protein name and protein length, with each row representing one NCBI protein entry\n",
    "* in folder 1_dataset/b_structure/\n",
    "    * in folder proteins_cluster:\n",
    "        *  phage_hypothetical_clustered.tsv: MMSeqs sequence-based protein clustering output file\n",
    "    * in folder structure_prediction:\n",
    "        * prediction_metrics.tsv : a tab-seperated overview of the proteins for which structure prediction succeeded, summarizing protein (identifier, sequence, length) and and prediction metrics (pLDDT, MSA depth) in a protein centric fashion, where each row is one protein  \n",
    "    * in folder structure_comparison:\n",
    "        * in each folder batch_XX with XX a batch number between 0 and 34:\n",
    "            * PROTEIN_foldseek_af50m_default.csv and PROTEIN_foldseek_pdb_default.csv : FoldSeek output file against AlphaFold/PDB database for PROTEIN which has been subjected to E-value filtering \n",
    "            * PROTEIN_foldseek_af50m_filtered.csv and PROTEIN_foldseek_pdb_filtered.csv : FoldSeek output file against AlphaFold/PDB database for PROTEIN which has been subjected to filtering based on E-value, SCOP class probability, pLDDT aligned region and alignment quality\n",
    "* in folder a_pharokka:\n",
    "    * in folders output_batch_XX with XX the batch number:\n",
    "        * Pharokka protein output (see Pharokka docs for more information on the file formats and generated outputs):\n",
    "            * pharokka_proteins_summary_output.tsv\n",
    "* in folder b_phold:\n",
    "    * in folders output_compare_str_batch_XX with XX the batch number (see Phold docs for more information on the file formats and generated outputs):\n",
    "        * phold_per_cds_predictions.tsv\n",
    "\n",
    "**Generates:**\n",
    "* best_hit_annotations.tsv: tab seperated file storing the results of best hit annotation method, with two rows per protein (1 for results against the PDB, 1 for results against the AlphaFold database).\n",
    "* best_annotated_hit_annotations.tsv: tab seperated file storing the results of best annotated hit annotation method, with two rows per protein (1 for results against the PDB, 1 for results against the AlphaFold database).\n",
    "* best_annotated_hit_uniprot_annotations.tsv : tab seperated file storing the results of best annotated hit annotation method using protein annotations from UniProt, with two rows per protein (1 for results against the PDB, 1 for results against the AlphaFold database).\n",
    "* best_annotated_hit_threetiers_annotations.tsv : tab seperated file storing the results of best annotated hit annotation method using three tiers of annotation quality classification, with one rows per protein (only results against the AlphaFold database).\n",
    "* best_annotated_hit_uniprot_threetiers_annotations : tab seperated file storing the results of best annotated hit annotation method using three tiers of annotation quality classification and protein annotations from UniProt, with two rows per protein (1 for results against the PDB, 1 for results against the AlphaFold database)."
   ]
  },
  {
   "cell_type": "markdown",
   "id": "9244f087-5325-43c2-bf89-8706366a78d8",
   "metadata": {},
   "source": [
    "#### General settings, imports, variables and environments\n",
    "\n",
    "Conda environment: ffal_annotate\n",
    "\n",
    "Created with `conda create -n ffal_annotate`. Then installed `jupyter notebook`, `pandas` through conda & `seaborn`, `scipy`, `matplotlib-venn`, `UpSetPlot`, `biopython` through pip (commands executed in notebook Code_annotation_background.ipynb)."
   ]
  },
  {
   "cell_type": "code",
   "execution_count": null,
   "id": "3d4cc488-01d8-41b9-abe2-9c719065beb2",
   "metadata": {
    "scrolled": true
   },
   "outputs": [],
   "source": [
    "!pip install seaborn"
   ]
  },
  {
   "cell_type": "code",
   "execution_count": null,
   "id": "5f252af7-042a-4f07-89a2-b645f5c76b80",
   "metadata": {},
   "outputs": [],
   "source": [
    "!pip install scipy"
   ]
  },
  {
   "cell_type": "code",
   "execution_count": null,
   "id": "e391fa57-c120-4e32-90ba-92fb8fee42b0",
   "metadata": {
    "scrolled": true
   },
   "outputs": [],
   "source": [
    "!pip install matplotlib-venn"
   ]
  },
  {
   "cell_type": "code",
   "execution_count": null,
   "id": "36228803-3c84-4cce-b3f6-510a12ea409c",
   "metadata": {
    "scrolled": true
   },
   "outputs": [],
   "source": [
    "!pip install UpSetPlot"
   ]
  },
  {
   "cell_type": "code",
   "execution_count": null,
   "id": "e2720272-db5a-4953-8221-a9cbcaa9c2c4",
   "metadata": {},
   "outputs": [],
   "source": [
    "!pip install biopython"
   ]
  },
  {
   "cell_type": "code",
   "execution_count": 1,
   "id": "bd9f9f1a-3d0d-40b8-8909-31dc90a18a9c",
   "metadata": {
    "collapsed": true,
    "jupyter": {
     "outputs_hidden": true
    },
    "scrolled": true
   },
   "outputs": [
    {
     "name": "stdout",
     "output_type": "stream",
     "text": [
      "# This file may be used to create an environment using:\n",
      "# $ conda create --name <env> --file <this file>\n",
      "# platform: win-64\n",
      "# created-by: conda 24.11.3\n",
      "@EXPLICIT\n",
      "https://conda.anaconda.org/conda-forge/noarch/ca-certificates-2025.6.15-h4c7d964_0.conda\n",
      "https://conda.anaconda.org/conda-forge/win-64/intel-openmp-2024.2.1-h57928b3_1083.conda\n",
      "https://conda.anaconda.org/conda-forge/noarch/python_abi-3.13-7_cp313.conda\n",
      "https://conda.anaconda.org/conda-forge/noarch/tzdata-2025b-h78e105d_0.conda\n",
      "https://conda.anaconda.org/conda-forge/win-64/ucrt-10.0.22621.0-h57928b3_1.conda\n",
      "https://conda.anaconda.org/conda-forge/win-64/winpty-0.4.3-4.tar.bz2\n",
      "https://conda.anaconda.org/conda-forge/win-64/libwinpthread-12.0.0.r4.gg4f2fc60ca-h57928b3_9.conda\n",
      "https://conda.anaconda.org/conda-forge/win-64/vc14_runtime-14.44.35208-h818238b_26.conda\n",
      "https://conda.anaconda.org/conda-forge/win-64/vc-14.3-h41ae7f8_26.conda\n",
      "https://conda.anaconda.org/conda-forge/win-64/vs2015_runtime-14.44.35208-h38c0c73_26.conda\n",
      "https://conda.anaconda.org/conda-forge/win-64/bzip2-1.0.8-h2466b09_7.conda\n",
      "https://conda.anaconda.org/conda-forge/win-64/libexpat-2.7.0-he0c23c2_0.conda\n",
      "https://conda.anaconda.org/conda-forge/win-64/libffi-3.4.6-h537db12_1.conda\n",
      "https://conda.anaconda.org/conda-forge/win-64/libiconv-1.18-h135ad9c_1.conda\n",
      "https://conda.anaconda.org/conda-forge/win-64/liblzma-5.8.1-h2466b09_2.conda\n",
      "https://conda.anaconda.org/conda-forge/win-64/libmpdec-4.0.0-h2466b09_0.conda\n",
      "https://conda.anaconda.org/conda-forge/win-64/libsodium-1.0.20-hc70643c_0.conda\n",
      "https://conda.anaconda.org/conda-forge/win-64/libsqlite-3.50.1-hf5d6505_7.conda\n",
      "https://conda.anaconda.org/conda-forge/win-64/libzlib-1.3.1-h2466b09_2.conda\n",
      "https://conda.anaconda.org/conda-forge/win-64/openssl-3.5.0-ha4e3fda_1.conda\n",
      "https://conda.anaconda.org/conda-forge/win-64/tk-8.6.13-h2c6b04d_2.conda\n",
      "https://conda.anaconda.org/conda-forge/win-64/yaml-0.2.5-h8ffe710_2.tar.bz2\n",
      "https://conda.anaconda.org/conda-forge/win-64/krb5-1.21.3-hdf4eb48_0.conda\n",
      "https://conda.anaconda.org/conda-forge/win-64/libxml2-2.13.8-h442d1da_0.conda\n",
      "https://conda.anaconda.org/conda-forge/win-64/python-3.13.5-h7de537c_102_cp313.conda\n",
      "https://conda.anaconda.org/conda-forge/noarch/asttokens-3.0.0-pyhd8ed1ab_1.conda\n",
      "https://conda.anaconda.org/conda-forge/noarch/attrs-25.3.0-pyh71513ae_0.conda\n",
      "https://conda.anaconda.org/conda-forge/win-64/brotli-python-1.1.0-py313h5813708_3.conda\n",
      "https://conda.anaconda.org/conda-forge/noarch/cached_property-1.5.2-pyha770c72_1.tar.bz2\n",
      "https://conda.anaconda.org/conda-forge/noarch/certifi-2025.6.15-pyhd8ed1ab_0.conda\n",
      "https://conda.anaconda.org/conda-forge/noarch/charset-normalizer-3.4.2-pyhd8ed1ab_0.conda\n",
      "https://conda.anaconda.org/conda-forge/noarch/colorama-0.4.6-pyhd8ed1ab_1.conda\n",
      "https://conda.anaconda.org/conda-forge/noarch/cpython-3.13.5-py313hd8ed1ab_102.conda\n",
      "https://conda.anaconda.org/conda-forge/win-64/debugpy-1.8.14-py313h5813708_0.conda\n",
      "https://conda.anaconda.org/conda-forge/noarch/decorator-5.2.1-pyhd8ed1ab_0.conda\n",
      "https://conda.anaconda.org/conda-forge/noarch/defusedxml-0.7.1-pyhd8ed1ab_0.tar.bz2\n",
      "https://conda.anaconda.org/conda-forge/noarch/executing-2.2.0-pyhd8ed1ab_0.conda\n",
      "https://conda.anaconda.org/conda-forge/noarch/hpack-4.1.0-pyhd8ed1ab_0.conda\n",
      "https://conda.anaconda.org/conda-forge/noarch/hyperframe-6.1.0-pyhd8ed1ab_0.conda\n",
      "https://conda.anaconda.org/conda-forge/noarch/idna-3.10-pyhd8ed1ab_1.conda\n",
      "https://conda.anaconda.org/conda-forge/noarch/json5-0.12.0-pyhd8ed1ab_0.conda\n",
      "https://conda.anaconda.org/conda-forge/win-64/jsonpointer-3.0.0-py313hfa70ccb_1.conda\n",
      "https://conda.anaconda.org/conda-forge/noarch/jupyterlab_widgets-3.0.15-pyhd8ed1ab_0.conda\n",
      "https://conda.anaconda.org/conda-forge/win-64/libhwloc-2.11.2-default_ha69328c_1001.conda\n",
      "https://conda.anaconda.org/conda-forge/win-64/markupsafe-3.0.2-py313hb4c8b1a_1.conda\n",
      "https://conda.anaconda.org/conda-forge/noarch/nest-asyncio-1.6.0-pyhd8ed1ab_1.conda\n",
      "https://conda.anaconda.org/conda-forge/noarch/packaging-25.0-pyh29332c3_1.conda\n",
      "https://conda.anaconda.org/conda-forge/noarch/pandocfilters-1.5.0-pyhd8ed1ab_0.tar.bz2\n",
      "https://conda.anaconda.org/conda-forge/noarch/parso-0.8.4-pyhd8ed1ab_1.conda\n",
      "https://conda.anaconda.org/conda-forge/noarch/pickleshare-0.7.5-pyhd8ed1ab_1004.conda\n",
      "https://conda.anaconda.org/conda-forge/noarch/pip-25.1.1-pyh145f28c_0.conda\n",
      "https://conda.anaconda.org/conda-forge/noarch/pkgutil-resolve-name-1.3.10-pyhd8ed1ab_2.conda\n",
      "https://conda.anaconda.org/conda-forge/noarch/platformdirs-4.3.8-pyhe01879c_0.conda\n",
      "https://conda.anaconda.org/conda-forge/noarch/prometheus_client-0.22.1-pyhd8ed1ab_0.conda\n",
      "https://conda.anaconda.org/conda-forge/win-64/psutil-7.0.0-py313ha7868ed_0.conda\n",
      "https://conda.anaconda.org/conda-forge/noarch/pure_eval-0.2.3-pyhd8ed1ab_1.conda\n",
      "https://conda.anaconda.org/conda-forge/noarch/pycparser-2.22-pyh29332c3_1.conda\n",
      "https://conda.anaconda.org/conda-forge/noarch/pygments-2.19.2-pyhd8ed1ab_0.conda\n",
      "https://conda.anaconda.org/conda-forge/noarch/python-fastjsonschema-2.21.1-pyhd8ed1ab_0.conda\n",
      "https://conda.anaconda.org/conda-forge/noarch/python-json-logger-2.0.7-pyhd8ed1ab_0.conda\n",
      "https://conda.anaconda.org/conda-forge/noarch/python-tzdata-2025.2-pyhd8ed1ab_0.conda\n",
      "https://conda.anaconda.org/conda-forge/noarch/pytz-2025.2-pyhd8ed1ab_0.conda\n",
      "https://conda.anaconda.org/conda-forge/win-64/pywin32-307-py313h5813708_3.conda\n",
      "https://conda.anaconda.org/conda-forge/win-64/pywinpty-2.0.15-py313h5813708_0.conda\n",
      "https://conda.anaconda.org/conda-forge/win-64/pyyaml-6.0.2-py313hb4c8b1a_2.conda\n",
      "https://conda.anaconda.org/conda-forge/noarch/rfc3986-validator-0.1.1-pyh9f0ad1d_0.tar.bz2\n",
      "https://conda.anaconda.org/conda-forge/win-64/rpds-py-0.25.1-py313ha8a9a3c_0.conda\n",
      "https://conda.anaconda.org/conda-forge/noarch/setuptools-80.9.0-pyhff2d567_0.conda\n",
      "https://conda.anaconda.org/conda-forge/noarch/six-1.17.0-pyhd8ed1ab_0.conda\n",
      "https://conda.anaconda.org/conda-forge/noarch/sniffio-1.3.1-pyhd8ed1ab_1.conda\n",
      "https://conda.anaconda.org/conda-forge/noarch/soupsieve-2.7-pyhd8ed1ab_0.conda\n",
      "https://conda.anaconda.org/conda-forge/noarch/tomli-2.2.1-pyhd8ed1ab_1.conda\n",
      "https://conda.anaconda.org/conda-forge/win-64/tornado-6.5.1-py313ha7868ed_0.conda\n",
      "https://conda.anaconda.org/conda-forge/noarch/traitlets-5.14.3-pyhd8ed1ab_1.conda\n",
      "https://conda.anaconda.org/conda-forge/noarch/types-python-dateutil-2.9.0.20250516-pyhd8ed1ab_0.conda\n",
      "https://conda.anaconda.org/conda-forge/noarch/typing_extensions-4.14.0-pyhe01879c_0.conda\n",
      "https://conda.anaconda.org/conda-forge/noarch/typing_utils-0.1.0-pyhd8ed1ab_1.conda\n",
      "https://conda.anaconda.org/conda-forge/noarch/uri-template-1.3.0-pyhd8ed1ab_1.conda\n",
      "https://conda.anaconda.org/conda-forge/noarch/wcwidth-0.2.13-pyhd8ed1ab_1.conda\n",
      "https://conda.anaconda.org/conda-forge/noarch/webcolors-24.11.1-pyhd8ed1ab_0.conda\n",
      "https://conda.anaconda.org/conda-forge/noarch/webencodings-0.5.1-pyhd8ed1ab_3.conda\n",
      "https://conda.anaconda.org/conda-forge/noarch/websocket-client-1.8.0-pyhd8ed1ab_1.conda\n",
      "https://conda.anaconda.org/conda-forge/noarch/widgetsnbextension-4.0.14-pyhd8ed1ab_0.conda\n",
      "https://conda.anaconda.org/conda-forge/noarch/win_inet_pton-1.1.0-pyh7428d3b_8.conda\n",
      "https://conda.anaconda.org/conda-forge/win-64/zeromq-4.3.5-ha9f60a1_7.conda\n",
      "https://conda.anaconda.org/conda-forge/noarch/zipp-3.23.0-pyhd8ed1ab_0.conda\n",
      "https://conda.anaconda.org/conda-forge/noarch/async-lru-2.0.5-pyh29332c3_0.conda\n",
      "https://conda.anaconda.org/conda-forge/noarch/babel-2.17.0-pyhd8ed1ab_0.conda\n",
      "https://conda.anaconda.org/conda-forge/noarch/bleach-6.2.0-pyh29332c3_4.conda\n",
      "https://conda.anaconda.org/conda-forge/noarch/cached-property-1.5.2-hd8ed1ab_1.tar.bz2\n",
      "https://conda.anaconda.org/conda-forge/win-64/cffi-1.17.1-py313ha7868ed_0.conda\n",
      "https://conda.anaconda.org/conda-forge/noarch/comm-0.2.2-pyhd8ed1ab_1.conda\n",
      "https://conda.anaconda.org/conda-forge/noarch/exceptiongroup-1.3.0-pyhd8ed1ab_0.conda\n",
      "https://conda.anaconda.org/conda-forge/noarch/h11-0.16.0-pyhd8ed1ab_0.conda\n",
      "https://conda.anaconda.org/conda-forge/noarch/h2-4.2.0-pyhd8ed1ab_0.conda\n",
      "https://conda.anaconda.org/conda-forge/noarch/importlib-metadata-8.7.0-pyhe01879c_1.conda\n",
      "https://conda.anaconda.org/conda-forge/noarch/importlib_resources-6.5.2-pyhd8ed1ab_0.conda\n",
      "https://conda.anaconda.org/conda-forge/noarch/ipython_pygments_lexers-1.1.1-pyhd8ed1ab_0.conda\n",
      "https://conda.anaconda.org/conda-forge/noarch/jedi-0.19.2-pyhd8ed1ab_1.conda\n",
      "https://conda.anaconda.org/conda-forge/noarch/jinja2-3.1.6-pyhd8ed1ab_0.conda\n",
      "https://conda.anaconda.org/conda-forge/noarch/jupyter_core-5.8.1-pyh5737063_0.conda\n",
      "https://conda.anaconda.org/conda-forge/noarch/jupyterlab_pygments-0.3.0-pyhd8ed1ab_2.conda\n",
      "https://conda.anaconda.org/conda-forge/noarch/matplotlib-inline-0.1.7-pyhd8ed1ab_1.conda\n",
      "https://conda.anaconda.org/conda-forge/noarch/mistune-3.1.3-pyh29332c3_0.conda\n",
      "https://conda.anaconda.org/conda-forge/noarch/overrides-7.7.0-pyhd8ed1ab_1.conda\n",
      "https://conda.anaconda.org/conda-forge/noarch/prompt-toolkit-3.0.51-pyha770c72_0.conda\n",
      "https://conda.anaconda.org/conda-forge/noarch/pysocks-1.7.1-pyh09c184e_7.conda\n",
      "https://conda.anaconda.org/conda-forge/noarch/python-dateutil-2.9.0.post0-pyhff2d567_1.conda\n",
      "https://conda.anaconda.org/conda-forge/win-64/pyzmq-27.0.0-py313h2100fd5_0.conda\n",
      "https://conda.anaconda.org/conda-forge/noarch/referencing-0.36.2-pyh29332c3_0.conda\n",
      "https://conda.anaconda.org/conda-forge/noarch/rfc3339-validator-0.1.4-pyhd8ed1ab_1.conda\n",
      "https://conda.anaconda.org/conda-forge/noarch/send2trash-1.8.3-pyh5737063_1.conda\n",
      "https://conda.anaconda.org/conda-forge/noarch/stack_data-0.6.3-pyhd8ed1ab_1.conda\n",
      "https://conda.anaconda.org/conda-forge/win-64/tbb-2021.13.0-h62715c5_1.conda\n",
      "https://conda.anaconda.org/conda-forge/noarch/terminado-0.18.1-pyh5737063_0.conda\n",
      "https://conda.anaconda.org/conda-forge/noarch/tinycss2-1.4.0-pyhd8ed1ab_0.conda\n",
      "https://conda.anaconda.org/conda-forge/noarch/typing-extensions-4.14.0-h32cad80_0.conda\n",
      "https://conda.anaconda.org/conda-forge/noarch/anyio-4.9.0-pyh29332c3_0.conda\n",
      "https://conda.anaconda.org/conda-forge/win-64/argon2-cffi-bindings-21.2.0-py313ha7868ed_5.conda\n",
      "https://conda.anaconda.org/conda-forge/noarch/arrow-1.3.0-pyhd8ed1ab_1.conda\n",
      "https://conda.anaconda.org/conda-forge/noarch/beautifulsoup4-4.13.4-pyha770c72_0.conda\n",
      "https://conda.anaconda.org/conda-forge/noarch/bleach-with-css-6.2.0-h82add2a_4.conda\n",
      "https://conda.anaconda.org/conda-forge/noarch/fqdn-1.5.1-pyhd8ed1ab_1.conda\n",
      "https://conda.anaconda.org/conda-forge/noarch/ipython-9.3.0-pyh6be1c34_0.conda\n",
      "https://conda.anaconda.org/conda-forge/noarch/jsonschema-specifications-2025.4.1-pyh29332c3_0.conda\n",
      "https://conda.anaconda.org/conda-forge/noarch/jupyter_client-8.6.3-pyhd8ed1ab_1.conda\n",
      "https://conda.anaconda.org/conda-forge/noarch/jupyter_server_terminals-0.5.3-pyhd8ed1ab_1.conda\n",
      "https://conda.anaconda.org/conda-forge/win-64/mkl-2024.2.2-h66d3029_15.conda\n",
      "https://conda.anaconda.org/conda-forge/noarch/prompt_toolkit-3.0.51-hd8ed1ab_0.conda\n",
      "https://conda.anaconda.org/conda-forge/win-64/zstandard-0.23.0-py313ha7868ed_2.conda\n",
      "https://conda.anaconda.org/conda-forge/noarch/argon2-cffi-25.1.0-pyhd8ed1ab_0.conda\n",
      "https://conda.anaconda.org/conda-forge/noarch/httpcore-1.0.9-pyh29332c3_0.conda\n",
      "https://conda.anaconda.org/conda-forge/noarch/ipykernel-6.29.5-pyh4bbf305_0.conda\n",
      "https://conda.anaconda.org/conda-forge/noarch/ipywidgets-8.1.7-pyhd8ed1ab_0.conda\n",
      "https://conda.anaconda.org/conda-forge/noarch/isoduration-20.11.0-pyhd8ed1ab_1.conda\n",
      "https://conda.anaconda.org/conda-forge/noarch/jsonschema-4.24.0-pyhd8ed1ab_0.conda\n",
      "https://conda.anaconda.org/conda-forge/win-64/libblas-3.9.0-32_h641d27c_mkl.conda\n",
      "https://conda.anaconda.org/conda-forge/noarch/urllib3-2.5.0-pyhd8ed1ab_0.conda\n",
      "https://conda.anaconda.org/conda-forge/noarch/httpx-0.28.1-pyhd8ed1ab_0.conda\n",
      "https://conda.anaconda.org/conda-forge/noarch/jsonschema-with-format-nongpl-4.24.0-hd8ed1ab_0.conda\n",
      "https://conda.anaconda.org/conda-forge/noarch/jupyter_console-6.6.3-pyhd8ed1ab_1.conda\n",
      "https://conda.anaconda.org/conda-forge/win-64/libcblas-3.9.0-32_h5e41251_mkl.conda\n",
      "https://conda.anaconda.org/conda-forge/win-64/liblapack-3.9.0-32_h1aa476e_mkl.conda\n",
      "https://conda.anaconda.org/conda-forge/noarch/nbformat-5.10.4-pyhd8ed1ab_1.conda\n",
      "https://conda.anaconda.org/conda-forge/noarch/requests-2.32.4-pyhd8ed1ab_0.conda\n",
      "https://conda.anaconda.org/conda-forge/noarch/jupyter_events-0.12.0-pyh29332c3_0.conda\n",
      "https://conda.anaconda.org/conda-forge/noarch/nbclient-0.10.2-pyhd8ed1ab_0.conda\n",
      "https://conda.anaconda.org/conda-forge/win-64/numpy-2.3.0-py313hefb8edb_0.conda\n",
      "https://conda.anaconda.org/conda-forge/noarch/nbconvert-core-7.16.6-pyh29332c3_0.conda\n",
      "https://conda.anaconda.org/conda-forge/win-64/pandas-2.3.0-py313hf91d08e_0.conda\n",
      "https://conda.anaconda.org/conda-forge/noarch/jupyter_server-2.16.0-pyhe01879c_0.conda\n",
      "https://conda.anaconda.org/conda-forge/noarch/jupyter-lsp-2.2.5-pyhe01879c_2.conda\n",
      "https://conda.anaconda.org/conda-forge/noarch/jupyterlab_server-2.27.3-pyhd8ed1ab_1.conda\n",
      "https://conda.anaconda.org/conda-forge/noarch/notebook-shim-0.2.4-pyhd8ed1ab_1.conda\n",
      "https://conda.anaconda.org/conda-forge/noarch/jupyterlab-4.4.3-pyhd8ed1ab_0.conda\n",
      "https://conda.anaconda.org/conda-forge/noarch/notebook-7.4.3-pyhd8ed1ab_0.conda\n",
      "https://conda.anaconda.org/conda-forge/noarch/jupyter-1.1.1-pyhd8ed1ab_1.conda\n"
     ]
    }
   ],
   "source": [
    "!conda list --explicit"
   ]
  },
  {
   "cell_type": "code",
   "execution_count": 2,
   "id": "c27449c9-c25c-430b-bf54-aad844e93b72",
   "metadata": {},
   "outputs": [],
   "source": [
    "# imports\n",
    "import csv\n",
    "import json\n",
    "import os\n",
    "import random\n",
    "import re\n",
    "import requests\n",
    "import sys\n",
    "import numpy as np\n",
    "import pandas as pd\n",
    "import seaborn as sns\n",
    "import matplotlib.pyplot as plt\n",
    "\n",
    "import Bio\n",
    "\n",
    "from Bio.PDB import *\n",
    "from json.decoder import JSONDecodeError\n",
    "from scipy.stats import mannwhitneyu\n",
    "from upsetplot import plot"
   ]
  },
  {
   "cell_type": "code",
   "execution_count": 3,
   "id": "c8ed0f7a-7106-4942-9d19-34f807f3fabd",
   "metadata": {},
   "outputs": [],
   "source": [
    " # settings for requests\n",
    "sess = requests.Session()\n",
    "adapter = requests.adapters.HTTPAdapter(max_retries = 10)\n",
    "sess.mount(\"https://\", adapter)"
   ]
  },
  {
   "cell_type": "code",
   "execution_count": 4,
   "id": "9e085e73-7ae1-4931-b298-27d32fc656fa",
   "metadata": {},
   "outputs": [],
   "source": [
    "# clear reference to different directories\n",
    "pipeline_annot_dir = os.getcwd()\n",
    "pipeline_search_dir = os.path.join(pipeline_annot_dir, os.pardir, \"1_dataset\")\n",
    "master_dir = os.path.abspath(os.path.join(pipeline_annot_dir, os.pardir, os.pardir))\n",
    "data_dir = os.path.join(os.path.join(os.environ['USERPROFILE']), 'Desktop', 'phage_annotation_input')\n",
    "struct_out_dir = os.path.join(os.path.join(os.environ[\"USERPROFILE\"]), \"Desktop\", \"phage_annotation_input\", \"structure_prediction\") \n",
    "comp_out_dir = os.path.join(os.path.join(os.environ[\"USERPROFILE\"]), \"Desktop\", \"phage_annotation_input\", \"structure_comparison\") "
   ]
  },
  {
   "cell_type": "code",
   "execution_count": 5,
   "id": "0126452d-01f1-4ee7-8f93-2af40cb325d5",
   "metadata": {},
   "outputs": [],
   "source": [
    "# overview of proteins, batches, and issues\n",
    "    # cluster data\n",
    "cluster_protein_match = pd.read_csv(os.path.join(pipeline_search_dir, \"b_structure\", \"proteins_cluster\", \"phage_hypothetical_clustered.tsv\"), \n",
    "                                    sep=\"\\t\", header=None, names=[\"cluster_rep\",\"cluster_member\"])\n",
    "all_cluster_reps = list(cluster_protein_match[\"cluster_rep\"].unique())\n",
    "    # issues with structure prediciton\n",
    "bug_ids = [1024212698, 1049307970, 937263666, 937263657, 2095861127, 2476109552, 1201093646, 1278230276,\n",
    "          82657980, 1269167545, 2080079782, 1899050855, 2422010414, 701904370, 1009089253, 2416396857, 1825586694]\n",
    "relaxation_failed_ids = [585865431, 985788839, 656178049, 985788835, 2512621507, 985789034, 985789035, 985788870, 985788822, 985788825,\n",
    "                        985788820, 985788821, 985788819, 936761474, 985788892, 985788800, 985788799, 2512621457, 985788846, 1562103688,\n",
    "                        985788845, 2095887196, 1808209948, 1832334352, 2250993998, 2512621472, 1562103654, 985788861]\n",
    "    # proteins with predicted structures\n",
    "proteins_w_structure = list(set(all_cluster_reps) - set(bug_ids))"
   ]
  },
  {
   "cell_type": "code",
   "execution_count": 6,
   "id": "febc7be0-c9ba-40a8-b62e-bab1173aa642",
   "metadata": {},
   "outputs": [],
   "source": [
    "# linking batches and proteins for the structure comparison files\n",
    "dict_batch_comp_prot = {}\n",
    "dict_batch_comp = {}\n",
    "for protein in proteins_w_structure:\n",
    "    for index_batch in range(0,35):\n",
    "        batch_dir = os.path.join(comp_out_dir, f\"batch_{index_batch}\", f\"batch_{index_batch}\")\n",
    "        if os.path.isfile(os.path.join(batch_dir, f\"{protein}_foldseek_af50m_default.csv\")) and os.path.isfile(os.path.join(batch_dir, f\"{protein}_foldseek_pdb_default.csv\")):\n",
    "            dict_batch_comp_prot[protein] = index_batch\n",
    "for key, value in dict_batch_comp_prot.items():\n",
    "    if value in dict_batch_comp:\n",
    "        dict_batch_comp[value].append(key)\n",
    "    else:\n",
    "        dict_batch_comp[value] = [key]\n",
    "dict_batch_comp = dict(sorted(dict_batch_comp.items()))"
   ]
  },
  {
   "cell_type": "markdown",
   "id": "f2631119-5725-4e5b-85d8-d548e604076c",
   "metadata": {},
   "source": [
    "#### Goal 1 : Implement and assess a best hit annotation method, using only the information stored in the search database.\n",
    "\n",
    "As a first annotation strategy, we will implement a best hit method, using the information stored in the search database headers to annotate the proteins."
   ]
  },
  {
   "cell_type": "code",
   "execution_count": 7,
   "id": "ff1065c9-8647-48ee-90e6-66513645a1ee",
   "metadata": {},
   "outputs": [],
   "source": [
    "# dir to store results\n",
    "one_hit_dir = os.path.join(pipeline_annot_dir, \"c_single_hit_annotations\")"
   ]
  },
  {
   "cell_type": "code",
   "execution_count": null,
   "id": "d044dc26-48c6-462d-a670-1cc0719e6830",
   "metadata": {},
   "outputs": [],
   "source": [
    "os.mkdir(one_hit_dir)"
   ]
  },
  {
   "cell_type": "markdown",
   "id": "90563452-086d-4c94-b85a-975b59615adb",
   "metadata": {},
   "source": [
    "##### Prerequisites: FoldSeek output files + FoldSeek database headers"
   ]
  },
  {
   "cell_type": "code",
   "execution_count": 8,
   "id": "3af9776b-52c0-4a23-857b-06be48c03338",
   "metadata": {},
   "outputs": [],
   "source": [
    "# function returning the FoldSeek files for a protein in a batch\n",
    "# reading in the FoldSeek output files for a specific protein in a batch\n",
    "def read_foldseek_protein(batch_num, protein):\n",
    "    batch_dir = os.path.join(comp_out_dir, f\"batch_{batch_num}\", f\"batch_{batch_num}\")\n",
    "    pdb_fil = os.path.join(batch_dir, f\"{protein}_foldseek_pdb_filtered.csv\")\n",
    "    af50m_fil = os.path.join(batch_dir, f\"{protein}_foldseek_af50m_filtered.csv\")\n",
    "    try: \n",
    "        df_pdb_fil = pd.read_csv(pdb_fil)\n",
    "        df_af50m_fil = pd.read_csv(af50m_fil)\n",
    "        return df_pdb_fil, df_af50m_fil\n",
    "    except FileNotFoundError:\n",
    "        print(f\"issue for {batch} protein {protein}.\")"
   ]
  },
  {
   "cell_type": "code",
   "execution_count": 9,
   "id": "880c9bf2-bb88-47d0-8922-41e6f574a0ea",
   "metadata": {},
   "outputs": [],
   "source": [
    "# read in the protein annotation data - PDB database\n",
    "pdbid_descr_db = {}\n",
    "with open(os.path.join(data_dir, \"pdb_2024mar_h\")) as file:\n",
    "    for line in file:\n",
    "        if len(line.strip()) != 0 :\n",
    "            pdb_id = line.split()[0].removeprefix(\"\\x00\")\n",
    "            descr = \" \".join(line.split()[1:])\n",
    "            pdbid_descr_db[pdb_id] = descr"
   ]
  },
  {
   "cell_type": "code",
   "execution_count": 10,
   "id": "96966cce-cb0e-4b8f-bf9b-e0e4ece4f1ae",
   "metadata": {},
   "outputs": [],
   "source": [
    " # read in the protein annotation data - AF50m database\n",
    "af50mid_descr_db = {}\n",
    "with open(os.path.join(data_dir, \"af50m_2024mar_h\")) as fp:\n",
    "    for line in fp:\n",
    "        if len(line.strip()) != 0 :\n",
    "            af_id = line.split()[0].removeprefix(\"\\x00\")\n",
    "            descr = \" \".join(line.split()[1:])\n",
    "            af50mid_descr_db[af_id] = descr"
   ]
  },
  {
   "cell_type": "markdown",
   "id": "61cd21ff-fdb4-4a31-9dc1-f047e0d03d07",
   "metadata": {},
   "source": [
    "##### Code for annotation using a best hit method, using only the information stored in the search databases"
   ]
  },
  {
   "cell_type": "markdown",
   "id": "41f8605e-5498-4595-a3af-d56bba815c47",
   "metadata": {},
   "source": [
    "Let's write some code to annotate a protein using its best FoldSeek hit, immediately including a tag about whether this is actually a useful annotation or not. \n",
    "\n",
    "For the PDB, after some exploration, we've settled on the following filter for labelling an annotation as non-annotation:"
   ]
  },
  {
   "cell_type": "code",
   "execution_count": 11,
   "id": "9595e61f-66f2-4244-82e8-8a39e25beca7",
   "metadata": {},
   "outputs": [],
   "source": [
    "# function for filter\n",
    "def is_likely_hypothetical_pdb(descr):\n",
    "    if (\"unknown\" in descr.lower()) and (\"function\" in descr.lower()):\n",
    "        return True\n",
    "    else:\n",
    "        return False"
   ]
  },
  {
   "cell_type": "code",
   "execution_count": 12,
   "id": "0707b3df-6952-4a78-86b5-8802293cb6cf",
   "metadata": {
    "scrolled": true
   },
   "outputs": [
    {
     "name": "stdout",
     "output_type": "stream",
     "text": [
      "[('1nmp.cif.gz_B', 'Structural genomics, ybgI protein, unknown function'), ('3iuk.cif.gz_A', 'Crystal structure of putative bacterial protein of unknown function (DUF885, PF05960.1, ) from Arthrobacter aurescens TC1, reveals fold similar to that of M32 carboxypeptidases'), ('3m05.cif.gz_C', 'The crystal structure of a functionally unknown protein PEPE_1480 from Pediococcus pentosaceus ATCC 25745'), ('3ez0.cif.gz_B', 'Crystal structure of protein of unknown function with ferritin-like fold (YP_832262.1) from Arthrobacter sp. FB24 at 2.33 A resolution'), ('3lag.cif.gz_A', 'The crystal structure of a functionally unknown protein RPA4178 from Rhodopseudomonas palustris CGA009'), ('3fh1.cif.gz_A', 'Crystal structure of a ntf2-like protein of unknown function (mll8193) from mesorhizobium loti at 1.60 A resolution'), ('2wam.cif.gz_A', 'Crystal structure of Mycobacterium tuberculosis unknown function protein Rv2714'), ('2kke.cif.gz_MODEL_8_A', 'Solution NMR Structure of a dimeric protein of unknown function from Methanobacterium thermoautotrophicum, Northeast Structural Genomics Consortium Target TR5'), ('2chc.cif.gz_C', 'Structure of Rv3472(D26N), a function unknown protein from Mycobacterium tuberculosis'), ('3es4.cif.gz_B', 'Crystal structure of Protein of unknown function (DUF861) with a RmlC-like cupin fold (17741406) from AGROBACTERIUM TUMEFACIENS str. C58 (Dupont) at 1.64 A resolution'), ('3kzt.cif.gz_B', 'Crystal structure of Protein of unknown function (NP_812423.1) from BACTEROIDES THETAIOTAOMICRON VPI-5482 at 2.10 A resolution'), ('3kdq.cif.gz_D', 'Crystal structure of a functionally unknown conserved protein from Corynebacterium diphtheriae.'), ('3neu.cif.gz_A', 'The crystal structure of a functionally-unknown protein lin1836 from Listeria innocua Clip11262'), ('2r5s.cif.gz_B', 'The crystal structure of a domain of protein VP0806 (unknown function) from Vibrio parahaemolyticus RIMD 2210633'), ('3b48.cif.gz_A', 'Crystal structure of unknown function protein EF1359'), ('3k6o.cif.gz_B', 'Crystal structure of protein of unknown function DUF1344 (YP_001299214.1) from Bacteroides vulgatus ATCC 8482 at 2.00 A resolution'), ('3grd.cif.gz_B', 'Crystal structure of NTF2-superfamily protein with unknown function (NP_977240.1) from BACILLUS CEREUS ATCC 10987 at 1.25 A resolution'), ('3rtg.cif.gz_B', 'Crystal structure of tm0922, a fusion of a domain of unknown function and ADP/ATP-dependent NAD(P)H-hydrate dehydratase from Thermotoga maritima soaked with Coenzyme A and ATP'), ('4npa.cif.gz_A', 'Scrystal structure of protein with unknown function from Vibrio cholerae at P22121 spacegroup'), ('1yqf.cif.gz_B', 'Hypothetical protein from leishmania major unknown function sequence homologue to human p32 protein')]\n"
     ]
    }
   ],
   "source": [
    "# for PDB, the keyword 'unknown' combined with 'function' seems to be reasonable \n",
    "    # as illustrated to random annotations that we would consider unannotated\n",
    "unannotated_pdb = list()\n",
    "for key, value in pdbid_descr_db.items():\n",
    "    if (\"unknown\" in value) and (\"function\" in value):\n",
    "        unannotated_pdb.append((key, value))\n",
    "print(random.sample(unannotated_pdb, 20))"
   ]
  },
  {
   "cell_type": "code",
   "execution_count": 13,
   "id": "6300364d-c77e-484d-b5c9-a9e852f05250",
   "metadata": {},
   "outputs": [],
   "source": [
    "# let's implement this in a function, \n",
    "    # returning the description of the first hit, and whether or not this description is an informative annotation\n",
    "def find_first_annotation_foldseek_pdb(dataframe):\n",
    "    target = dataframe.at[0, \"target\"]\n",
    "    best_ann = pdbid_descr_db.get(target)\n",
    "    annotation_found = not is_likely_hypothetical_pdb(best_ann)\n",
    "    return best_ann, annotation_found"
   ]
  },
  {
   "cell_type": "markdown",
   "id": "cbac6ecf-e659-4c12-aadf-93139b556449",
   "metadata": {},
   "source": [
    "For the AlphaFold database, three rounds of manual inspection of annotations led to the following REGEXes for filtering out uninformative annotations, in the context of phage proteins:"
   ]
  },
  {
   "cell_type": "code",
   "execution_count": 14,
   "id": "57b8d06a-f136-42f1-8f22-e4f54f767269",
   "metadata": {},
   "outputs": [],
   "source": [
    "# final filter lists\n",
    "hypothetical_af_search = [\"whole genome shotgun sequence\"] \n",
    "hypothetical_af_match = [\"unnamed product\", \n",
    "                         r\"genome assembly, chromosome: [\\w+]+\", r\"str. [\\w+]+[\\d+]+\", \n",
    "                         \"protein of unknwon function\", \n",
    "                         \"conserved domain protein, histidine-rich\", r\"lin[\\d+]+ protein\", r\"orf[\\w+]+( domain-containing)?( protein)?\", \n",
    "                         \"phage related-protein\", \"phage d3 protein\", \n",
    "                         r\"dna, contig(: [\\w+]+)?\", r\"uncharacterized protein conserved in bacteria(, prophage-related)?\", r\"gene [\\d+]+ protein\",\n",
    "                         r\"gifsy-[\\d+] prophage protein\", r\"(hypothetical )?genomic island protein\",\n",
    "                         r\"(putative )?(conserved )?(\\([a-z ]+\\) )?((uncharacterized)|(hypothet(h)?ical)|(unannotated))( conserved)?( protein)?(, (pro)?phage-related)?(, isoform [AB])?\",\n",
    "                         r\"(predicted|unannotated|uncharacterized|hypothetical|putative( |_)?)?(expressed)?(conserved)?((mobile element)|(integron protein cassette))?(( )?domain)?(constituent)?([\\d+]+)?( |_)protein(_-_conserved)?\", \n",
    "                         r\"((hypothetical|putative|probable|conserved|uncharacterized) )?((hypothetical|putative|probable|conserved|uncharacterized) )?(bacterio|pro)?(phage)((-| )(like|related|associated))?( (hypothetical|putative|probable|conserved|uncharacterized))?( protein)?(,? [g]?p[\\d+]+\\b)?(, family)?(, putative)?\",\n",
    "                         r\"hk97( family)?( phage)? protein\", r\"putative similar to (bacterio)?phage protein\",\n",
    "                         r\"(putative )?uncharacterized protein(?! duf[\\d+]+)( \\w+)?\", \n",
    "                         r\"(phage( |-))?(protein )?(putative )?[g]?p[\\d+]+\\b(-like)?( domain(-containing)?)?(( |-)family)?( protein)?\"\n",
    "                        ]"
   ]
  },
  {
   "cell_type": "code",
   "execution_count": 15,
   "id": "9cf9f612-15b4-41d5-aeba-3c5c03364145",
   "metadata": {},
   "outputs": [],
   "source": [
    "# functions to check whether description is in the list of hypothetical protein annotations for AFdb annotations\n",
    "def is_hypothetical_af(descr):\n",
    "    hypothetical_label = False\n",
    "    for filter_descr_s in hypothetical_af_search:\n",
    "        if re.search(filter_descr_s, descr.strip().lower()) != None:\n",
    "            hypothetical_label = True\n",
    "    for filter_descr_m in hypothetical_af_match:\n",
    "        if re.fullmatch(filter_descr_m, descr.strip().lower()) != None:\n",
    "            hypothetical_label = True\n",
    "    return hypothetical_label"
   ]
  },
  {
   "cell_type": "code",
   "execution_count": 16,
   "id": "619fba45-fadf-4176-be4c-ac5d4f137a79",
   "metadata": {},
   "outputs": [],
   "source": [
    "# let's implement this in a function, \n",
    "    # returning the description of the first hit, and whether or not this description is an informative annotation\n",
    "def find_first_annotation_foldseek_afdb(dataframe):\n",
    "    target = dataframe.at[0, \"target\"]\n",
    "    best_ann = af50mid_descr_db.get(target)\n",
    "    annotation_found = not is_hypothetical_af(best_ann)\n",
    "    return best_ann, annotation_found"
   ]
  },
  {
   "cell_type": "code",
   "execution_count": null,
   "id": "c056b33e-10f0-4330-8ac8-731048ff14e9",
   "metadata": {},
   "outputs": [],
   "source": [
    "# let's write the results to file\n",
    "file = open(os.path.join(one_hit_dir, \"best_hit_annotations.tsv\"), \"w\")\n",
    "file.write(f\"protein\\tpdb/af50m\\tempty\\tbest_ann\\tannotation_found\\n\")\n",
    "for batch, protein_set in dict_batch_comp.items():\n",
    "    for protein in protein_set:\n",
    "        pdb_fil, af50m_fil = read_foldseek_protein(batch, protein)\n",
    "        if pdb_fil.empty:\n",
    "            file.write(f\"{protein}\\tpdb\\tTrue\\tNA\\tNA\\n\")\n",
    "        if not pdb_fil.empty:\n",
    "            pdb_fil = pdb_fil.sort_values(\"bits\", ascending = False)\n",
    "            best_ann, annotation_found = find_first_annotation_foldseek_pdb(pdb_fil)\n",
    "            file.write(f\"{protein}\\tpdb\\tFalse\\t{best_ann}\\t{annotation_found}\\n\")\n",
    "        if af50m_fil.empty:\n",
    "            file.write(f\"{protein}\\taf50m\\tTrue\\tNA\\tNA\\n\")\n",
    "        if not af50m_fil.empty:\n",
    "            af50m_fil = af50m_fil.sort_values(\"bits\", ascending = False)\n",
    "            best_ann, annotation_found = find_first_annotation_foldseek_afdb(af50m_fil)\n",
    "            file.write(f\"{protein}\\taf50m\\tFalse\\t{best_ann}\\t{annotation_found}\\n\")\n",
    "file.close()"
   ]
  },
  {
   "cell_type": "markdown",
   "id": "0941401d-9383-4d7e-b5f9-f4b4089a33f1",
   "metadata": {},
   "source": [
    "#### Goal 2 : Implement and assess a best annotated hit annotation method, using only the information stored in the search database.\n",
    "\n",
    "As a second annotation strategy, we will implement a best annotated hit method (such as implemented in Phold), using the information stored in the search database headers to annotate the proteins.\n",
    "\n",
    "##### Code annotation using a best annotated hit method, using only the information stored in the search databases\n",
    "\n",
    "To do so, we have to update the function that is used to go through the the FoldSeek output files."
   ]
  },
  {
   "cell_type": "code",
   "execution_count": 17,
   "id": "13e13891-51b6-4fc7-89aa-34c1702c4072",
   "metadata": {},
   "outputs": [],
   "source": [
    "# updated PDB hit analysis method\n",
    "def find_best_annotation_foldseek_pdb(dataframe):\n",
    "    annotation_found = False\n",
    "    for i in range(0, len(dataframe)):\n",
    "        target = dataframe.at[i, \"target\"]\n",
    "        descr = pdbid_descr_db.get(target)\n",
    "        # get top annotation that is not likely hypothetical\n",
    "        if is_likely_hypothetical_pdb(descr) == False:\n",
    "            annotation_found = True\n",
    "            best_ann = descr\n",
    "            break\n",
    "    # if all annotations are hypothetical, the flag annotation found remains false\n",
    "        # if this is the case, we just pick the highest ranked annotation\n",
    "    if annotation_found == False:\n",
    "        best_ann = pdbid_descr_db.get(dataframe.at[0, \"target\"])\n",
    "    return best_ann, annotation_found"
   ]
  },
  {
   "cell_type": "code",
   "execution_count": 18,
   "id": "63a3bc9d-63b9-48da-9d46-e6a33c6446ca",
   "metadata": {},
   "outputs": [],
   "source": [
    "# updated PDB hit analysis method\n",
    "def find_best_annotation_foldseek_afdb(dataframe):\n",
    "    annotation_found = False\n",
    "    for i in range(0, len(dataframe)):\n",
    "        target = dataframe.at[i, \"target\"]\n",
    "        descr = af50mid_descr_db.get(target)\n",
    "        # get top annotation that is not likely hypothetical\n",
    "        if is_hypothetical_af(descr) == False:\n",
    "            annotation_found = True\n",
    "            best_ann = descr\n",
    "            break\n",
    "    # if all annotations are hypothetical, the flag annotation found remains false\n",
    "        # if this is the case, we just pick the highest ranked annotation\n",
    "    if annotation_found == False:\n",
    "        best_ann = pdbid_descr_db.get(dataframe.at[0, \"target\"])\n",
    "    return best_ann, annotation_found"
   ]
  },
  {
   "cell_type": "code",
   "execution_count": null,
   "id": "827c4d7c-9893-44db-8106-950da03706bf",
   "metadata": {},
   "outputs": [],
   "source": [
    "# let's write the results to file\n",
    "file = open(os.path.join(one_hit_dir, \"best_annotated_hit_annotations.tsv\"), \"w\")\n",
    "file.write(f\"protein\\tpdb/af50m\\tempty\\tbest_ann\\tannotation_found\\n\")\n",
    "for batch, protein_set in dict_batch_comp.items():\n",
    "    for protein in protein_set:\n",
    "        pdb_fil, af50m_fil = read_foldseek_protein(batch, protein)\n",
    "        if pdb_fil.empty:\n",
    "            file.write(f\"{protein}\\tpdb\\tTrue\\tNA\\tNA\\n\")\n",
    "        if not pdb_fil.empty:\n",
    "            pdb_fil = pdb_fil.sort_values(\"bits\", ascending = False)\n",
    "            best_ann, annotation_found = find_best_annotation_foldseek_pdb(pdb_fil)\n",
    "            file.write(f\"{protein}\\tpdb\\tFalse\\t{best_ann}\\t{annotation_found}\\n\")\n",
    "        if af50m_fil.empty:\n",
    "            file.write(f\"{protein}\\taf50m\\tTrue\\tNA\\tNA\\n\")\n",
    "        if not af50m_fil.empty:\n",
    "            af50m_fil = af50m_fil.sort_values(\"bits\", ascending = False)\n",
    "            best_ann, annotation_found = find_best_annotation_foldseek_afdb(af50m_fil)\n",
    "            file.write(f\"{protein}\\taf50m\\tFalse\\t{best_ann}\\t{annotation_found}\\n\")\n",
    "file.close()"
   ]
  },
  {
   "cell_type": "markdown",
   "id": "48f6c248-6fd1-4978-b78c-1b2e39076d66",
   "metadata": {},
   "source": [
    "#### Goal 3 : Assess & compare the annotation rate of best (annotated) hit methods using only database information, including Phold.\n",
    "\n",
    "Let's compare the annotation rates of the best (annotated) hit methods and Phold. To allow for a fair comparison, we will treat the protein clusters that could be annotated through Pharokka and the truly unannotated protein clusters seperately. Moreover, we will also include statistics on how many of the protein clusters even had any database hits to begin with. \n",
    "\n",
    "Let's start by reading in the different annotation results:"
   ]
  },
  {
   "cell_type": "code",
   "execution_count": 19,
   "id": "cf4727f3-e6e4-436b-8459-48b225c1a073",
   "metadata": {},
   "outputs": [],
   "source": [
    "phold_results_dir = os.path.join(os.path.join(os.environ[\"USERPROFILE\"]), \"Desktop\", \"phage_annotation_output\", \"5_phold\") "
   ]
  },
  {
   "cell_type": "code",
   "execution_count": 20,
   "id": "51e3aab3-bfbb-47c2-b35a-472087551374",
   "metadata": {},
   "outputs": [],
   "source": [
    "# aggregating phold - structure results\n",
    "phold_structure_df = pd.DataFrame()\n",
    "    # loop over batch\n",
    "for i in range(0,21):\n",
    "    batch = f\"batch_{i}\"\n",
    "    batch_file = pd.read_csv(os.path.join(phold_results_dir, f\"output_compare_str_{batch}\", \"phold_per_cds_predictions.tsv\"), sep = \"\\t\")\n",
    "    phold_structure_df = pd.concat([batch_file, phold_structure_df], ignore_index = True) "
   ]
  },
  {
   "cell_type": "code",
   "execution_count": 21,
   "id": "332f4daa-1d2c-4b7c-81dc-0185aa705515",
   "metadata": {},
   "outputs": [],
   "source": [
    "best_hit_db_df = pd.read_csv(os.path.join(one_hit_dir, \"best_hit_annotations.tsv\"), sep = \"\\t\")"
   ]
  },
  {
   "cell_type": "code",
   "execution_count": 22,
   "id": "9e841e6a-ad9d-4676-86ef-7f58fde0a93e",
   "metadata": {},
   "outputs": [],
   "source": [
    "best_ann_hit_db_df = pd.read_csv(os.path.join(one_hit_dir, \"best_annotated_hit_annotations.tsv\"), sep = \"\\t\")"
   ]
  },
  {
   "cell_type": "markdown",
   "id": "d4a151ba-03d2-48f8-ba2e-3db9d696bbea",
   "metadata": {},
   "source": [
    "Let's combine this information per database & supplement it with whether or not protein clusters were annotated with Pharokka."
   ]
  },
  {
   "cell_type": "code",
   "execution_count": 23,
   "id": "7ae49e31-9f51-4cd5-8d72-662cca35b6d9",
   "metadata": {},
   "outputs": [],
   "source": [
    "pdb_ann = pd.merge(best_hit_db_df[best_hit_db_df[\"pdb/af50m\"] == \"pdb\"], best_ann_hit_db_df[best_ann_hit_db_df[\"pdb/af50m\"] == \"pdb\"], on = [\"protein\", \"pdb/af50m\", \"empty\"], suffixes = (\"_bh\", \"_bah\"))\n",
    "afdb_ann = pd.merge(best_hit_db_df[best_hit_db_df[\"pdb/af50m\"] == \"af50m\"], best_ann_hit_db_df[best_ann_hit_db_df[\"pdb/af50m\"] == \"af50m\"], on = [\"protein\", \"pdb/af50m\", \"empty\"], suffixes = (\"_bh\", \"_bah\"))"
   ]
  },
  {
   "cell_type": "code",
   "execution_count": 24,
   "id": "5f20f3c2-2f23-4131-8995-9821a5c9f51a",
   "metadata": {},
   "outputs": [],
   "source": [
    "# reading in Pharokka annotation information\n",
    "pharokka_results_dir = os.path.join(os.path.join(os.environ[\"USERPROFILE\"]), \"Desktop\", \"phage_annotation_output\", \"4_pharokka\") \n",
    "pharokka_df = pd.DataFrame()\n",
    "for i in range(0,21):\n",
    "    batch = f\"batch_{i}\"\n",
    "    batch_file = pd.read_csv(os.path.join(pharokka_results_dir, f\"output_{batch}\", \"pharokka_proteins_summary_output.tsv\"), sep = \"\\t\")\n",
    "    pharokka_df = pd.concat([batch_file, pharokka_df], ignore_index = True)\n",
    "# extracting the NCBI UIDs of annotated proteins\n",
    "protein_id_ann = list(pharokka_df[(pharokka_df[\"category\"] != \"unknown function\")][\"ID\"])\n",
    "ncbi_id_ann = [int(prot.removeprefix(\"protein_\")) for prot in protein_id_ann]"
   ]
  },
  {
   "cell_type": "code",
   "execution_count": 25,
   "id": "e9e5c9a2-209c-48f5-a1bc-548472a959ba",
   "metadata": {},
   "outputs": [],
   "source": [
    "# adding a column to store information on Pharokka annotation\n",
    "pdb_ann[\"pharokka_ann\"] = False\n",
    "pdb_ann.loc[pdb_ann[\"protein\"].isin(ncbi_id_ann), \"pharokka_ann\"] = True\n",
    "afdb_ann[\"pharokka_ann\"] = False\n",
    "afdb_ann.loc[afdb_ann[\"protein\"].isin(ncbi_id_ann), \"pharokka_ann\"] = True\n",
    "phold_structure_df[\"protein\"] = phold_structure_df[\"cds_id\"].str.removeprefix(\"protein_\").astype(int)\n",
    "phold_structure_df[\"pharokka_ann\"] = False\n",
    "phold_structure_df.loc[phold_structure_df[\"protein\"].isin(ncbi_id_ann), \"pharokka_ann\"] = True"
   ]
  },
  {
   "cell_type": "markdown",
   "id": "7f127f89-2451-4922-8806-8ce7a9244449",
   "metadata": {},
   "source": [
    "##### Subset of clusters annotated by Pharokka\n",
    "\n",
    "Let's have a look per database (PDB, AFdb) and method (Phold, BH, BAH) at the annotation rates, for proteins annotated by Pharokka (should be the 'easy set')."
   ]
  },
  {
   "cell_type": "code",
   "execution_count": 26,
   "id": "035b2e85-8db6-463c-8d82-38f65b53ce75",
   "metadata": {},
   "outputs": [],
   "source": [
    "num_tba_p = len(ncbi_id_ann) # the total number of protein clusters that was annotated by Pharokka"
   ]
  },
  {
   "cell_type": "code",
   "execution_count": 27,
   "id": "0ecbc3ff-46cf-4afe-9dda-dbac752ba310",
   "metadata": {},
   "outputs": [
    {
     "name": "stdout",
     "output_type": "stream",
     "text": [
      "Statistics of annotation using the PDB database:\n",
      "------------------------------------------------\n",
      "Matches against the PDB:\n",
      "    Number of clusters with matches: 1337\n",
      "    Number of clusters without matches: 1498\n",
      "------------------------------------------------\n",
      "Best hit annotation method:\n",
      "    Number of clusters with annotations: 1316 (98.43% of all those with matches, 46.42% of all Pharokka annotated clusters)\n",
      "    Number of clusters without annotations: 1519 (1498 due to no matches)\n",
      "Best annotated hit annotation method:\n",
      "    Number of clusters with annotations: 1325 (99.10% of all those with matches, 46.74% of all Pharokka annotated clusters)\n",
      "    Number of clusters without annotations: 1510 (1498 due to no matches)\n"
     ]
    }
   ],
   "source": [
    "# PDB database statistics\n",
    "pdb_ann_phar = pdb_ann[pdb_ann[\"pharokka_ann\"] == True]\n",
    "pdb_ann_phar_match = pdb_ann_phar[pdb_ann_phar[\"empty\"] == False]\n",
    "pdb_ann_phar_match_bh_ann = pdb_ann_phar_match[pdb_ann_phar_match[\"annotation_found_bh\"] == True]\n",
    "pdb_ann_phar_match_bh_unann = pdb_ann_phar_match[pdb_ann_phar_match[\"annotation_found_bh\"] == False]\n",
    "pdb_ann_phar_match_bah_ann = pdb_ann_phar_match[pdb_ann_phar_match[\"annotation_found_bah\"] == True]\n",
    "pdb_ann_phar_match_bah_unann = pdb_ann_phar_match[pdb_ann_phar_match[\"annotation_found_bah\"] == False]\n",
    "    # number of Pharokka annotated clusters with no match against PDB\n",
    "num_pdb_ann_phar_nomatch = len(pdb_ann_phar[pdb_ann_phar[\"empty\"] == True]) \n",
    "    # percentage of Pharokka annotated clusters with no match against PDB\n",
    "per_pdb_ann_phar_nomatch = \"{:.2f}\".format(num_pdb_ann_phar_nomatch*100/num_tba_p)\n",
    "    # number of Pharokka annotated clusters with annotated match (BH method)\n",
    "num_pdb_ann_phar_match_bh_ann = len(pdb_ann_phar_match_bh_ann) \n",
    "    # of the Pharokka annotated clusters which percentage gets annotated using BH\n",
    "per_pdb_ann_phar_bh_ann = \"{:.2f}\".format(num_pdb_ann_phar_match_bh_ann*100/(num_tba_p)) \n",
    "    # of the Pharokka annotated clusters with matches, which percentage gets annotated using BH\n",
    "per_pdb_ann_phar_match_bh_ann = \"{:.2f}\".format(num_pdb_ann_phar_match_bh_ann*100/(num_tba_p-num_pdb_ann_phar_nomatch)) \n",
    "    # number of Pharokka annotated clusters with annotated match (BH method)\n",
    "num_pdb_ann_phar_match_bh_unann = len(pdb_ann_phar_match_bh_unann) \n",
    "    # number of Pharokka annotated clusters with annotated match (BAH method)\n",
    "num_pdb_ann_phar_match_bah_ann = len(pdb_ann_phar_match_bah_ann) \n",
    "    # of the Pharokka annotated clusters which percentage gets annotated using BAH\n",
    "per_pdb_ann_phar_bah_ann = \"{:.2f}\".format(num_pdb_ann_phar_match_bah_ann*100/(num_tba_p)) \n",
    "    # of the Pharokka annotated clusters with matches, which percentage gets annotated using BAH\n",
    "per_pdb_ann_phar_match_bah_ann = \"{:.2f}\".format(num_pdb_ann_phar_match_bah_ann*100/(num_tba_p-num_pdb_ann_phar_nomatch)) \n",
    "    # number of Pharokka annotated clusters with unannotated match (BAH method)\n",
    "num_pdb_ann_phar_match_bah_unann = len(pdb_ann_phar_match_bah_unann)  \n",
    "print(f\"Statistics of annotation using the PDB database:\")\n",
    "print(f\"------------------------------------------------\")\n",
    "print(f\"Matches against the PDB:\")\n",
    "print(f\"    Number of clusters with matches: {num_tba_p-num_pdb_ann_phar_nomatch}\")\n",
    "print(f\"    Number of clusters without matches: {num_pdb_ann_phar_nomatch}\")\n",
    "print(f\"------------------------------------------------\")\n",
    "print(f\"Best hit annotation method:\")\n",
    "print(f\"    Number of clusters with annotations: {num_pdb_ann_phar_match_bh_ann} ({per_pdb_ann_phar_match_bh_ann}% of all those with matches, {per_pdb_ann_phar_bh_ann}% of all Pharokka annotated clusters)\")\n",
    "print(f\"    Number of clusters without annotations: {num_pdb_ann_phar_match_bh_unann + num_pdb_ann_phar_nomatch} ({num_pdb_ann_phar_nomatch} due to no matches)\")\n",
    "print(f\"Best annotated hit annotation method:\")\n",
    "print(f\"    Number of clusters with annotations: {num_pdb_ann_phar_match_bah_ann} ({per_pdb_ann_phar_match_bah_ann}% of all those with matches, {per_pdb_ann_phar_bah_ann}% of all Pharokka annotated clusters)\")\n",
    "print(f\"    Number of clusters without annotations: {num_pdb_ann_phar_match_bah_unann + num_pdb_ann_phar_nomatch} ({num_pdb_ann_phar_nomatch} due to no matches)\")"
   ]
  },
  {
   "cell_type": "code",
   "execution_count": 28,
   "id": "aac8c96f-ab68-48f8-82e8-7cad92c97921",
   "metadata": {},
   "outputs": [
    {
     "name": "stdout",
     "output_type": "stream",
     "text": [
      "Statistics of annotation using the AlphaFold database:\n",
      "------------------------------------------------\n",
      "Matches against the AlphaFold database:\n",
      "    Number of clusters with matches: 2577\n",
      "    Number of clusters without matches: 258\n",
      "------------------------------------------------\n",
      "Best hit annotation method:\n",
      "    Number of clusters with annotations: 939 (36.44% of all those with matches, 33.12% of all Pharokka annotated clusters)\n",
      "    Number of clusters without annotations: 1896 (258 due to no matches)\n",
      "Best annotated hit annotation method:\n",
      "    Number of clusters with annotations: 2277 (88.36% of all those with matches, 80.32% of all Pharokka annotated clusters)\n",
      "    Number of clusters without annotations: 558 (258 due to no matches)\n"
     ]
    }
   ],
   "source": [
    "# AlphaFold database statistics\n",
    "afdb_ann_phar = afdb_ann[afdb_ann[\"pharokka_ann\"] == True]\n",
    "afdb_ann_phar_match = afdb_ann_phar[afdb_ann_phar[\"empty\"] == False]\n",
    "afdb_ann_phar_match_bh_ann = afdb_ann_phar_match[afdb_ann_phar_match[\"annotation_found_bh\"] == True]\n",
    "afdb_ann_phar_match_bh_unann = afdb_ann_phar_match[afdb_ann_phar_match[\"annotation_found_bh\"] == False]\n",
    "afdb_ann_phar_match_bah_ann = afdb_ann_phar_match[afdb_ann_phar_match[\"annotation_found_bah\"] == True]\n",
    "afdb_ann_phar_match_bah_unann = afdb_ann_phar_match[afdb_ann_phar_match[\"annotation_found_bah\"] == False]\n",
    "    # number of Pharokka annotated clusters with no match against AlphaFold database\n",
    "num_afdb_ann_phar_nomatch = len(afdb_ann_phar[afdb_ann_phar[\"empty\"] == True]) \n",
    "    # percentage of Pharokka annotated clusters with no match against AlphaFold database\n",
    "per_afdb_ann_phar_nomatch = \"{:.2f}\".format(num_afdb_ann_phar_nomatch*100/num_tba_p)\n",
    "    # number of Pharokka annotated clusters with annotated match (BH method)\n",
    "num_afdb_ann_phar_match_bh_ann = len(afdb_ann_phar_match_bh_ann) \n",
    "    # of the Pharokka annotated clusters which percentage gets annotated using BH\n",
    "per_afdb_ann_phar_bh_ann = \"{:.2f}\".format(num_afdb_ann_phar_match_bh_ann*100/(num_tba_p)) \n",
    "    # of the Pharokka annotated clusters with matches, which percentage gets annotated using BH\n",
    "per_afdb_ann_phar_match_bh_ann = \"{:.2f}\".format(num_afdb_ann_phar_match_bh_ann*100/(num_tba_p-num_afdb_ann_phar_nomatch)) \n",
    "    # number of Pharokka annotated clusters with annotated match (BH method)\n",
    "num_afdb_ann_phar_match_bh_unann = len(afdb_ann_phar_match_bh_unann) \n",
    "    # number of Pharokka annotated clusters with annotated match (BAH method)\n",
    "num_afdb_ann_phar_match_bah_ann = len(afdb_ann_phar_match_bah_ann) \n",
    "    # of the Pharokka annotated clusters which percentage gets annotated using BAH\n",
    "per_afdb_ann_phar_bah_ann = \"{:.2f}\".format(num_afdb_ann_phar_match_bah_ann*100/(num_tba_p)) \n",
    "    # of the Pharokka annotated clusters with matches, which percentage gets annotated using BAH\n",
    "per_afdb_ann_phar_match_bah_ann = \"{:.2f}\".format(num_afdb_ann_phar_match_bah_ann*100/(num_tba_p-num_afdb_ann_phar_nomatch)) \n",
    "    # number of Pharokka annotated clusters with unannotated match (BAH method)\n",
    "num_afdb_ann_phar_match_bah_unann = len(afdb_ann_phar_match_bah_unann)  \n",
    "print(f\"Statistics of annotation using the AlphaFold database:\")\n",
    "print(f\"------------------------------------------------\")\n",
    "print(f\"Matches against the AlphaFold database:\")\n",
    "print(f\"    Number of clusters with matches: {num_tba_p-num_afdb_ann_phar_nomatch}\")\n",
    "print(f\"    Number of clusters without matches: {num_afdb_ann_phar_nomatch}\")\n",
    "print(f\"------------------------------------------------\")\n",
    "print(f\"Best hit annotation method:\")\n",
    "print(f\"    Number of clusters with annotations: {num_afdb_ann_phar_match_bh_ann} ({per_afdb_ann_phar_match_bh_ann}% of all those with matches, {per_afdb_ann_phar_bh_ann}% of all Pharokka annotated clusters)\")\n",
    "print(f\"    Number of clusters without annotations: {num_afdb_ann_phar_match_bh_unann + num_afdb_ann_phar_nomatch} ({num_afdb_ann_phar_nomatch} due to no matches)\")\n",
    "print(f\"Best annotated hit annotation method:\")\n",
    "print(f\"    Number of clusters with annotations: {num_afdb_ann_phar_match_bah_ann} ({per_afdb_ann_phar_match_bah_ann}% of all those with matches, {per_afdb_ann_phar_bah_ann}% of all Pharokka annotated clusters)\")\n",
    "print(f\"    Number of clusters without annotations: {num_afdb_ann_phar_match_bah_unann + num_afdb_ann_phar_nomatch} ({num_afdb_ann_phar_nomatch} due to no matches)\")"
   ]
  },
  {
   "cell_type": "code",
   "execution_count": 29,
   "id": "df5e9114-57b0-4460-af6f-c060d5f09844",
   "metadata": {},
   "outputs": [
    {
     "name": "stdout",
     "output_type": "stream",
     "text": [
      "Statistics of annotation using Phold:\n",
      "------------------------------------------------\n",
      "Matches against the Phold databases:\n",
      "    Number of clusters with matches: 2806\n",
      "    Number of clusters without matches: 29\n",
      "------------------------------------------------\n",
      "Best annotated hit annotation method:\n",
      "    Number of clusters with annotations: 2805 (99.96% of all those with matches, 98.94% of all Pharokka annotated clusters)\n",
      "    Number of clusters without annotations: 30 (29 due to no matches)\n"
     ]
    }
   ],
   "source": [
    "# Phold statistics\n",
    "phold_ann_phar = phold_structure_df[phold_structure_df[\"pharokka_ann\"] == True]\n",
    "phold_ann_phar_match = phold_ann_phar[phold_ann_phar[\"annotation_source\"] == \"foldseek\"]\n",
    "phold_ann_phar_match_bah_ann = phold_ann_phar_match[phold_ann_phar_match[\"function\"] != \"unknown function\"]\n",
    "phold_ann_phar_match_bah_unann = phold_ann_phar_match[phold_ann_phar_match[\"function\"] == \"unknown function\"]\n",
    "    # number of Pharokka annotated clusters with no match against Phold databases\n",
    "num_phold_ann_phar_nomatch = len(phold_ann_phar[phold_ann_phar[\"annotation_source\"] != \"foldseek\"]) \n",
    "    # percentage of Pharokka annotated clusters with no match against Phold databases\n",
    "per_phold_ann_phar_nomatch = \"{:.2f}\".format(num_phold_ann_phar_nomatch*100/num_tba_p)\n",
    "    # number of Pharokka annotated clusters with annotated match (BAH method)\n",
    "num_phold_ann_phar_match_bah_ann = len(phold_ann_phar_match_bah_ann) \n",
    "    # of the Pharokka annotated clusters, which percentage gets annotated using BAH\n",
    "per_phold_ann_phar_bah_ann = \"{:.2f}\".format(num_phold_ann_phar_match_bah_ann*100/(num_tba_p)) \n",
    "    # of the Pharokka annotated clusters with matches, which percentage gets annotated using BAH\n",
    "per_phold_ann_phar_match_bah_ann = \"{:.2f}\".format(num_phold_ann_phar_match_bah_ann*100/(num_tba_p-num_phold_ann_phar_nomatch)) \n",
    "    # number of Pharokka annotated clusters with unannotated match (BAH method)\n",
    "num_phold_ann_phar_match_bah_unann = len(phold_ann_phar_match_bah_unann)  \n",
    "print(f\"Statistics of annotation using Phold:\")\n",
    "print(f\"------------------------------------------------\")\n",
    "print(f\"Matches against the Phold databases:\")\n",
    "print(f\"    Number of clusters with matches: {num_tba_p-num_phold_ann_phar_nomatch}\")\n",
    "print(f\"    Number of clusters without matches: {num_phold_ann_phar_nomatch}\")\n",
    "print(f\"------------------------------------------------\")\n",
    "print(f\"Best annotated hit annotation method:\")\n",
    "print(f\"    Number of clusters with annotations: {num_phold_ann_phar_match_bah_ann} ({per_phold_ann_phar_match_bah_ann}% of all those with matches, {per_phold_ann_phar_bah_ann}% of all Pharokka annotated clusters)\")\n",
    "print(f\"    Number of clusters without annotations: {num_phold_ann_phar_match_bah_unann+num_phold_ann_phar_nomatch} ({num_phold_ann_phar_nomatch} due to no matches)\")"
   ]
  },
  {
   "cell_type": "code",
   "execution_count": 30,
   "id": "0181cc16-c72e-4363-862f-1a637471c382",
   "metadata": {
    "scrolled": true
   },
   "outputs": [
    {
     "name": "stderr",
     "output_type": "stream",
     "text": [
      "C:\\Users\\hanne\\miniforge3\\envs\\ffal_annotate\\Lib\\site-packages\\upsetplot\\plotting.py:795: FutureWarning: A value is trying to be set on a copy of a DataFrame or Series through chained assignment using an inplace method.\n",
      "The behavior will change in pandas 3.0. This inplace method will never work because the intermediate object on which we are setting values always behaves as a copy.\n",
      "\n",
      "For example, when doing 'df[col].method(value, inplace=True)', try using 'df.method({col: value}, inplace=True)' or df[col] = df[col].method(value) instead, to perform the operation inplace on the original object.\n",
      "\n",
      "\n",
      "  styles[\"linewidth\"].fillna(1, inplace=True)\n",
      "C:\\Users\\hanne\\miniforge3\\envs\\ffal_annotate\\Lib\\site-packages\\upsetplot\\plotting.py:796: FutureWarning: A value is trying to be set on a copy of a DataFrame or Series through chained assignment using an inplace method.\n",
      "The behavior will change in pandas 3.0. This inplace method will never work because the intermediate object on which we are setting values always behaves as a copy.\n",
      "\n",
      "For example, when doing 'df[col].method(value, inplace=True)', try using 'df.method({col: value}, inplace=True)' or df[col] = df[col].method(value) instead, to perform the operation inplace on the original object.\n",
      "\n",
      "\n",
      "  styles[\"facecolor\"].fillna(self._facecolor, inplace=True)\n",
      "C:\\Users\\hanne\\miniforge3\\envs\\ffal_annotate\\Lib\\site-packages\\upsetplot\\plotting.py:797: FutureWarning: A value is trying to be set on a copy of a DataFrame or Series through chained assignment using an inplace method.\n",
      "The behavior will change in pandas 3.0. This inplace method will never work because the intermediate object on which we are setting values always behaves as a copy.\n",
      "\n",
      "For example, when doing 'df[col].method(value, inplace=True)', try using 'df.method({col: value}, inplace=True)' or df[col] = df[col].method(value) instead, to perform the operation inplace on the original object.\n",
      "\n",
      "\n",
      "  styles[\"edgecolor\"].fillna(styles[\"facecolor\"], inplace=True)\n",
      "C:\\Users\\hanne\\miniforge3\\envs\\ffal_annotate\\Lib\\site-packages\\upsetplot\\plotting.py:798: FutureWarning: A value is trying to be set on a copy of a DataFrame or Series through chained assignment using an inplace method.\n",
      "The behavior will change in pandas 3.0. This inplace method will never work because the intermediate object on which we are setting values always behaves as a copy.\n",
      "\n",
      "For example, when doing 'df[col].method(value, inplace=True)', try using 'df.method({col: value}, inplace=True)' or df[col] = df[col].method(value) instead, to perform the operation inplace on the original object.\n",
      "\n",
      "\n",
      "  styles[\"linestyle\"].fillna(\"solid\", inplace=True)\n"
     ]
    },
    {
     "data": {
      "image/png": "[encoded data removed]",
      "text/plain": [
       "<Figure size 444.444x400 with 4 Axes>"
      ]
     },
     "metadata": {},
     "output_type": "display_data"
    }
   ],
   "source": [
    "# let's have a look at the complementarity of the annotations through an unpset plot\n",
    "set_names = [\"AlphaFold\", \"Phold\", \"PDB\"]\n",
    "all_elems = set(list(afdb_ann_phar_match_bah_ann[\"protein\"])).union(set(list(phold_ann_phar_match_bah_ann[\"protein\"]))).union(set(list(pdb_ann_phar_match_bah_ann[\"protein\"])))\n",
    "df = pd.DataFrame([[e in set(list(afdb_ann_phar_match_bah_ann[\"protein\"])), e in set(list(phold_ann_phar_match_bah_ann[\"protein\"])), e in set(list(pdb_ann_phar_match_bah_ann[\"protein\"]))] for e in all_elems], columns = set_names)\n",
    "df_up = df.groupby(set_names).size()\n",
    "plot(df_up, orientation='horizontal')\n",
    "plt.savefig(os.path.join(master_dir, \"article_figures\", \"fig5\", \"upset_bah_pharokka_cluster.svg\"), format = \"svg\", transparent = True, bbox_inches = \"tight\")"
   ]
  },
  {
   "cell_type": "code",
   "execution_count": 31,
   "id": "20b0f23f-4b6d-4671-b1f6-5f23730c0369",
   "metadata": {},
   "outputs": [
    {
     "name": "stdout",
     "output_type": "stream",
     "text": [
      "Jointly, the best annotated hit method against the PDB, AlphaFold and Phold databases annotates 98.98% of all Pharokka annotated clusters.\n"
     ]
    }
   ],
   "source": [
    "# the final annotation rate of truly unannotated proteins, when combining all databases\n",
    "per_ann_phar_joint = \"{:.2f}\".format(len(all_elems)*100/num_tba_p)\n",
    "print(f\"Jointly, the best annotated hit method against the PDB, AlphaFold and Phold databases annotates {per_ann_phar_joint}% of all Pharokka annotated clusters.\")"
   ]
  },
  {
   "cell_type": "markdown",
   "id": "1d77dcac-4d5a-4a06-b753-34b900b1384c",
   "metadata": {},
   "source": [
    "##### Subset of truly unannotated clusters\n",
    "\n",
    "Let's have a look per database (PDB, AFdb) and method (Phold, BH, BAH) at the annotation rates, for proteins that could not be annotated by Pharokka (should be the 'hard set')."
   ]
  },
  {
   "cell_type": "code",
   "execution_count": 32,
   "id": "24e60325-b9d8-43da-ad9e-163d01bed086",
   "metadata": {},
   "outputs": [],
   "source": [
    "num_tba_ta = len(proteins_w_structure) - len(ncbi_id_ann) # the total number of protein clusters that was annotated by Pharokka"
   ]
  },
  {
   "cell_type": "code",
   "execution_count": 33,
   "id": "64bb0981-5194-4e42-8817-bdd17dcdff04",
   "metadata": {},
   "outputs": [
    {
     "name": "stdout",
     "output_type": "stream",
     "text": [
      "Statistics of annotation using the PDB database:\n",
      "------------------------------------------------\n",
      "Matches against the PDB:\n",
      "    Number of clusters with matches: 508\n",
      "    Number of clusters without matches: 7138\n",
      "------------------------------------------------\n",
      "Best hit annotation method:\n",
      "    Number of clusters with annotations: 497 (97.83% of all those with matches, 6.50% of all truly unannotated clusters)\n",
      "    Number of clusters without annotations: 7149 (7138 due to no matches)\n",
      "Best annotated hit annotation method:\n",
      "    Number of clusters with annotations: 502 (98.82% of all those with matches, 6.57% of all truly unannotated clusters)\n",
      "    Number of clusters without annotations: 7144 (7138 due to no matches)\n"
     ]
    }
   ],
   "source": [
    "# PDB database statistics\n",
    "pdb_ann_ta = pdb_ann[pdb_ann[\"pharokka_ann\"] == False]\n",
    "pdb_ann_ta_match = pdb_ann_ta[pdb_ann_ta[\"empty\"] == False]\n",
    "pdb_ann_ta_match_bh_ann = pdb_ann_ta_match[pdb_ann_ta_match[\"annotation_found_bh\"] == True]\n",
    "pdb_ann_ta_match_bh_unann = pdb_ann_ta_match[pdb_ann_ta_match[\"annotation_found_bh\"] == False]\n",
    "pdb_ann_ta_match_bah_ann = pdb_ann_ta_match[pdb_ann_ta_match[\"annotation_found_bah\"] == True]\n",
    "pdb_ann_ta_match_bah_unann = pdb_ann_ta_match[pdb_ann_ta_match[\"annotation_found_bah\"] == False]\n",
    "    # number of truly unannotated clusters with no match against PDB\n",
    "num_pdb_ann_ta_nomatch = len(pdb_ann_ta[pdb_ann_ta[\"empty\"] == True]) \n",
    "    # percentage of truly unannotated clusters with no match against PDB\n",
    "per_pdb_ann_ta_nomatch = \"{:.2f}\".format(num_pdb_ann_ta_nomatch*100/num_tba_ta)\n",
    "    # number of truly unannotated clusters with annotated match (BH method)\n",
    "num_pdb_ann_ta_match_bh_ann = len(pdb_ann_ta_match_bh_ann) \n",
    "    # of the truly unannotated clusters which percentage gets annotated using BH\n",
    "per_pdb_ann_ta_bh_ann = \"{:.2f}\".format(num_pdb_ann_ta_match_bh_ann*100/(num_tba_ta)) \n",
    "    # of the truly unannotated clusters with matches, which percentage gets annotated using BH\n",
    "per_pdb_ann_ta_match_bh_ann = \"{:.2f}\".format(num_pdb_ann_ta_match_bh_ann*100/(num_tba_ta-num_pdb_ann_ta_nomatch)) \n",
    "    # number of truly unannotated clusters with annotated match (BH method)\n",
    "num_pdb_ann_ta_match_bh_unann = len(pdb_ann_ta_match_bh_unann) \n",
    "    # number of truly unannotated clusters with annotated match (BAH method)\n",
    "num_pdb_ann_ta_match_bah_ann = len(pdb_ann_ta_match_bah_ann) \n",
    "    # of the truly unannotated clusters which percentage gets annotated using BAH\n",
    "per_pdb_ann_ta_bah_ann = \"{:.2f}\".format(num_pdb_ann_ta_match_bah_ann*100/(num_tba_ta)) \n",
    "    # of the truly unannotated clusters with matches, which percentage gets annotated using BAH\n",
    "per_pdb_ann_ta_match_bah_ann = \"{:.2f}\".format(num_pdb_ann_ta_match_bah_ann*100/(num_tba_ta-num_pdb_ann_ta_nomatch)) \n",
    "    # number of truly unannotated clusters with unannotated match (BAH method)\n",
    "num_pdb_ann_ta_match_bah_unann = len(pdb_ann_ta_match_bah_unann)  \n",
    "print(f\"Statistics of annotation using the PDB database:\")\n",
    "print(f\"------------------------------------------------\")\n",
    "print(f\"Matches against the PDB:\")\n",
    "print(f\"    Number of clusters with matches: {num_tba_ta-num_pdb_ann_ta_nomatch}\")\n",
    "print(f\"    Number of clusters without matches: {num_pdb_ann_ta_nomatch}\")\n",
    "print(f\"------------------------------------------------\")\n",
    "print(f\"Best hit annotation method:\")\n",
    "print(f\"    Number of clusters with annotations: {num_pdb_ann_ta_match_bh_ann} ({per_pdb_ann_ta_match_bh_ann}% of all those with matches, {per_pdb_ann_ta_bh_ann}% of all truly unannotated clusters)\")\n",
    "print(f\"    Number of clusters without annotations: {num_pdb_ann_ta_match_bh_unann + num_pdb_ann_ta_nomatch} ({num_pdb_ann_ta_nomatch} due to no matches)\")\n",
    "print(f\"Best annotated hit annotation method:\")\n",
    "print(f\"    Number of clusters with annotations: {num_pdb_ann_ta_match_bah_ann} ({per_pdb_ann_ta_match_bah_ann}% of all those with matches, {per_pdb_ann_ta_bah_ann}% of all truly unannotated clusters)\")\n",
    "print(f\"    Number of clusters without annotations: {num_pdb_ann_ta_match_bah_unann + num_pdb_ann_ta_nomatch} ({num_pdb_ann_ta_nomatch} due to no matches)\")"
   ]
  },
  {
   "cell_type": "code",
   "execution_count": 34,
   "id": "d370b866-d884-43a4-bfb0-bd7cb8a30cbd",
   "metadata": {},
   "outputs": [
    {
     "name": "stdout",
     "output_type": "stream",
     "text": [
      "Statistics of annotation using the AlphaFold database:\n",
      "------------------------------------------------\n",
      "Matches against the AlphaFold database:\n",
      "    Number of clusters with matches: 3458\n",
      "    Number of clusters without matches: 4188\n",
      "------------------------------------------------\n",
      "Best hit annotation method:\n",
      "    Number of clusters with annotations: 441 (12.75% of all those with matches, 5.77% of all truly unannotated clusters)\n",
      "    Number of clusters without annotations: 7205 (4188 due to no matches)\n",
      "Best annotated hit annotation method:\n",
      "    Number of clusters with annotations: 1492 (43.15% of all those with matches, 19.51% of all truly unannotated clusters)\n",
      "    Number of clusters without annotations: 6154 (4188 due to no matches)\n"
     ]
    }
   ],
   "source": [
    "# AlphaFold database statistics\n",
    "afdb_ann_ta = afdb_ann[afdb_ann[\"pharokka_ann\"] == False]\n",
    "afdb_ann_ta_match = afdb_ann_ta[afdb_ann_ta[\"empty\"] == False]\n",
    "afdb_ann_ta_match_bh_ann = afdb_ann_ta_match[afdb_ann_ta_match[\"annotation_found_bh\"] == True]\n",
    "afdb_ann_ta_match_bh_unann = afdb_ann_ta_match[afdb_ann_ta_match[\"annotation_found_bh\"] == False]\n",
    "afdb_ann_ta_match_bah_ann = afdb_ann_ta_match[afdb_ann_ta_match[\"annotation_found_bah\"] == True]\n",
    "afdb_ann_ta_match_bah_unann = afdb_ann_ta_match[afdb_ann_ta_match[\"annotation_found_bah\"] == False]\n",
    "    # number of truly unannotated clusters with no match against AlphaFold database\n",
    "num_afdb_ann_ta_nomatch = len(afdb_ann_ta[afdb_ann_ta[\"empty\"] == True]) \n",
    "    # percentage of truly unannotated clusters with no match against AlphaFold database\n",
    "per_afdb_ann_ta_nomatch = \"{:.2f}\".format(num_afdb_ann_ta_nomatch*100/num_tba_ta)\n",
    "    # number of truly unannotated clusters with annotated match (BH method)\n",
    "num_afdb_ann_ta_match_bh_ann = len(afdb_ann_ta_match_bh_ann) \n",
    "    # of the truly unannotated clusters which percentage gets annotated using BH\n",
    "per_afdb_ann_ta_bh_ann = \"{:.2f}\".format(num_afdb_ann_ta_match_bh_ann*100/(num_tba_ta)) \n",
    "    # of the truly unannotated clusters with matches, which percentage gets annotated using BH\n",
    "per_afdb_ann_ta_match_bh_ann = \"{:.2f}\".format(num_afdb_ann_ta_match_bh_ann*100/(num_tba_ta-num_afdb_ann_ta_nomatch)) \n",
    "    # number of truly unannotated clusters with annotated match (BH method)\n",
    "num_afdb_ann_ta_match_bh_unann = len(afdb_ann_ta_match_bh_unann) \n",
    "    # number of truly unannotated clusters with annotated match (BAH method)\n",
    "num_afdb_ann_ta_match_bah_ann = len(afdb_ann_ta_match_bah_ann) \n",
    "    # of the truly unannotated clusters which percentage gets annotated using BAH\n",
    "per_afdb_ann_ta_bah_ann = \"{:.2f}\".format(num_afdb_ann_ta_match_bah_ann*100/(num_tba_ta)) \n",
    "    # of the truly unannotated clusters with matches, which percentage gets annotated using BAH\n",
    "per_afdb_ann_ta_match_bah_ann = \"{:.2f}\".format(num_afdb_ann_ta_match_bah_ann*100/(num_tba_ta-num_afdb_ann_ta_nomatch)) \n",
    "    # number of truly unannotated clusters with unannotated match (BAH method)\n",
    "num_afdb_ann_ta_match_bah_unann = len(afdb_ann_ta_match_bah_unann)  \n",
    "print(f\"Statistics of annotation using the AlphaFold database:\")\n",
    "print(f\"------------------------------------------------\")\n",
    "print(f\"Matches against the AlphaFold database:\")\n",
    "print(f\"    Number of clusters with matches: {num_tba_ta-num_afdb_ann_ta_nomatch}\")\n",
    "print(f\"    Number of clusters without matches: {num_afdb_ann_ta_nomatch}\")\n",
    "print(f\"------------------------------------------------\")\n",
    "print(f\"Best hit annotation method:\")\n",
    "print(f\"    Number of clusters with annotations: {num_afdb_ann_ta_match_bh_ann} ({per_afdb_ann_ta_match_bh_ann}% of all those with matches, {per_afdb_ann_ta_bh_ann}% of all truly unannotated clusters)\")\n",
    "print(f\"    Number of clusters without annotations: {num_afdb_ann_ta_match_bh_unann + num_afdb_ann_ta_nomatch} ({num_afdb_ann_ta_nomatch} due to no matches)\")\n",
    "print(f\"Best annotated hit annotation method:\")\n",
    "print(f\"    Number of clusters with annotations: {num_afdb_ann_ta_match_bah_ann} ({per_afdb_ann_ta_match_bah_ann}% of all those with matches, {per_afdb_ann_ta_bah_ann}% of all truly unannotated clusters)\")\n",
    "print(f\"    Number of clusters without annotations: {num_afdb_ann_ta_match_bah_unann + num_afdb_ann_ta_nomatch} ({num_afdb_ann_ta_nomatch} due to no matches)\")"
   ]
  },
  {
   "cell_type": "code",
   "execution_count": 35,
   "id": "f2c1b389-4a49-442d-85d6-ecdfaa12d79b",
   "metadata": {},
   "outputs": [
    {
     "name": "stdout",
     "output_type": "stream",
     "text": [
      "Statistics of annotation using Phold:\n",
      "------------------------------------------------\n",
      "Matches against the Phold databases:\n",
      "    Number of clusters with matches: 5030\n",
      "    Number of clusters without matches: 2616\n",
      "------------------------------------------------\n",
      "Best annotated hit annotation method:\n",
      "    Number of clusters with annotations: 1726 (34.31% of all those with matches, 22.57% of all truly unannotated clusters)\n",
      "    Number of clusters without annotations: 5920 (2616 due to no matches)\n"
     ]
    }
   ],
   "source": [
    "# Phold statistics\n",
    "phold_ann_ta = phold_structure_df[phold_structure_df[\"pharokka_ann\"] == False]\n",
    "phold_ann_ta_match = phold_ann_ta[phold_ann_ta[\"annotation_source\"] == \"foldseek\"]\n",
    "phold_ann_ta_match_bah_ann = phold_ann_ta_match[phold_ann_ta_match[\"function\"] != \"unknown function\"]\n",
    "phold_ann_ta_match_bah_unann = phold_ann_ta_match[phold_ann_ta_match[\"function\"] == \"unknown function\"]\n",
    "    # number of truly unannotated clusters with no match against Phold databases\n",
    "num_phold_ann_ta_nomatch = len(phold_ann_ta[phold_ann_ta[\"annotation_source\"] != \"foldseek\"]) \n",
    "    # percentage of truly unannotated clusters with no match against Phold databases\n",
    "per_phold_ann_ta_nomatch = \"{:.2f}\".format(num_phold_ann_ta_nomatch*100/num_tba_ta)\n",
    "    # number of truly unannotated clusters with annotated match (BAH method)\n",
    "num_phold_ann_ta_match_bah_ann = len(phold_ann_ta_match_bah_ann) \n",
    "    # of the truly unannotated clusters, which percentage gets annotated using BAH\n",
    "per_phold_ann_ta_bah_ann = \"{:.2f}\".format(num_phold_ann_ta_match_bah_ann*100/(num_tba_ta)) \n",
    "    # of the truly unannotated clusters with matches, which percentage gets annotated using BAH\n",
    "per_phold_ann_ta_match_bah_ann = \"{:.2f}\".format(num_phold_ann_ta_match_bah_ann*100/(num_tba_ta-num_phold_ann_ta_nomatch)) \n",
    "    # number of truly unannotated clusters with unannotated match (BAH method)\n",
    "num_phold_ann_ta_match_bah_unann = len(phold_ann_ta_match_bah_unann)  \n",
    "print(f\"Statistics of annotation using Phold:\")\n",
    "print(f\"------------------------------------------------\")\n",
    "print(f\"Matches against the Phold databases:\")\n",
    "print(f\"    Number of clusters with matches: {num_tba_ta-num_phold_ann_ta_nomatch}\")\n",
    "print(f\"    Number of clusters without matches: {num_phold_ann_ta_nomatch}\")\n",
    "print(f\"------------------------------------------------\")\n",
    "print(f\"Best annotated hit annotation method:\")\n",
    "print(f\"    Number of clusters with annotations: {num_phold_ann_ta_match_bah_ann} ({per_phold_ann_ta_match_bah_ann}% of all those with matches, {per_phold_ann_ta_bah_ann}% of all truly unannotated clusters)\")\n",
    "print(f\"    Number of clusters without annotations: {num_phold_ann_ta_match_bah_unann+num_phold_ann_ta_nomatch} ({num_phold_ann_ta_nomatch} due to no matches)\")"
   ]
  },
  {
   "cell_type": "code",
   "execution_count": 36,
   "id": "499324ce-b8d0-40b7-a994-921194aa78ec",
   "metadata": {
    "scrolled": true
   },
   "outputs": [
    {
     "name": "stderr",
     "output_type": "stream",
     "text": [
      "C:\\Users\\hanne\\miniforge3\\envs\\ffal_annotate\\Lib\\site-packages\\upsetplot\\plotting.py:795: FutureWarning: A value is trying to be set on a copy of a DataFrame or Series through chained assignment using an inplace method.\n",
      "The behavior will change in pandas 3.0. This inplace method will never work because the intermediate object on which we are setting values always behaves as a copy.\n",
      "\n",
      "For example, when doing 'df[col].method(value, inplace=True)', try using 'df.method({col: value}, inplace=True)' or df[col] = df[col].method(value) instead, to perform the operation inplace on the original object.\n",
      "\n",
      "\n",
      "  styles[\"linewidth\"].fillna(1, inplace=True)\n",
      "C:\\Users\\hanne\\miniforge3\\envs\\ffal_annotate\\Lib\\site-packages\\upsetplot\\plotting.py:796: FutureWarning: A value is trying to be set on a copy of a DataFrame or Series through chained assignment using an inplace method.\n",
      "The behavior will change in pandas 3.0. This inplace method will never work because the intermediate object on which we are setting values always behaves as a copy.\n",
      "\n",
      "For example, when doing 'df[col].method(value, inplace=True)', try using 'df.method({col: value}, inplace=True)' or df[col] = df[col].method(value) instead, to perform the operation inplace on the original object.\n",
      "\n",
      "\n",
      "  styles[\"facecolor\"].fillna(self._facecolor, inplace=True)\n",
      "C:\\Users\\hanne\\miniforge3\\envs\\ffal_annotate\\Lib\\site-packages\\upsetplot\\plotting.py:797: FutureWarning: A value is trying to be set on a copy of a DataFrame or Series through chained assignment using an inplace method.\n",
      "The behavior will change in pandas 3.0. This inplace method will never work because the intermediate object on which we are setting values always behaves as a copy.\n",
      "\n",
      "For example, when doing 'df[col].method(value, inplace=True)', try using 'df.method({col: value}, inplace=True)' or df[col] = df[col].method(value) instead, to perform the operation inplace on the original object.\n",
      "\n",
      "\n",
      "  styles[\"edgecolor\"].fillna(styles[\"facecolor\"], inplace=True)\n",
      "C:\\Users\\hanne\\miniforge3\\envs\\ffal_annotate\\Lib\\site-packages\\upsetplot\\plotting.py:798: FutureWarning: A value is trying to be set on a copy of a DataFrame or Series through chained assignment using an inplace method.\n",
      "The behavior will change in pandas 3.0. This inplace method will never work because the intermediate object on which we are setting values always behaves as a copy.\n",
      "\n",
      "For example, when doing 'df[col].method(value, inplace=True)', try using 'df.method({col: value}, inplace=True)' or df[col] = df[col].method(value) instead, to perform the operation inplace on the original object.\n",
      "\n",
      "\n",
      "  styles[\"linestyle\"].fillna(\"solid\", inplace=True)\n"
     ]
    },
    {
     "data": {
      "image/png": "[encoded data removed]",
      "text/plain": [
       "<Figure size 533.333x400 with 4 Axes>"
      ]
     },
     "metadata": {},
     "output_type": "display_data"
    }
   ],
   "source": [
    "# let's have a look at the complementarity of the annotations through an unpset plot\n",
    "set_names = [\"AlphaFold\", \"Phold\", \"PDB\"]\n",
    "all_elems = set(list(afdb_ann_ta_match_bah_ann[\"protein\"])).union(set(list(phold_ann_ta_match_bah_ann[\"protein\"]))).union(set(list(pdb_ann_ta_match_bah_ann[\"protein\"])))\n",
    "df = pd.DataFrame([[e in set(list(afdb_ann_ta_match_bah_ann[\"protein\"])), e in set(list(phold_ann_ta_match_bah_ann[\"protein\"])), e in set(list(pdb_ann_ta_match_bah_ann[\"protein\"]))] for e in all_elems], columns = set_names)\n",
    "df_up = df.groupby(set_names).size()\n",
    "plot(df_up, orientation='horizontal')\n",
    "plt.savefig(os.path.join(master_dir, \"article_figures\", \"fig5\", \"upset_bah_trulyunann_cluster.svg\"), format = \"svg\", transparent = True, bbox_inches = \"tight\")"
   ]
  },
  {
   "cell_type": "code",
   "execution_count": 37,
   "id": "1d7fce8a-3842-4120-8a45-0eefbf1ceef6",
   "metadata": {},
   "outputs": [
    {
     "name": "stdout",
     "output_type": "stream",
     "text": [
      "Jointly, the best annotated hit method against the PDB, AlphaFold and Phold databases annotates 29.44% of all truly unannotated clusters.\n"
     ]
    }
   ],
   "source": [
    "# the final annotation rate of truly unannotated proteins, when combining all databases\n",
    "per_ann_ta_joint = \"{:.2f}\".format(len(all_elems)*100/num_tba_ta)\n",
    "print(f\"Jointly, the best annotated hit method against the PDB, AlphaFold and Phold databases annotates {per_ann_ta_joint}% of all truly unannotated clusters.\")"
   ]
  },
  {
   "cell_type": "code",
   "execution_count": 38,
   "id": "98a215fd-abae-41da-83b8-8ebd47d61176",
   "metadata": {},
   "outputs": [
    {
     "data": {
      "text/plain": [
       "0.3118631321677007"
      ]
     },
     "execution_count": 38,
     "metadata": {},
     "output_type": "execute_result"
    }
   ],
   "source": [
    "# what percentage of all truly unannotated proteins is this?\n",
    "agg_df = cluster_protein_match.groupby(\"cluster_rep\").size().reset_index(name = \"counts\")\n",
    "sum(agg_df[agg_df[\"cluster_rep\"].isin(all_elems)][\"counts\"])/sum(agg_df[agg_df[\"cluster_rep\"].isin(list(phold_ann_ta[\"protein\"]))][\"counts\"])"
   ]
  },
  {
   "cell_type": "markdown",
   "id": "72a09b2b-122b-45b4-b5f4-d6525d99f657",
   "metadata": {},
   "source": [
    "#### Goal 4 : Implement a best annotated hit annotation method, that uses information fetched from UniProt to annotate proteins\n",
    "\n",
    "Let's investigate whether switching out database contained protein annotations, for UniProt annotations, helps improve the overall annotation rate."
   ]
  },
  {
   "cell_type": "markdown",
   "id": "9d8ffcd0-53ab-4367-94d2-223bb1e28f44",
   "metadata": {},
   "source": [
    "##### Step 1 - fetching UniProt annotations\n",
    "\n",
    "First, we have to accumulate all the UniProt identifiers we wish to query. For the AlphaFold database results, this information can simply be fetched from the FoldSeek output."
   ]
  },
  {
   "cell_type": "code",
   "execution_count": 39,
   "id": "6f8273fc-1e46-48a2-a90e-bb76c9e43dcb",
   "metadata": {},
   "outputs": [],
   "source": [
    "# function to extract UniProt ID from the FoldSeek target column\n",
    "def get_UniProtID_from_target(target):\n",
    "    uniprot_id = target.split('-')[1]\n",
    "    return uniprot_id"
   ]
  },
  {
   "cell_type": "code",
   "execution_count": 40,
   "id": "da55e254-6168-425d-94ed-80187e9c5ea5",
   "metadata": {},
   "outputs": [],
   "source": [
    "# instantiate empty dictionary\n",
    "dict_af50m_UniProtID_NCBIid = {}"
   ]
  },
  {
   "cell_type": "code",
   "execution_count": 41,
   "id": "b2d0eae8-e114-48f4-8209-4c4f6cdf5f25",
   "metadata": {},
   "outputs": [],
   "source": [
    "# loop through batches, then through proteins\n",
    "for index_batch, batch in dict_batch_comp.items():\n",
    "    batch_dir = os.path.join(comp_out_dir, f\"batch_{index_batch}\", f\"batch_{index_batch}\")\n",
    "    for protein in batch:\n",
    "        # read the filtered data\n",
    "        filtered_foldseek = pd.read_csv(os.path.join(batch_dir, f\"{protein}_foldseek_af50m_filtered.csv\"))\n",
    "        # check if it has any content\n",
    "        if not filtered_foldseek.empty:\n",
    "            # loop over entries\n",
    "            for i in range(0,len(filtered_foldseek)):\n",
    "                # extract UniProt ID\n",
    "                uniprot_id = get_UniProtID_from_target(filtered_foldseek.at[i, \"target\"])\n",
    "                # if UniProt ID already in dictionary: add NCBI ID to list of already matched NCBI IDs as value for the UniProt ID\n",
    "                if uniprot_id in dict_af50m_UniProtID_NCBIid.keys():\n",
    "                    prot_list = dict_af50m_UniProtID_NCBIid.get(uniprot_id)\n",
    "                # if UniProt ID not yet in dictionary: create new key-value pair linking NCBI ID to UniProt ID\n",
    "                if uniprot_id not in dict_af50m_UniProtID_NCBIid.keys():\n",
    "                    prot_list = list()\n",
    "                prot_list.append(protein)\n",
    "                dict_af50m_UniProtID_NCBIid[uniprot_id] = list(set(prot_list))"
   ]
  },
  {
   "cell_type": "markdown",
   "id": "f413a8be-18bd-4b33-aa5d-7a7ebd66bf9d",
   "metadata": {},
   "source": [
    "For the PDB, we first have to cross link PDB ID and chain combinations to UniProt IDs. We will exclude any obsolete PDB IDs. \n",
    "\n",
    "*This was executed in July, 2024, and not repeated here*"
   ]
  },
  {
   "cell_type": "code",
   "execution_count": null,
   "id": "bfdef659-bcdd-45f2-a09c-cbcd12951d33",
   "metadata": {},
   "outputs": [],
   "source": [
    "# list of obsolete PDB IDs on date of search (July 15th, 2024)\n",
    "obsolete_ids = Bio.PDB.PDBList.get_all_obsolete(Bio.PDB.PDBList())"
   ]
  },
  {
   "cell_type": "code",
   "execution_count": 42,
   "id": "42ec4a28-f519-466a-ae15-7b2ddd533138",
   "metadata": {},
   "outputs": [],
   "source": [
    "# read from file\n",
    "with open(os.path.join(master_dir, \"associated_data\", \"list_obsolete_PDB_ids_15jul2024.txt\"), \"r\") as file:\n",
    "    obsolete_ids = [line.strip() for line in file]"
   ]
  },
  {
   "cell_type": "code",
   "execution_count": 43,
   "id": "c05001f5-843e-4d59-87ad-b3bb54c9581b",
   "metadata": {},
   "outputs": [],
   "source": [
    "# necessary functions to ...\n",
    "\n",
    "# from FoldSeek target column, extract PDB id and chain\n",
    "def get_PDBid_chain_from_target(target):\n",
    "    pdb_id = target.split('.')[0]\n",
    "    chain = target.split('_')[-1]\n",
    "    return pdb_id, chain\n",
    "\n",
    "# check if PDB ID is obsolete\n",
    "def check_PDBid_active(pdb_id, obsolete_list):\n",
    "    if pdb_id.upper() in obsolete_list:\n",
    "        return False\n",
    "    else:\n",
    "        return True\n",
    "\n",
    "# from PDB ID, get all PDB polymer entities\n",
    "def get_PDB_entities_from_entry(pdb_id):\n",
    "    url = f\"https://data.rcsb.org/rest/v1/core/entry/{pdb_id}\"\n",
    "    r = sess.get(url)\n",
    "    data = json.loads(r.text)\n",
    "    return data[\"rcsb_entry_container_identifiers\"].get(\"polymer_entity_ids\")\n",
    "\n",
    "# match PDB entity to protein chain\n",
    "def get_PDB_entity_with_chain(entity_ids,pdb_id,chain):\n",
    "    for entity in entity_ids:\n",
    "        url = f\"https://data.rcsb.org/rest/v1/core/polymer_entity/{pdb_id}/{entity}\"\n",
    "        r = sess.get(url)\n",
    "        data = json.loads(r.text)\n",
    "        # assumption: FoldSeek gives author chain naming, not PDB renamed chain names\n",
    "        if chain in data[\"rcsb_polymer_entity_container_identifiers\"].get(\"auth_asym_ids\"):\n",
    "            return entity\n",
    "        else:\n",
    "            continue\n",
    "\n",
    "# get UniProt ID based on the PDB ID and entity (corresponding to the chain reported by FoldSeek)\n",
    "def get_UniProt_from_PDB_entity(pdb_id,entity):\n",
    "    url = f\"https://data.rcsb.org/rest/v1/core/polymer_entity/{pdb_id}/{entity}\"\n",
    "    r = sess.get(url)\n",
    "    if not r.ok:\n",
    "      r.raise_for_status()\n",
    "    data = json.loads(r.text)\n",
    "    return data[\"rcsb_polymer_entity_container_identifiers\"].get(\"uniprot_ids\")"
   ]
  },
  {
   "cell_type": "code",
   "execution_count": 44,
   "id": "cf5151e6-4254-449e-9f80-e87485f4c518",
   "metadata": {},
   "outputs": [],
   "source": [
    "# instantiate empty dictionaries\n",
    "dict_pdb_UniProtID_NCBIid = {}\n",
    "dict_pdb_PDBidch_UniProtID = {}"
   ]
  },
  {
   "cell_type": "markdown",
   "id": "aac37b16-a2e1-4d70-bbe7-1a4623a86d88",
   "metadata": {},
   "source": [
    "*This was executed in July, 2024, and not repeated here*"
   ]
  },
  {
   "cell_type": "code",
   "execution_count": null,
   "id": "1c43223b-6800-4ede-a526-7770cfb3c3de",
   "metadata": {},
   "outputs": [],
   "source": [
    "# loop through batches, then through proteins\n",
    "for index_batch, batch in  dict_batch_comp.items():\n",
    "    batch_dir = os.path.join(comp_out_dir, f\"batch_{index_batch}\", f\"batch_{index_batch}\")\n",
    "    for protein in batch:\n",
    "        # read the filtered data\n",
    "        filtered_foldseek = pd.read_csv(os.path.join(batch_dir, f\"{protein}_foldseek_pdb_filtered.csv\"))\n",
    "        # check if it has any content\n",
    "        if not filtered_foldseek.empty:\n",
    "            # loop over entries\n",
    "            for i in range(0,len(filtered_foldseek)):\n",
    "                # extract PDB ID and chain\n",
    "                pdb_id, chain = get_PDBid_chain_from_target(filtered_foldseek.at[i,\"target\"])\n",
    "                # if PDB ID chain combo already in dictionary\n",
    "                if f\"{pdb_id}_{chain}\" in dict_pdb_PDBidch_UniProtID.keys():\n",
    "                    # get UniProt ID previously stored\n",
    "                    uniprot_ids = dict_pdb_PDBidch_UniProtID.get(f\"{pdb_id}_{chain}\")\n",
    "                    if uniprot_ids is not None:\n",
    "                        for uniprot_id in uniprot_ids:\n",
    "                            # add NCBI ID to list of matched UniProt IDs\n",
    "                            if uniprot_id not in dict_pdb_UniProtID_NCBIid.keys():\n",
    "                                prot_list = list()\n",
    "                            if uniprot_id in dict_pdb_UniProtID_NCBIid.keys():\n",
    "                                prot_list = dict_pdb_UniProtID_NCBIid.get(uniprot_id)\n",
    "                            prot_list.append(protein)\n",
    "                            dict_pdb_UniProtID_NCBIid[uniprot_id] = list(set(prot_list))\n",
    "                    \n",
    "                # if PDB ID chain combo not yet in dictionary\n",
    "                if f\"{pdb_id}_{chain}\" not in dict_pdb_PDBidch_UniProtID.keys():\n",
    "                    # check if PDB ID is obsolete\n",
    "                    if not check_PDBid_active(pdb_id, obsolete_ids):\n",
    "                        # if obsolete, instead of storing a UniProt ID we store \"Obsolete PDB ID\"\n",
    "                        dict_pdb_PDBidch_UniProtID[f\"{pdb_id}_{chain}\"] = \"Obsolete PDB ID\"\n",
    "                    if check_PDBid_active(pdb_id, obsolete_ids):\n",
    "                        # fetch UniProt ID(s) - this can be multiple\n",
    "                        uniprot_ids = get_UniProt_from_PDB_entity(pdb_id,get_PDB_entity_with_chain(get_PDB_entities_from_entry(pdb_id),pdb_id,chain))\n",
    "                        # add link PDB id chain combo to UniProt IDs\n",
    "                        dict_pdb_PDBidch_UniProtID[f\"{pdb_id}_{chain}\"] = uniprot_ids\n",
    "                        if uniprot_ids is not None:\n",
    "                        # link UniProt IDs to NCBI protein ids\n",
    "                            for uniprot_id in uniprot_ids:\n",
    "                                if uniprot_id not in dict_pdb_UniProtID_NCBIid.keys():\n",
    "                                    prot_list = list()\n",
    "                                if uniprot_id in dict_pdb_UniProtID_NCBIid.keys():\n",
    "                                    prot_list = dict_pdb_UniProtID_NCBIid.get(uniprot_id)\n",
    "                                prot_list.append(protein)\n",
    "                                dict_pdb_UniProtID_NCBIid[uniprot_id] = list(set(prot_list))"
   ]
  },
  {
   "cell_type": "code",
   "execution_count": 45,
   "id": "94a7b6e3-a30d-46b6-91be-46b2a4cf1f8e",
   "metadata": {},
   "outputs": [],
   "source": [
    "# reading in the map between PDB ID + chain and UniProt ID\n",
    "    # reading from file\n",
    "with open(os.path.join(data_dir, \"dict_pdb_PDBidch_UniProtID.csv\"), newline=\"\") as csvfile:\n",
    "    reader = csv.DictReader(csvfile)\n",
    "    for row in reader:\n",
    "        dict_pdb_PDBidch_UniProtID = row\n",
    "    # proper parsing of lists in the values\n",
    "for key, value in dict_pdb_PDBidch_UniProtID.items():\n",
    "    updated_value = list()\n",
    "    if \"Obsolete PDB ID\" in value:\n",
    "        updated_value.append(\"Obsolete PDB ID\")\n",
    "    elif value == '':\n",
    "        updated_value.append(None)\n",
    "    elif \",\" not in value:\n",
    "        updated_value.append(value[2:-2])\n",
    "    if \",\" in value:\n",
    "        cleaned_value = value[1:-1]\n",
    "        for entry in cleaned_value.split(\",\"):\n",
    "            updated_value.append(entry.strip()[1:-1])\n",
    "    dict_pdb_PDBidch_UniProtID[key] = updated_value"
   ]
  },
  {
   "cell_type": "code",
   "execution_count": 46,
   "id": "2c8427c4-8102-4744-9499-0a4dde9baf46",
   "metadata": {},
   "outputs": [],
   "source": [
    "# reading in the map between UniProt and NCBI id, for the PDB results\n",
    "    # reading from file\n",
    "with open(os.path.join(data_dir, \"dict_pdb_UniProtID_NCBIid.csv\"), newline=\"\") as csvfile:\n",
    "    reader = csv.DictReader(csvfile)\n",
    "    for row in reader:\n",
    "        dict_pdb_UniProtID_NCBIid = row\n",
    "    # proper parsing of lists in the values\n",
    "for key, value in dict_pdb_UniProtID_NCBIid.items():\n",
    "    updated_value = list()\n",
    "    if \",\" in value:\n",
    "        cleaned_value = value[1:-1]\n",
    "        for entry in cleaned_value.split(\",\"):\n",
    "            updated_value.append(int(entry.strip()[1:-1]))\n",
    "    dict_pdb_UniProtID_NCBIid[key] = updated_value"
   ]
  },
  {
   "cell_type": "markdown",
   "id": "329855b2-10f7-44df-9b83-607bcf9db43f",
   "metadata": {},
   "source": [
    "Then, we will extract the function description for all proteins for which we obtained the UniProt IDs from the filtered FoldSeek results. "
   ]
  },
  {
   "cell_type": "code",
   "execution_count": 47,
   "id": "d16d35ca-85ad-4919-bd53-1fbb4cc295f0",
   "metadata": {},
   "outputs": [],
   "source": [
    "# functions to ...\n",
    "\n",
    "# get protein name, for a single UniProt ID\n",
    "def get_protein_name_string(uniprot_id):\n",
    "    # note: unsure if protein_name is a required field, if we get errors, look into this!\n",
    "    url = f\"https://rest.uniprot.org/uniprotkb/search?query={uniprot_id}&fields=protein_name&format=tsv\"\n",
    "    r = sess.get(url)\n",
    "    r.raise_for_status()\n",
    "    content = r.text\n",
    "    names = content.split('\\n')[1:-1]\n",
    "    # if the UniProt entry was marked as obsolete, access its UniParc accession\n",
    "    if \"deleted\" in names:\n",
    "        try:\n",
    "            return \";\".join([str(name) for name in get_uniparc_entry(uniprot_id)])\n",
    "        except TypeError:\n",
    "            return \"WARNING UniProt ID is obsolete and issue with fetching UniParc information\"\n",
    "    else:\n",
    "        return \";\".join([str(name) for name in names])\n",
    "\n",
    "# get protein names (and whether the protein is still in UniProt) from a UniParc entry matching the obsolete UniProt ID\n",
    "def get_uniparc_entry(uniprot_id):\n",
    "    requestURL = f\"https://www.ebi.ac.uk/proteins/api/uniparc/accession/{uniprot_id}\"\n",
    "    r = requests.get(requestURL, headers={ \"Accept\" : \"application/json\"})\n",
    "    if not r.ok:\n",
    "      r.raise_for_status()\n",
    "    responseBody = r.text\n",
    "    data = json.loads(r.text)\n",
    "    uniparc_entries = []\n",
    "    uniparc_entries.append(\"WARNING UniProt ID obsolete, info fetched from UniParc\")\n",
    "    for i in range(0,len(data[\"dbReference\"])):\n",
    "        for j in data[\"dbReference\"][i].get(\"property\"):\n",
    "            if j.get(\"type\") == \"protein_name\":\n",
    "                uniparc_entries.append(f\"{data['dbReference'][i].get('id')} : {j.get('value')} (active UniProt ID: {data['dbReference'][i].get('active')})\")\n",
    "    return uniparc_entries"
   ]
  },
  {
   "cell_type": "code",
   "execution_count": 48,
   "id": "243df778-14a5-44cb-90ad-59bee971b7e8",
   "metadata": {},
   "outputs": [],
   "source": [
    " # list of failed IDs\n",
    "failed_UniProtID_function = list()\n",
    "# dict storing functions\n",
    "dict_UniProtID_function = {}\n",
    "# get all the UniProt IDs from the two dictionaries:\n",
    "uniprot_to_search = list(set(list(dict_af50m_UniProtID_NCBIid.keys()) + list(dict_pdb_UniProtID_NCBIid.keys())))"
   ]
  },
  {
   "cell_type": "markdown",
   "id": "a089a8b8-4fbf-4cad-b3a2-edf04c9597e7",
   "metadata": {},
   "source": [
    "*This was executed July 15-16, 2024, on UniProt release 2024_03, and not repeated here.*"
   ]
  },
  {
   "cell_type": "code",
   "execution_count": null,
   "id": "96a71c68-145c-4982-b3cb-5a3263f1581a",
   "metadata": {},
   "outputs": [],
   "source": [
    "# search each element, store in dict\n",
    "for uniprot_id in uniprot_to_search:\n",
    "    # this loop allows us to rerun upon errors\n",
    "    if uniprot_id in dict_UniProtID_function.keys():\n",
    "        continue\n",
    "    if uniprot_id not in dict_UniProtID_function.keys():\n",
    "        try:\n",
    "            function = get_protein_name_string(uniprot_id)\n",
    "            dict_UniProtID_function[uniprot_id] = function\n",
    "        except requests.exceptions.ReadTimeout:\n",
    "            failed_UniProtID_function.append(uniprot_id)\n",
    "            print(f\"Failed to fetch information on UniProt ID {uniprot_id} due to ReadTimeout error. Stored this ID to the list of failed IDs. Try again later.\")\n",
    "        except JSONDecodeError:\n",
    "            failed_UniProtID_function.append(uniprot_id)\n",
    "            print(f\"Failed to fetch information on UniProt ID {uniprot_id} due to JSON decode error. Stored this ID to the list of failed IDs. Try again later.\")\n",
    "        except requests.exceptions.ConnectionError:\n",
    "            failed_UniProtID_function.append(uniprot_id)\n",
    "            print(f\"Failed to fetch information on UniProt ID {uniprot_id} due to Connection error. Stored this ID to the list of failed IDs. Try again later.\")"
   ]
  },
  {
   "cell_type": "code",
   "execution_count": 49,
   "id": "b8ce355e-a064-42da-9f52-73f5fb0a3cf0",
   "metadata": {},
   "outputs": [],
   "source": [
    "# reading in the map between UniProt ID and UniProt protein names\n",
    "    # since I did not use DictWriter properly, we have created too large fields for DictReader to reader, which I first have to accomodate here\n",
    "max_int = sys.maxsize\n",
    "while True:\n",
    "    # decrease the max_int value by factor 10 \n",
    "    # as long as the OverflowError occurs.\n",
    "    try:\n",
    "        csv.field_size_limit(max_int)\n",
    "        break\n",
    "    except OverflowError:\n",
    "        max_int = int(max_int/10)\n",
    "csv.field_size_limit(max_int)\n",
    "    # actually reading in the data\n",
    "with open(os.path.join(data_dir, \"dict_UniProtID_function.csv\"), newline=\"\") as csvfile:\n",
    "    reader = csv.DictReader(csvfile)\n",
    "    for row in reader:\n",
    "        dict_UniProtID_function = row"
   ]
  },
  {
   "cell_type": "markdown",
   "id": "2caf0ae0-1644-4a39-8e1e-51a98dc47740",
   "metadata": {},
   "source": [
    "##### Step 2 - annotation using UniProt fetched annotations\n",
    "\n",
    "Now that we have fetched these annotations from UniProt, we can use them to annotate the proteins in our dataset. To do this, we have to write some new functions, and refine some existing ones."
   ]
  },
  {
   "cell_type": "code",
   "execution_count": 50,
   "id": "79031c95-c226-4a1d-bde5-b7af7392ee41",
   "metadata": {},
   "outputs": [],
   "source": [
    "# functions to ...\n",
    "\n",
    "# obtain the function linked to a specific UniProt ID\n",
    "def get_function_from_UniProtID(uniprot_id):\n",
    "    if uniprot_id in dict_UniProtID_function.keys():\n",
    "        descr = dict_UniProtID_function.get(uniprot_id)\n",
    "    if uniprot_id not in dict_UniProtID_function.keys():\n",
    "        descr = \"[UNIPROT RECORD NOT YET FETCHED]\"\n",
    "    return descr\n",
    "\n",
    "# obtain the function linked to a specific PDB ID chain \n",
    "def get_function_from_PDB(pdb_id, chain):\n",
    "    if f\"{pdb_id}_{chain}\" in dict_pdb_PDBidch_UniProtID.keys():\n",
    "        uniprot_ids = dict_pdb_PDBidch_UniProtID.get(f\"{pdb_id}_{chain}\")\n",
    "        if \"Obsolete PDB ID\" in uniprot_ids:\n",
    "            descr = \"WARNING This PDB ID is obsolete, hence, no information could be fetched\"\n",
    "        if None in uniprot_ids:\n",
    "            descr = \"WARNING No UniProt ID was linked to this PDB entry, hence, no information could be fetched\"\n",
    "        else:\n",
    "            string = \"\"\n",
    "            for uniprot_id in uniprot_ids:\n",
    "                string += get_function_from_UniProtID(uniprot_id) + f\" [UniProt ID: {uniprot_id}] \"\n",
    "            descr = string\n",
    "    if f\"{pdb_id}_{chain}\" not in dict_pdb_PDBidch_UniProtID.keys():\n",
    "        descr = \"[PDB RECORD NOT YET FETCHED]\"\n",
    "    return descr"
   ]
  },
  {
   "cell_type": "code",
   "execution_count": 51,
   "id": "619851aa-b6aa-4d97-94ca-2897459c3546",
   "metadata": {},
   "outputs": [],
   "source": [
    "# functions for dealing with UniProt fetching issues\n",
    "\n",
    "# first things first, a function to recognize whether we had to resort to UniParc information\n",
    "def uniparc_needed(descr):\n",
    "    if re.search(\"UniParc\", descr) != None:\n",
    "        return True\n",
    "    else:\n",
    "        return False\n",
    "\n",
    "# a function to recognize whether the UniParc fetch failed\n",
    "def uniparc_fail(descr):\n",
    "    if re.fullmatch(\"WARNING UniProt ID is obsolete and issue with fetching UniParc information\", descr) != None:\n",
    "        return True\n",
    "    else:\n",
    "        return False\n",
    "\n",
    "# a function that splits the different results obtained from UniParc into a list of annotations, \n",
    "    # for which we can then check whether this list contains a proper annotation\n",
    "def uniparc2list(descr):\n",
    "    # get the different uniparc entries\n",
    "    uniparc_entries = descr.split(';')[1:]\n",
    "    entries_clean = list()\n",
    "    for entry in uniparc_entries:\n",
    "        # get the protein description out of the entry \n",
    "        entry_cleaned_step1 = re.sub(r\"[\\w+]+ : \", \"\", entry)\n",
    "        entry_cleaned_step2 = re.sub(r\" \\(active UniProt ID: [YN]\\)\", \"\", entry_cleaned_step1)\n",
    "        entries_clean.append(entry_cleaned_step2)\n",
    "    return entries_clean\n",
    "\n",
    "# a function that extracts the best annotation from the list of annotations obtained from UniParc\n",
    "def extract_best_uniparc(entries_list):\n",
    "    annotation_found = False\n",
    "    for descr in entries_list:\n",
    "        if is_hypothetical_af(descr) == False:\n",
    "            annotation_found = True\n",
    "            best_ann = descr\n",
    "            break\n",
    "    if annotation_found == False:\n",
    "        best_ann = entries_list[0]\n",
    "    return best_ann"
   ]
  },
  {
   "cell_type": "code",
   "execution_count": 52,
   "id": "1ffb1fbf-0c0b-41fa-82fe-99ad77e0a305",
   "metadata": {},
   "outputs": [],
   "source": [
    "def find_best_annotation_foldseek_af50m_up(dataframe):\n",
    "    annotation_found = False\n",
    "    for i in range(0, len(dataframe)):\n",
    "        uniprot_id = get_UniProtID_from_target(dataframe.at[i, \"target\"])\n",
    "        descr = get_function_from_UniProtID(uniprot_id)\n",
    "        # checking if UniProt entry has been fetched\n",
    "        if descr == \"[UNIPROT RECORD NOT YET FETCHED]\":\n",
    "            continue\n",
    "        # checking if entry contains information from UniParc:\n",
    "        uniparc_used = False\n",
    "        if uniparc_needed(descr):\n",
    "            uniparc_used = True\n",
    "            if uniparc_fail(descr) == False:\n",
    "                descr = extract_best_uniparc(uniparc2list(descr))\n",
    "            if uniparc_fail(descr) == True:\n",
    "                continue\n",
    "        # checking whether (best UniParc) description is annotated\n",
    "        if is_hypothetical_af(descr) == False:\n",
    "            annotation_found = True\n",
    "            best_ann_index = i\n",
    "            break\n",
    "    # if all annotations are hypothetical the annotation_found flag remains False\n",
    "    if annotation_found == False:\n",
    "        best_ann_index = 0\n",
    "    best_ann = get_function_from_UniProtID(get_UniProtID_from_target(dataframe.at[best_ann_index, \"target\"]))\n",
    "    return best_ann, annotation_found"
   ]
  },
  {
   "cell_type": "code",
   "execution_count": 53,
   "id": "2d968442-ba58-461b-b091-9394b86583be",
   "metadata": {},
   "outputs": [],
   "source": [
    "# functions for dealing with PDB specific issues\n",
    "\n",
    "# a function for splitting multiple pdb descriptions into a list\n",
    "def pdbdescr2list(pdb_descr):\n",
    "    str_to_split = re.sub(r\" \\[UniProt ID: [\\w+]+\\]\", \"SPLITHERE\", pdb_descr)\n",
    "    descr_list = str_to_split.split(\"SPLITHERE\")[:-1]\n",
    "    stripped_list = [descr.strip() for descr in descr_list]\n",
    "    return stripped_list\n",
    "\n",
    "# a function that extracts the best annotation from the list of annotations obtained from PDB\n",
    "def extract_best_pdb(entries_list):\n",
    "    annotation_found = False\n",
    "    for descr in entries_list:\n",
    "        if is_hypothetical_af(descr) == False:\n",
    "            annotation_found = True\n",
    "            best_ann = descr\n",
    "            break\n",
    "    if annotation_found == False:\n",
    "        best_ann = entries_list[0]\n",
    "    return best_ann"
   ]
  },
  {
   "cell_type": "code",
   "execution_count": 54,
   "id": "ef0cdd50-a6de-43c2-b105-e78b1c6050c4",
   "metadata": {},
   "outputs": [],
   "source": [
    "# actual method for parsing\n",
    "def find_best_annotation_foldseek_pdb_up(dataframe):\n",
    "    annotation_found = False\n",
    "    for i in range(0, len(dataframe)):\n",
    "        pdb_id, chain = get_PDBid_chain_from_target(dataframe.at[i,\"target\"])\n",
    "        full_descr = get_function_from_PDB(pdb_id, chain)\n",
    "        if re.fullmatch(r\"\\[(PDB|UNIPROT) RECORD NOT YET FETCHED\\]\", full_descr) != None:\n",
    "            continue\n",
    "        if full_descr == \"WARNING This PDB ID is obsolete, hence, no information could be fetched\":\n",
    "            continue\n",
    "        if full_descr == \"WARNING No UniProt ID was linked to this PDB entry, hence, no information could be fetched\":\n",
    "            continue\n",
    "        descr = extract_best_pdb(pdbdescr2list(full_descr))\n",
    "        # checking if entry contains information from UniParc:\n",
    "        uniparc_used = False\n",
    "        if uniparc_needed(descr):\n",
    "            uniparc_used = True\n",
    "            if uniparc_fail(descr) == False:\n",
    "                descr = extract_best_uniparc(uniparc2list(descr))\n",
    "            if uniparc_fail(descr) == True:\n",
    "                continue\n",
    "        # how will we deal with uniparc lists though\n",
    "        # get top annotation that is not a hypothetical\n",
    "        if is_hypothetical_af(descr) == False:\n",
    "            annotation_found = True\n",
    "            best_ann_index = i\n",
    "            break\n",
    "    # if all annotations are hypothetical the annotation_found flag remains False\n",
    "    if annotation_found == False:\n",
    "        best_ann_index = 0\n",
    "    pdb_id, chain = get_PDBid_chain_from_target(dataframe.at[best_ann_index,\"target\"])\n",
    "    best_ann = get_function_from_PDB(pdb_id, chain)\n",
    "    return best_ann, annotation_found"
   ]
  },
  {
   "cell_type": "code",
   "execution_count": null,
   "id": "e4e9b70d-0c49-4993-b5ac-a5aef7e87e39",
   "metadata": {},
   "outputs": [],
   "source": [
    "# writing results to file for inspection\n",
    "file = open(os.path.join(one_hit_dir, \"best_annotated_hit_uniprot_annotations.tsv\"), \"w\")\n",
    "file.write(f\"protein\\tpdb/af50m\\tempty\\tbest_ann\\tannotation_found\\n\")\n",
    "for batch, protein_set in dict_batch_comp.items():\n",
    "    for protein in protein_set:\n",
    "        pdb_fil, af50m_fil = read_foldseek_protein(batch, protein)\n",
    "        if pdb_fil.empty:\n",
    "            file.write(f\"{protein}\\tpdb\\tTrue\\tNA\\tNA\\n\")\n",
    "        if not pdb_fil.empty:\n",
    "            pdb_fil = pdb_fil.sort_values(\"bits\", ascending = False)\n",
    "            best_ann, annotation_found = find_best_annotation_foldseek_pdb_up(pdb_fil)\n",
    "            file.write(f\"{protein}\\tpdb\\tFalse\\t{best_ann}\\t{annotation_found}\\n\")\n",
    "        if af50m_fil.empty:\n",
    "            file.write(f\"{protein}\\taf50m\\tTrue\\tNA\\tNA\\n\")\n",
    "        if not af50m_fil.empty:\n",
    "            af50m_fil = af50m_fil.sort_values(\"bits\", ascending = False)\n",
    "            best_ann, annotation_found = find_best_annotation_foldseek_af50m_up(af50m_fil)\n",
    "            file.write(f\"{protein}\\taf50m\\tFalse\\t{best_ann}\\t{annotation_found}\\n\") \n",
    "file.close()"
   ]
  },
  {
   "cell_type": "markdown",
   "id": "0b9da8b5-46ee-434b-a5ac-46f944fa0763",
   "metadata": {},
   "source": [
    "#### Goal 5 : Assess a best annotated hit annotation method, that uses information fetched from UniProt to annotate proteins\n",
    "\n",
    "Let's now assess whether this method did improve annotation:"
   ]
  },
  {
   "cell_type": "code",
   "execution_count": 55,
   "id": "79a3a046-4288-474d-99d5-df6029523383",
   "metadata": {},
   "outputs": [],
   "source": [
    "best_ann_hit_up_df = pd.read_csv(os.path.join(one_hit_dir, \"best_annotated_hit_uniprot_annotations.tsv\"), sep = \"\\t\")"
   ]
  },
  {
   "cell_type": "code",
   "execution_count": 56,
   "id": "33a71cd0-5e52-4e93-bdf8-a4831148a5da",
   "metadata": {},
   "outputs": [],
   "source": [
    "pdb_ann_up = best_ann_hit_up_df[best_ann_hit_up_df[\"pdb/af50m\"] == \"pdb\"]\n",
    "afdb_ann_up = best_ann_hit_up_df[best_ann_hit_up_df[\"pdb/af50m\"] == \"af50m\"]"
   ]
  },
  {
   "cell_type": "code",
   "execution_count": 57,
   "id": "b1f13d1d-8153-45b0-b562-446466746f65",
   "metadata": {
    "collapsed": true,
    "jupyter": {
     "outputs_hidden": true
    }
   },
   "outputs": [
    {
     "name": "stderr",
     "output_type": "stream",
     "text": [
      "C:\\Users\\hanne\\AppData\\Local\\Temp\\ipykernel_13196\\3051604374.py:2: SettingWithCopyWarning: \n",
      "A value is trying to be set on a copy of a slice from a DataFrame.\n",
      "Try using .loc[row_indexer,col_indexer] = value instead\n",
      "\n",
      "See the caveats in the documentation: https://pandas.pydata.org/pandas-docs/stable/user_guide/indexing.html#returning-a-view-versus-a-copy\n",
      "  pdb_ann_up[\"pharokka_ann\"] = False\n",
      "C:\\Users\\hanne\\AppData\\Local\\Temp\\ipykernel_13196\\3051604374.py:4: SettingWithCopyWarning: \n",
      "A value is trying to be set on a copy of a slice from a DataFrame.\n",
      "Try using .loc[row_indexer,col_indexer] = value instead\n",
      "\n",
      "See the caveats in the documentation: https://pandas.pydata.org/pandas-docs/stable/user_guide/indexing.html#returning-a-view-versus-a-copy\n",
      "  afdb_ann_up[\"pharokka_ann\"] = False\n"
     ]
    }
   ],
   "source": [
    "# adding a column to store information on Pharokka annotation\n",
    "pdb_ann_up[\"pharokka_ann\"] = False\n",
    "pdb_ann_up.loc[pdb_ann_up[\"protein\"].isin(ncbi_id_ann), \"pharokka_ann\"] = True\n",
    "afdb_ann_up[\"pharokka_ann\"] = False\n",
    "afdb_ann_up.loc[afdb_ann_up[\"protein\"].isin(ncbi_id_ann), \"pharokka_ann\"] = True"
   ]
  },
  {
   "cell_type": "markdown",
   "id": "293847e5-62a2-4628-97f5-a034df50abb9",
   "metadata": {},
   "source": [
    "##### Subset of clusters annotated by Pharokka\n",
    "\n",
    "Let's have a look per database (PDB, AFdb) at the annotation rates, for proteins annotated by Pharokka (should be the 'easy set')."
   ]
  },
  {
   "cell_type": "code",
   "execution_count": 58,
   "id": "312d4221-675f-413f-9108-253ed69e4eae",
   "metadata": {},
   "outputs": [
    {
     "name": "stdout",
     "output_type": "stream",
     "text": [
      "Statistics of annotation using the PDB database:\n",
      "------------------------------------------------\n",
      "Matches against the PDB:\n",
      "    Number of clusters with matches: 1337\n",
      "    Number of clusters without matches: 1498\n",
      "------------------------------------------------\n",
      "Best annotated hit annotation method:\n",
      "    Number of clusters with annotations: 1286 (96.19% of all those with matches, 45.36% of all Pharokka annotated clusters)\n",
      "    Number of clusters without annotations: 1549 (1498 due to no matches)\n"
     ]
    }
   ],
   "source": [
    "# PDB database statistics\n",
    "pdb_ann_phar_up = pdb_ann_up[pdb_ann_up[\"pharokka_ann\"] == True]\n",
    "pdb_ann_phar_up_match = pdb_ann_phar_up[pdb_ann_phar_up[\"empty\"] == False]\n",
    "pdb_ann_phar_up_match_bah_ann = pdb_ann_phar_up_match[pdb_ann_phar_up_match[\"annotation_found\"] == True]\n",
    "pdb_ann_phar_up_match_bah_unann = pdb_ann_phar_up_match[pdb_ann_phar_up_match[\"annotation_found\"] == False]\n",
    "    # number of Pharokka annotated clusters with no match against PDB\n",
    "num_pdb_ann_phar_up_nomatch = len(pdb_ann_phar_up[pdb_ann_phar_up[\"empty\"] == True]) \n",
    "    # percentage of Pharokka annotated clusters with no match against PDB\n",
    "per_pdb_ann_phar_up_nomatch = \"{:.2f}\".format(num_pdb_ann_phar_up_nomatch*100/num_tba_p)\n",
    "    # number of Pharokka annotated clusters with annotated match (BAH method)\n",
    "num_pdb_ann_phar_up_match_bah_ann = len(pdb_ann_phar_up_match_bah_ann) \n",
    "    # of the Pharokka annotated clusters which percentage gets annotated using BAH\n",
    "per_pdb_ann_phar_up_bah_ann = \"{:.2f}\".format(num_pdb_ann_phar_up_match_bah_ann*100/(num_tba_p)) \n",
    "    # of the Pharokka annotated clusters with matches, which percentage gets annotated using BAH\n",
    "per_pdb_ann_phar_up_match_bah_ann = \"{:.2f}\".format(num_pdb_ann_phar_up_match_bah_ann*100/(num_tba_p-num_pdb_ann_phar_up_nomatch)) \n",
    "    # number of Pharokka annotated clusters with unannotated match (BAH method)\n",
    "num_pdb_ann_phar_up_match_bah_unann = len(pdb_ann_phar_up_match_bah_unann)  \n",
    "print(f\"Statistics of annotation using the PDB database:\")\n",
    "print(f\"------------------------------------------------\")\n",
    "print(f\"Matches against the PDB:\")\n",
    "print(f\"    Number of clusters with matches: {num_tba_p-num_pdb_ann_phar_up_nomatch}\")\n",
    "print(f\"    Number of clusters without matches: {num_pdb_ann_phar_up_nomatch}\")\n",
    "print(f\"------------------------------------------------\")\n",
    "print(f\"Best annotated hit annotation method:\")\n",
    "print(f\"    Number of clusters with annotations: {num_pdb_ann_phar_up_match_bah_ann} ({per_pdb_ann_phar_up_match_bah_ann}% of all those with matches, {per_pdb_ann_phar_up_bah_ann}% of all Pharokka annotated clusters)\")\n",
    "print(f\"    Number of clusters without annotations: {num_pdb_ann_phar_up_match_bah_unann + num_pdb_ann_phar_up_nomatch} ({num_pdb_ann_phar_up_nomatch} due to no matches)\")"
   ]
  },
  {
   "cell_type": "code",
   "execution_count": 59,
   "id": "6e890f87-6877-4713-8342-82528301a258",
   "metadata": {},
   "outputs": [
    {
     "name": "stdout",
     "output_type": "stream",
     "text": [
      "Statistics of annotation using the AlphaFold database:\n",
      "------------------------------------------------\n",
      "Matches against the AlphaFold database:\n",
      "    Number of clusters with matches: 2577\n",
      "    Number of clusters without matches: 258\n",
      "------------------------------------------------\n",
      "Best annotated hit annotation method:\n",
      "    Number of clusters with annotations: 2514 (97.56% of all those with matches, 88.68% of all Pharokka annotated clusters)\n",
      "    Number of clusters without annotations: 321 (258 due to no matches)\n"
     ]
    }
   ],
   "source": [
    "# AlphaFold database statistics\n",
    "afdb_ann_phar_up = afdb_ann_up[afdb_ann_up[\"pharokka_ann\"] == True]\n",
    "afdb_ann_phar_up_match = afdb_ann_phar_up[afdb_ann_phar_up[\"empty\"] == False]\n",
    "afdb_ann_phar_up_match_bah_ann = afdb_ann_phar_up_match[afdb_ann_phar_up_match[\"annotation_found\"] == True]\n",
    "afdb_ann_phar_up_match_bah_unann = afdb_ann_phar_up_match[afdb_ann_phar_up_match[\"annotation_found\"] == False]\n",
    "    # number of Pharokka annotated clusters with no match against AlphaFold database\n",
    "num_afdb_ann_phar_up_nomatch = len(afdb_ann_phar_up[afdb_ann_phar_up[\"empty\"] == True]) \n",
    "    # percentage of Pharokka annotated clusters with no match against AlphaFold database\n",
    "per_afdb_ann_phar_up_nomatch = \"{:.2f}\".format(num_afdb_ann_phar_up_nomatch*100/num_tba_p)\n",
    "    # number of Pharokka annotated clusters with annotated match (BAH method)\n",
    "num_afdb_ann_phar_up_match_bah_ann = len(afdb_ann_phar_up_match_bah_ann) \n",
    "    # of the Pharokka annotated clusters which percentage gets annotated using BAH\n",
    "per_afdb_ann_phar_up_bah_ann = \"{:.2f}\".format(num_afdb_ann_phar_up_match_bah_ann*100/(num_tba_p)) \n",
    "    # of the Pharokka annotated clusters with matches, which percentage gets annotated using BAH\n",
    "per_afdb_ann_phar_up_match_bah_ann = \"{:.2f}\".format(num_afdb_ann_phar_up_match_bah_ann*100/(num_tba_p-num_afdb_ann_phar_up_nomatch)) \n",
    "    # number of Pharokka annotated clusters with unannotated match (BAH method)\n",
    "num_afdb_ann_phar_up_match_bah_unann = len(afdb_ann_phar_up_match_bah_unann)  \n",
    "print(f\"Statistics of annotation using the AlphaFold database:\")\n",
    "print(f\"------------------------------------------------\")\n",
    "print(f\"Matches against the AlphaFold database:\")\n",
    "print(f\"    Number of clusters with matches: {num_tba_p-num_afdb_ann_phar_up_nomatch}\")\n",
    "print(f\"    Number of clusters without matches: {num_afdb_ann_phar_up_nomatch}\")\n",
    "print(f\"------------------------------------------------\")\n",
    "print(f\"Best annotated hit annotation method:\")\n",
    "print(f\"    Number of clusters with annotations: {num_afdb_ann_phar_up_match_bah_ann} ({per_afdb_ann_phar_up_match_bah_ann}% of all those with matches, {per_afdb_ann_phar_up_bah_ann}% of all Pharokka annotated clusters)\")\n",
    "print(f\"    Number of clusters without annotations: {num_afdb_ann_phar_up_match_bah_unann + num_afdb_ann_phar_up_nomatch} ({num_afdb_ann_phar_up_nomatch} due to no matches)\")"
   ]
  },
  {
   "cell_type": "code",
   "execution_count": 60,
   "id": "98515402-76fe-44c7-916d-8a99681ddcfb",
   "metadata": {
    "scrolled": true
   },
   "outputs": [
    {
     "name": "stderr",
     "output_type": "stream",
     "text": [
      "C:\\Users\\hanne\\miniforge3\\envs\\ffal_annotate\\Lib\\site-packages\\upsetplot\\plotting.py:795: FutureWarning: A value is trying to be set on a copy of a DataFrame or Series through chained assignment using an inplace method.\n",
      "The behavior will change in pandas 3.0. This inplace method will never work because the intermediate object on which we are setting values always behaves as a copy.\n",
      "\n",
      "For example, when doing 'df[col].method(value, inplace=True)', try using 'df.method({col: value}, inplace=True)' or df[col] = df[col].method(value) instead, to perform the operation inplace on the original object.\n",
      "\n",
      "\n",
      "  styles[\"linewidth\"].fillna(1, inplace=True)\n",
      "C:\\Users\\hanne\\miniforge3\\envs\\ffal_annotate\\Lib\\site-packages\\upsetplot\\plotting.py:796: FutureWarning: A value is trying to be set on a copy of a DataFrame or Series through chained assignment using an inplace method.\n",
      "The behavior will change in pandas 3.0. This inplace method will never work because the intermediate object on which we are setting values always behaves as a copy.\n",
      "\n",
      "For example, when doing 'df[col].method(value, inplace=True)', try using 'df.method({col: value}, inplace=True)' or df[col] = df[col].method(value) instead, to perform the operation inplace on the original object.\n",
      "\n",
      "\n",
      "  styles[\"facecolor\"].fillna(self._facecolor, inplace=True)\n",
      "C:\\Users\\hanne\\miniforge3\\envs\\ffal_annotate\\Lib\\site-packages\\upsetplot\\plotting.py:797: FutureWarning: A value is trying to be set on a copy of a DataFrame or Series through chained assignment using an inplace method.\n",
      "The behavior will change in pandas 3.0. This inplace method will never work because the intermediate object on which we are setting values always behaves as a copy.\n",
      "\n",
      "For example, when doing 'df[col].method(value, inplace=True)', try using 'df.method({col: value}, inplace=True)' or df[col] = df[col].method(value) instead, to perform the operation inplace on the original object.\n",
      "\n",
      "\n",
      "  styles[\"edgecolor\"].fillna(styles[\"facecolor\"], inplace=True)\n",
      "C:\\Users\\hanne\\miniforge3\\envs\\ffal_annotate\\Lib\\site-packages\\upsetplot\\plotting.py:798: FutureWarning: A value is trying to be set on a copy of a DataFrame or Series through chained assignment using an inplace method.\n",
      "The behavior will change in pandas 3.0. This inplace method will never work because the intermediate object on which we are setting values always behaves as a copy.\n",
      "\n",
      "For example, when doing 'df[col].method(value, inplace=True)', try using 'df.method({col: value}, inplace=True)' or df[col] = df[col].method(value) instead, to perform the operation inplace on the original object.\n",
      "\n",
      "\n",
      "  styles[\"linestyle\"].fillna(\"solid\", inplace=True)\n"
     ]
    },
    {
     "data": {
      "image/png": "[encoded data removed]",
      "text/plain": [
       "<Figure size 444.444x400 with 4 Axes>"
      ]
     },
     "metadata": {},
     "output_type": "display_data"
    }
   ],
   "source": [
    "# let's have a look at the complementarity of the annotations through an unpset plot\n",
    "set_names = [\"AlphaFold\", \"Phold\", \"PDB\"]\n",
    "all_elems = set(list(afdb_ann_phar_up_match_bah_ann[\"protein\"])).union(set(list(phold_ann_phar_match_bah_ann[\"protein\"]))).union(set(list(pdb_ann_phar_up_match_bah_ann[\"protein\"])))\n",
    "df = pd.DataFrame([[e in set(list(afdb_ann_phar_up_match_bah_ann[\"protein\"])), e in set(list(phold_ann_phar_match_bah_ann[\"protein\"])), e in set(list(pdb_ann_phar_up_match_bah_ann[\"protein\"]))] for e in all_elems], columns = set_names)\n",
    "df_up = df.groupby(set_names).size()\n",
    "plot(df_up, orientation='horizontal')\n",
    "plt.savefig(os.path.join(master_dir, \"article_figures\", \"fig5\", \"upset_bah_up_pharokka_cluster.svg\"), format = \"svg\", transparent = True, bbox_inches = \"tight\")"
   ]
  },
  {
   "cell_type": "code",
   "execution_count": 61,
   "id": "98adcaf2-359a-4145-8a67-58941e34994e",
   "metadata": {},
   "outputs": [
    {
     "name": "stdout",
     "output_type": "stream",
     "text": [
      "Jointly, the best annotated hit method against the PDB, AlphaFold and Phold databases annotates 99.01% of all Pharokka annotated clusters.\n"
     ]
    }
   ],
   "source": [
    "# the final annotation rate of pharokka annotated proteins, when combining all databases\n",
    "per_ann_phar_up_joint = \"{:.2f}\".format(len(all_elems)*100/num_tba_p)\n",
    "print(f\"Jointly, the best annotated hit method against the PDB, AlphaFold and Phold databases annotates {per_ann_phar_up_joint}% of all Pharokka annotated clusters.\")"
   ]
  },
  {
   "cell_type": "markdown",
   "id": "5426979e-1634-41fe-8740-d861a9c8a0bd",
   "metadata": {},
   "source": [
    "##### Subset of truly unannotated clusters\n",
    "\n",
    "Let's have a look per database (PDB, AFdb) for proteins that could not be annotated by Pharokka (should be the 'hard set')."
   ]
  },
  {
   "cell_type": "code",
   "execution_count": 62,
   "id": "ef8a2eb8-8c11-4687-8219-327fc7dd4197",
   "metadata": {},
   "outputs": [
    {
     "name": "stdout",
     "output_type": "stream",
     "text": [
      "Statistics of annotation using the PDB database:\n",
      "------------------------------------------------\n",
      "Matches against the PDB:\n",
      "    Number of clusters with matches: 508\n",
      "    Number of clusters without matches: 7138\n",
      "------------------------------------------------\n",
      "Best annotated hit annotation method:\n",
      "    Number of clusters with annotations: 482 (94.88% of all those with matches, 6.30% of all truly unannotated clusters)\n",
      "    Number of clusters without annotations: 7164 (7138 due to no matches)\n"
     ]
    }
   ],
   "source": [
    "# PDB database statistics\n",
    "pdb_ann_ta_up = pdb_ann_up[pdb_ann_up[\"pharokka_ann\"] == False]\n",
    "pdb_ann_ta_up_match = pdb_ann_ta_up[pdb_ann_ta_up[\"empty\"] == False]\n",
    "pdb_ann_ta_up_match_bah_ann = pdb_ann_ta_up_match[pdb_ann_ta_up_match[\"annotation_found\"] == True]\n",
    "pdb_ann_ta_up_match_bah_unann = pdb_ann_ta_up_match[pdb_ann_ta_up_match[\"annotation_found\"] == False]\n",
    "    # number of truly unannotated clusters with no match against PDB\n",
    "num_pdb_ann_ta_up_nomatch = len(pdb_ann_ta_up[pdb_ann_ta_up[\"empty\"] == True]) \n",
    "    # percentage of truly unannotated clusters with no match against PDB\n",
    "per_pdb_ann_ta_up_nomatch = \"{:.2f}\".format(num_pdb_ann_ta_up_nomatch*100/num_tba_ta)\n",
    "    # number of truly unannotated clusters with annotated match (BAH method)\n",
    "num_pdb_ann_ta_up_match_bah_ann = len(pdb_ann_ta_up_match_bah_ann) \n",
    "    # of the truly unannotated clusters which percentage gets annotated using BAH\n",
    "per_pdb_ann_ta_up_bah_ann = \"{:.2f}\".format(num_pdb_ann_ta_up_match_bah_ann*100/(num_tba_ta)) \n",
    "    # of the truly unannotated clusters with matches, which percentage gets annotated using BAH\n",
    "per_pdb_ann_ta_up_match_bah_ann = \"{:.2f}\".format(num_pdb_ann_ta_up_match_bah_ann*100/(num_tba_ta-num_pdb_ann_ta_up_nomatch)) \n",
    "    # number of truly unannotated clusters with unannotated match (BAH method)\n",
    "num_pdb_ann_ta_up_match_bah_unann = len(pdb_ann_ta_up_match_bah_unann)  \n",
    "print(f\"Statistics of annotation using the PDB database:\")\n",
    "print(f\"------------------------------------------------\")\n",
    "print(f\"Matches against the PDB:\")\n",
    "print(f\"    Number of clusters with matches: {num_tba_ta-num_pdb_ann_ta_up_nomatch}\")\n",
    "print(f\"    Number of clusters without matches: {num_pdb_ann_ta_up_nomatch}\")\n",
    "print(f\"------------------------------------------------\")\n",
    "print(f\"Best annotated hit annotation method:\")\n",
    "print(f\"    Number of clusters with annotations: {num_pdb_ann_ta_up_match_bah_ann} ({per_pdb_ann_ta_up_match_bah_ann}% of all those with matches, {per_pdb_ann_ta_up_bah_ann}% of all truly unannotated clusters)\")\n",
    "print(f\"    Number of clusters without annotations: {num_pdb_ann_ta_up_match_bah_unann + num_pdb_ann_ta_up_nomatch} ({num_pdb_ann_ta_up_nomatch} due to no matches)\")"
   ]
  },
  {
   "cell_type": "code",
   "execution_count": 63,
   "id": "064b3284-72c9-4ab6-ada8-c3b0c8ede456",
   "metadata": {},
   "outputs": [
    {
     "name": "stdout",
     "output_type": "stream",
     "text": [
      "Statistics of annotation using the AlphaFold database:\n",
      "------------------------------------------------\n",
      "Matches against the AlphaFold database:\n",
      "    Number of clusters with matches: 3458\n",
      "    Number of clusters without matches: 4188\n",
      "------------------------------------------------\n",
      "Best annotated hit annotation method:\n",
      "    Number of clusters with annotations: 2656 (76.81% of all those with matches, 34.74% of all truly unannotated clusters)\n",
      "    Number of clusters without annotations: 4990 (4188 due to no matches)\n"
     ]
    }
   ],
   "source": [
    "# AlphaFold database statistics\n",
    "afdb_ann_ta_up = afdb_ann_up[afdb_ann_up[\"pharokka_ann\"] == False]\n",
    "afdb_ann_ta_up_match = afdb_ann_ta_up[afdb_ann_ta_up[\"empty\"] == False]\n",
    "afdb_ann_ta_up_match_bah_ann = afdb_ann_ta_up_match[afdb_ann_ta_up_match[\"annotation_found\"] == True]\n",
    "afdb_ann_ta_up_match_bah_unann = afdb_ann_ta_up_match[afdb_ann_ta_up_match[\"annotation_found\"] == False]\n",
    "    # number of truly unannotated clusters with no match against AlphaFold database\n",
    "num_afdb_ann_ta_up_nomatch = len(afdb_ann_ta_up[afdb_ann_ta_up[\"empty\"] == True]) \n",
    "    # percentage of truly unannotated clusters with no match against AlphaFold database\n",
    "per_afdb_ann_ta_up_nomatch = \"{:.2f}\".format(num_afdb_ann_ta_up_nomatch*100/num_tba_ta)\n",
    "    # number of truly unannotated clusters with annotated match (BAH method)\n",
    "num_afdb_ann_ta_up_match_bah_ann = len(afdb_ann_ta_up_match_bah_ann) \n",
    "    # of the truly unannotated clusters which percentage gets annotated using BAH\n",
    "per_afdb_ann_ta_up_bah_ann = \"{:.2f}\".format(num_afdb_ann_ta_up_match_bah_ann*100/(num_tba_ta)) \n",
    "    # of the truly unannotated clusters with matches, which percentage gets annotated using BAH\n",
    "per_afdb_ann_ta_up_match_bah_ann = \"{:.2f}\".format(num_afdb_ann_ta_up_match_bah_ann*100/(num_tba_ta-num_afdb_ann_ta_up_nomatch)) \n",
    "    # number of truly unannotated clusters with unannotated match (BAH method)\n",
    "num_afdb_ann_ta_up_match_bah_unann = len(afdb_ann_ta_up_match_bah_unann)  \n",
    "print(f\"Statistics of annotation using the AlphaFold database:\")\n",
    "print(f\"------------------------------------------------\")\n",
    "print(f\"Matches against the AlphaFold database:\")\n",
    "print(f\"    Number of clusters with matches: {num_tba_ta-num_afdb_ann_ta_up_nomatch}\")\n",
    "print(f\"    Number of clusters without matches: {num_afdb_ann_ta_up_nomatch}\")\n",
    "print(f\"------------------------------------------------\")\n",
    "print(f\"Best annotated hit annotation method:\")\n",
    "print(f\"    Number of clusters with annotations: {num_afdb_ann_ta_up_match_bah_ann} ({per_afdb_ann_ta_up_match_bah_ann}% of all those with matches, {per_afdb_ann_ta_up_bah_ann}% of all truly unannotated clusters)\")\n",
    "print(f\"    Number of clusters without annotations: {num_afdb_ann_ta_up_match_bah_unann + num_afdb_ann_ta_up_nomatch} ({num_afdb_ann_ta_up_nomatch} due to no matches)\")"
   ]
  },
  {
   "cell_type": "code",
   "execution_count": 64,
   "id": "4e145333-28e6-4c2d-bdf0-5bd7c4ccb195",
   "metadata": {
    "scrolled": true
   },
   "outputs": [
    {
     "name": "stderr",
     "output_type": "stream",
     "text": [
      "C:\\Users\\hanne\\miniforge3\\envs\\ffal_annotate\\Lib\\site-packages\\upsetplot\\plotting.py:795: FutureWarning: A value is trying to be set on a copy of a DataFrame or Series through chained assignment using an inplace method.\n",
      "The behavior will change in pandas 3.0. This inplace method will never work because the intermediate object on which we are setting values always behaves as a copy.\n",
      "\n",
      "For example, when doing 'df[col].method(value, inplace=True)', try using 'df.method({col: value}, inplace=True)' or df[col] = df[col].method(value) instead, to perform the operation inplace on the original object.\n",
      "\n",
      "\n",
      "  styles[\"linewidth\"].fillna(1, inplace=True)\n",
      "C:\\Users\\hanne\\miniforge3\\envs\\ffal_annotate\\Lib\\site-packages\\upsetplot\\plotting.py:796: FutureWarning: A value is trying to be set on a copy of a DataFrame or Series through chained assignment using an inplace method.\n",
      "The behavior will change in pandas 3.0. This inplace method will never work because the intermediate object on which we are setting values always behaves as a copy.\n",
      "\n",
      "For example, when doing 'df[col].method(value, inplace=True)', try using 'df.method({col: value}, inplace=True)' or df[col] = df[col].method(value) instead, to perform the operation inplace on the original object.\n",
      "\n",
      "\n",
      "  styles[\"facecolor\"].fillna(self._facecolor, inplace=True)\n",
      "C:\\Users\\hanne\\miniforge3\\envs\\ffal_annotate\\Lib\\site-packages\\upsetplot\\plotting.py:797: FutureWarning: A value is trying to be set on a copy of a DataFrame or Series through chained assignment using an inplace method.\n",
      "The behavior will change in pandas 3.0. This inplace method will never work because the intermediate object on which we are setting values always behaves as a copy.\n",
      "\n",
      "For example, when doing 'df[col].method(value, inplace=True)', try using 'df.method({col: value}, inplace=True)' or df[col] = df[col].method(value) instead, to perform the operation inplace on the original object.\n",
      "\n",
      "\n",
      "  styles[\"edgecolor\"].fillna(styles[\"facecolor\"], inplace=True)\n",
      "C:\\Users\\hanne\\miniforge3\\envs\\ffal_annotate\\Lib\\site-packages\\upsetplot\\plotting.py:798: FutureWarning: A value is trying to be set on a copy of a DataFrame or Series through chained assignment using an inplace method.\n",
      "The behavior will change in pandas 3.0. This inplace method will never work because the intermediate object on which we are setting values always behaves as a copy.\n",
      "\n",
      "For example, when doing 'df[col].method(value, inplace=True)', try using 'df.method({col: value}, inplace=True)' or df[col] = df[col].method(value) instead, to perform the operation inplace on the original object.\n",
      "\n",
      "\n",
      "  styles[\"linestyle\"].fillna(\"solid\", inplace=True)\n"
     ]
    },
    {
     "data": {
      "image/png": "[encoded data removed]",
      "text/plain": [
       "<Figure size 533.333x400 with 4 Axes>"
      ]
     },
     "metadata": {},
     "output_type": "display_data"
    }
   ],
   "source": [
    "# let's have a look at the complementarity of the annotations through an unpset plot\n",
    "# set_names = [\"AlphaFold\", \"Phold\", \"PDB\"]\n",
    "set_names = [\"PDB\", \"AlphaFold\", \"Phold\"]\n",
    "all_elems = set(list(pdb_ann_ta_up_match_bah_ann[\"protein\"])).union(set(list(afdb_ann_ta_up_match_bah_ann[\"protein\"]))).union(set(list(phold_ann_ta_match_bah_ann[\"protein\"])))\n",
    "# all_elems = set(list(afdb_ann_ta_up_match_bah_ann[\"protein\"])).union(set(list(phold_ann_ta_match_bah_ann[\"protein\"]))).union(set(list(pdb_ann_ta_up_match_bah_ann[\"protein\"])))\n",
    "# df = pd.DataFrame([[e in set(list(afdb_ann_ta_up_match_bah_ann[\"protein\"])), e in set(list(phold_ann_ta_match_bah_ann[\"protein\"])), e in set(list(pdb_ann_ta_up_match_bah_ann[\"protein\"]))] for e in all_elems], columns = set_names)\n",
    "df = pd.DataFrame([[e in set(list(pdb_ann_ta_up_match_bah_ann[\"protein\"])), e in set(list(afdb_ann_ta_up_match_bah_ann[\"protein\"])), e in set(list(phold_ann_ta_match_bah_ann[\"protein\"]))] for e in all_elems], columns = set_names)\n",
    "df_up = df.groupby(set_names).size()\n",
    "plot(df_up, orientation = \"horizontal\")\n",
    "plt.savefig(os.path.join(master_dir, \"article_figures\", \"fig5\", \"upset_bah_up_trulyunann_cluster.svg\"), format = \"svg\", transparent = True, bbox_inches = \"tight\")"
   ]
  },
  {
   "cell_type": "code",
   "execution_count": 65,
   "id": "f76241f8-04c1-480b-aa8c-e6ffcdbad767",
   "metadata": {},
   "outputs": [
    {
     "name": "stdout",
     "output_type": "stream",
     "text": [
      "Jointly, the best annotated hit method against the PDB, AlphaFold and Phold databases annotates 39.82% of all truly unannotated clusters.\n"
     ]
    }
   ],
   "source": [
    "# the final annotation rate of truly unannotated proteins, when combining all databases\n",
    "per_ann_ta_up_joint = \"{:.2f}\".format(len(all_elems)*100/num_tba_ta)\n",
    "print(f\"Jointly, the best annotated hit method against the PDB, AlphaFold and Phold databases annotates {per_ann_ta_up_joint}% of all truly unannotated clusters.\")"
   ]
  },
  {
   "cell_type": "code",
   "execution_count": 66,
   "id": "cbf56b9e-acc9-4623-928c-2bf5298ae8f4",
   "metadata": {},
   "outputs": [
    {
     "data": {
      "text/plain": [
       "0.43410415491633764"
      ]
     },
     "execution_count": 66,
     "metadata": {},
     "output_type": "execute_result"
    }
   ],
   "source": [
    "# what percentage of proteins is this (so correcting for cluster size)?\n",
    "sum(agg_df[agg_df[\"cluster_rep\"].isin(all_elems)][\"counts\"])/sum(agg_df[agg_df[\"cluster_rep\"].isin(list(afdb_ann_ta_up[\"protein\"]))][\"counts\"])"
   ]
  },
  {
   "cell_type": "markdown",
   "id": "5a26f0f6-cb85-4c52-9db9-3860b7ff7eed",
   "metadata": {},
   "source": [
    "##### Figures summarizing annotation rates across methods\n",
    "\n",
    "Let's first create a bar chart with the results of the different annotation methods when it comes to annotating the proteins that could be annotated with Pharokka."
   ]
  },
  {
   "cell_type": "code",
   "execution_count": 67,
   "id": "8454082f-5e8a-4958-84d9-c399c71665ca",
   "metadata": {
    "scrolled": true
   },
   "outputs": [
    {
     "data": {
      "image/png": "[encoded data removed]",
      "text/plain": [
       "<Figure size 640x480 with 1 Axes>"
      ]
     },
     "metadata": {},
     "output_type": "display_data"
    }
   ],
   "source": [
    "# let's represent this information visually, with a stacked bar chart - Pharokka annotated subset\n",
    "# creating data dicts\n",
    "pdb_bh_data = {\"no match\" : len(pdb_ann_phar[pdb_ann_phar[\"empty\"] == True]) , \n",
    "               \"annotated match\": len(pdb_ann_phar_match_bh_ann), \n",
    "               \"unannotated match\": len(pdb_ann_phar_match_bh_unann)}\n",
    "afdb_bh_data = {\"no match\" : len(afdb_ann_phar[afdb_ann_phar[\"empty\"] == True]) , \n",
    "               \"annotated match\": len(afdb_ann_phar_match_bh_ann), \n",
    "               \"unannotated match\": len(afdb_ann_phar_match_bh_unann)}\n",
    "pdb_bah_data = {\"no match\" : len(pdb_ann_phar[pdb_ann_phar[\"empty\"] == True]) , \n",
    "               \"annotated match\": len(pdb_ann_phar_match_bah_ann), \n",
    "               \"unannotated match\": len(pdb_ann_phar_match_bah_unann)}\n",
    "afdb_bah_data = {\"no match\" : len(afdb_ann_phar[afdb_ann_phar[\"empty\"] == True]) , \n",
    "               \"annotated match\": len(afdb_ann_phar_match_bah_ann), \n",
    "               \"unannotated match\": len(afdb_ann_phar_match_bah_unann)}\n",
    "pdb_bah_up_data = {\"no match\" : len(pdb_ann_phar_up[pdb_ann_phar_up[\"empty\"] == True]) , \n",
    "               \"annotated match\": len(pdb_ann_phar_up_match_bah_ann), \n",
    "               \"unannotated match\": len(pdb_ann_phar_up_match_bah_unann)}\n",
    "afdb_bah_up_data = {\"no match\" : len(afdb_ann_phar_up[afdb_ann_phar_up[\"empty\"] == True]) , \n",
    "               \"annotated match\": len(afdb_ann_phar_up_match_bah_ann), \n",
    "               \"unannotated match\": len(afdb_ann_phar_up_match_bah_unann)}\n",
    "phold_data = {\"no match\" : len(phold_ann_phar[phold_ann_phar[\"annotation_source\"] != \"foldseek\"]) , \n",
    "               \"annotated match\": len(phold_ann_phar_match_bah_ann), \n",
    "               \"unannotated match\": len(phold_ann_phar_match_bah_unann)}\n",
    "# put data in long format in a dataframe\n",
    "data_plot = pd.DataFrame({\"Annotation status\": list(pdb_bh_data.keys()) + list(pdb_bah_data.keys()) + list(pdb_bah_up_data.keys()) + list(afdb_bh_data.keys()) + list(afdb_bah_data.keys()) + list(afdb_bah_up_data.keys()) + list(phold_data.keys()),\n",
    "                    \"Dataset\": [\"PDB - BH\"] * len(pdb_bh_data.items()) + [\"PDB - BAH\"] * len(pdb_bah_data.items()) + [\"PDB - BAH + UP\"] * len(pdb_bah_up_data.items()) + [\"AF - BH\"] * len(afdb_bh_data.items()) + [\"AF - BAH\"] * len(afdb_bah_data.items()) + [\"AF - BAH + UP\"] * len(afdb_bah_up_data.items()) + [\"Phold - BAH\"] * len(phold_data.items()),\n",
    "                    \"Number of clusters\": list(pdb_bh_data.values()) + list(pdb_bah_data.values()) + list(pdb_bah_up_data.values()) + list(afdb_bh_data.values()) + list(afdb_bah_data.values()) + list(afdb_bah_up_data.values()) + list(phold_data.values())})\n",
    "# one liner to create a stacked bar chart\n",
    "ax = sns.histplot(data_plot, x = \"Dataset\", hue = \"Annotation status\" , weights = \"Number of clusters\", multiple = \"stack\", palette = [\"#ffffff\", \"#440154\", \"#2a788e\"], shrink = 0.8, alpha = 1.0, legend = False)\n",
    "ax.set_ylabel(\"Number of clusters\")\n",
    "ax.set_xlabel(\"Annotation strategy (database + method)\")\n",
    "ax.tick_params(axis = \"x\", labelrotation = 30)\n",
    "sns.despine()\n",
    "plt.savefig(os.path.join(master_dir, \"article_figures\", \"fig5\", \"annotation_rate_all_methods_pharokka_cluster.svg\"), format = \"svg\", transparent = True, bbox_inches = \"tight\")"
   ]
  },
  {
   "cell_type": "code",
   "execution_count": 68,
   "id": "d6a6c3a3-fc5a-4f4c-882d-4f69729efaf9",
   "metadata": {
    "scrolled": true
   },
   "outputs": [
    {
     "data": {
      "image/png": "[encoded data removed]",
      "text/plain": [
       "<Figure size 640x480 with 1 Axes>"
      ]
     },
     "metadata": {},
     "output_type": "display_data"
    }
   ],
   "source": [
    "# let's represent this information visually, with a stacked bar chart - truly unannotated subset\n",
    "# creating data dicts\n",
    "pdb_bh_data = {\"no match\" : len(pdb_ann_ta[pdb_ann_ta[\"empty\"] == True]) , \n",
    "               \"annotated match\": len(pdb_ann_ta_match_bh_ann), \n",
    "               \"unannotated match\": len(pdb_ann_ta_match_bh_unann)}\n",
    "afdb_bh_data = {\"no match\" : len(afdb_ann_ta[afdb_ann_ta[\"empty\"] == True]) , \n",
    "               \"annotated match\": len(afdb_ann_ta_match_bh_ann), \n",
    "               \"unannotated match\": len(afdb_ann_ta_match_bh_unann)}\n",
    "pdb_bah_data = {\"no match\" : len(pdb_ann_ta[pdb_ann_ta[\"empty\"] == True]) , \n",
    "               \"annotated match\": len(pdb_ann_ta_match_bah_ann), \n",
    "               \"unannotated match\": len(pdb_ann_ta_match_bah_unann)}\n",
    "afdb_bah_data = {\"no match\" : len(afdb_ann_ta[afdb_ann_ta[\"empty\"] == True]) , \n",
    "               \"annotated match\": len(afdb_ann_ta_match_bah_ann), \n",
    "               \"unannotated match\": len(afdb_ann_ta_match_bah_unann)}\n",
    "pdb_bah_up_data = {\"no match\" : len(pdb_ann_ta_up[pdb_ann_ta_up[\"empty\"] == True]) , \n",
    "               \"annotated match\": len(pdb_ann_ta_up_match_bah_ann), \n",
    "               \"unannotated match\": len(pdb_ann_ta_up_match_bah_unann)}\n",
    "afdb_bah_up_data = {\"no match\" : len(afdb_ann_ta_up[afdb_ann_ta_up[\"empty\"] == True]) , \n",
    "               \"annotated match\": len(afdb_ann_ta_up_match_bah_ann), \n",
    "               \"unannotated match\": len(afdb_ann_ta_up_match_bah_unann)}\n",
    "phold_data = {\"no match\" : len(phold_ann_ta[phold_ann_ta[\"annotation_source\"] != \"foldseek\"]) , \n",
    "               \"annotated match\": len(phold_ann_ta_match_bah_ann), \n",
    "               \"unannotated match\": len(phold_ann_ta_match_bah_unann)}\n",
    "# put data in long format in a dataframe\n",
    "data_plot = pd.DataFrame({\"Annotation status\": list(pdb_bh_data.keys()) + list(pdb_bah_data.keys()) + list(pdb_bah_up_data.keys()) + list(afdb_bh_data.keys()) + list(afdb_bah_data.keys()) + list(afdb_bah_up_data.keys()) + list(phold_data.keys()),\n",
    "                    \"Dataset\": [\"PDB - BH\"] * len(pdb_bh_data.items()) + [\"PDB - BAH\"] * len(pdb_bah_data.items()) + [\"PDB - BAH + UP\"] * len(pdb_bah_up_data.items()) + [\"AF - BH\"] * len(afdb_bh_data.items()) + [\"AF - BAH\"] * len(afdb_bah_data.items()) + [\"AF - BAH + UP\"] * len(afdb_bah_up_data.items()) + [\"Phold - BAH\"] * len(phold_data.items()),\n",
    "                    \"Number of clusters\": list(pdb_bh_data.values()) + list(pdb_bah_data.values()) + list(pdb_bah_up_data.values()) + list(afdb_bh_data.values()) + list(afdb_bah_data.values()) + list(afdb_bah_up_data.values()) + list(phold_data.values())})\n",
    "# one liner to create a stacked bar chart\n",
    "ax = sns.histplot(data_plot, x = \"Dataset\", hue = \"Annotation status\" , weights = \"Number of clusters\", multiple = \"stack\", palette = [\"#ffffff\", \"#440154\", \"#2a788e\"], shrink = 0.8, alpha = 1.0, legend = False)\n",
    "ax.set_ylabel(\"Number of clusters\")\n",
    "ax.set_xlabel(\"Annotation strategy (database + method)\")\n",
    "ax.tick_params(axis = \"x\", labelrotation = 30)\n",
    "sns.despine()\n",
    "plt.savefig(os.path.join(master_dir, \"article_figures\", \"fig5\", \"annotation_rate_all_methods_trulyunann_cluster.svg\"), format = \"svg\", transparent = True, bbox_inches = \"tight\")"
   ]
  },
  {
   "cell_type": "markdown",
   "id": "a16ca834-349e-417f-9daa-62af8d470995",
   "metadata": {},
   "source": [
    "#### Goal 6 : Assess whether proteins that get annotated are different from those that do not"
   ]
  },
  {
   "cell_type": "code",
   "execution_count": 69,
   "id": "3d043bfe-8603-4e7e-ae3b-850c416b1f3a",
   "metadata": {},
   "outputs": [
    {
     "data": {
      "text/plain": [
       "MannwhitneyuResult(statistic=np.float64(11420279.0), pvalue=np.float64(0.26837737100845993))"
      ]
     },
     "execution_count": 69,
     "metadata": {},
     "output_type": "execute_result"
    }
   ],
   "source": [
    "# are the proteins annotated special? Come from larger clusters?\n",
    "agg_df = cluster_protein_match.groupby(\"cluster_rep\").size().reset_index(name = \"counts\")\n",
    "agg_df[\"label\"] = \"unannotated\"\n",
    "agg_df.loc[agg_df[\"cluster_rep\"].isin(all_elems), \"label\"] = \"annotated\"\n",
    "mannwhitneyu(agg_df[agg_df[\"label\"] == \"annotated\"][\"counts\"], agg_df[agg_df[\"label\"] == \"unannotated\"][\"counts\"], alternative = \"greater\")"
   ]
  },
  {
   "cell_type": "code",
   "execution_count": 70,
   "id": "91808302-a02c-4dc6-b801-668741617cba",
   "metadata": {},
   "outputs": [
    {
     "data": {
      "text/plain": [
       "MannwhitneyuResult(statistic=np.float64(12310614.5), pvalue=np.float64(9.98748381193111e-13))"
      ]
     },
     "execution_count": 70,
     "metadata": {},
     "output_type": "execute_result"
    }
   ],
   "source": [
    "# let's also have a look at protein size\n",
    "protein_data = pd.read_table(os.path.join(pipeline_search_dir, \"a_input\", \"protein_overview\", \"protein_overview.txt\"), names=[\"taxid_name\", \"ncbi_protein_id\", \"ncbi_protein_name\", \"ncbi_protein_length\"])\n",
    "protein_data = protein_data[protein_data[\"ncbi_protein_id\"].isin(proteins_w_structure)]\n",
    "protein_data[\"label\"] = \"unannotated\"\n",
    "protein_data.loc[protein_data[\"ncbi_protein_id\"].isin(all_elems), \"label\"] = \"annotated\"\n",
    "mannwhitneyu(protein_data[protein_data[\"label\"] == \"annotated\"][\"ncbi_protein_length\"], protein_data[protein_data[\"label\"] == \"unannotated\"][\"ncbi_protein_length\"], alternative = \"greater\")"
   ]
  },
  {
   "cell_type": "code",
   "execution_count": 71,
   "id": "f286d61c-d91a-46a6-85e7-fe32baa178b8",
   "metadata": {},
   "outputs": [],
   "source": [
    "# reading in the data - for pLDDT & MSA\n",
    "pred_qual_df = pd.read_csv(os.path.join(pipeline_search_dir, \"b_structure\", \"structure_prediction\", \"prediction_metrics.tsv\"), sep = \"\\t\")\n",
    "# adding in the information on structure matches\n",
    "pred_qual_df[\"label\"] = \"unannotated\"\n",
    "pred_qual_df.loc[pred_qual_df[\"protein\"].isin(all_elems), \"label\"] = \"annotated\""
   ]
  },
  {
   "cell_type": "code",
   "execution_count": 72,
   "id": "6f8e23b8-3fbe-4bc2-b09a-84ce230317e6",
   "metadata": {},
   "outputs": [
    {
     "data": {
      "text/plain": [
       "MannwhitneyuResult(statistic=np.float64(15470564.0), pvalue=np.float64(7.000611573204745e-192))"
      ]
     },
     "execution_count": 72,
     "metadata": {},
     "output_type": "execute_result"
    }
   ],
   "source": [
    "# let's test whether proteins matching to structure databases have larger MSAs\n",
    "mannwhitneyu(pred_qual_df[pred_qual_df[\"label\"]  == \"annotated\"][\"max MSA depth\"], pred_qual_df[pred_qual_df[\"label\"]  == \"unannotated\"][\"max MSA depth\"], alternative = \"greater\")"
   ]
  },
  {
   "cell_type": "code",
   "execution_count": 73,
   "id": "47abca1f-f5dc-437b-8671-3fd363e58ea1",
   "metadata": {},
   "outputs": [
    {
     "data": {
      "text/plain": [
       "MannwhitneyuResult(statistic=np.float64(15295731.0), pvalue=np.float64(5.295521063828946e-176))"
      ]
     },
     "execution_count": 73,
     "metadata": {},
     "output_type": "execute_result"
    }
   ],
   "source": [
    "# let's test whether proteins matching to structure databases have better pLDDT scores\n",
    "mannwhitneyu(pred_qual_df[pred_qual_df[\"label\"]  == \"annotated\"][\"avg pLDDT_y\"], pred_qual_df[pred_qual_df[\"label\"]  == \"unannotated\"][\"avg pLDDT_y\"], alternative = \"greater\")"
   ]
  },
  {
   "cell_type": "markdown",
   "id": "048f7ced-adfa-4671-9594-1cd9d7707d5a",
   "metadata": {},
   "source": [
    "#### Goal 7 : Investigate the most common annotations per method\n",
    "\n",
    "Let's have a look at which annotations we commonly find, and whether that differs per method/database used. We will only focus on the truly unannotated clusters, and the best annotated hit methods here. "
   ]
  },
  {
   "cell_type": "code",
   "execution_count": 74,
   "id": "ca084111-dc00-4b76-a10b-4bf93f55263f",
   "metadata": {
    "scrolled": true
   },
   "outputs": [
    {
     "data": {
      "text/html": [
       "<div>\n",
       "<style scoped>\n",
       "    .dataframe tbody tr th:only-of-type {\n",
       "        vertical-align: middle;\n",
       "    }\n",
       "\n",
       "    .dataframe tbody tr th {\n",
       "        vertical-align: top;\n",
       "    }\n",
       "\n",
       "    .dataframe thead th {\n",
       "        text-align: right;\n",
       "    }\n",
       "</style>\n",
       "<table border=\"1\" class=\"dataframe\">\n",
       "  <thead>\n",
       "    <tr style=\"text-align: right;\">\n",
       "      <th></th>\n",
       "      <th>annotation</th>\n",
       "      <th>count</th>\n",
       "    </tr>\n",
       "  </thead>\n",
       "  <tbody>\n",
       "    <tr>\n",
       "      <th>231</th>\n",
       "      <td>virion structural protein</td>\n",
       "      <td>190</td>\n",
       "    </tr>\n",
       "    <tr>\n",
       "      <th>208</th>\n",
       "      <td>tail protein</td>\n",
       "      <td>97</td>\n",
       "    </tr>\n",
       "    <tr>\n",
       "      <th>206</th>\n",
       "      <td>tail fiber protein</td>\n",
       "      <td>80</td>\n",
       "    </tr>\n",
       "    <tr>\n",
       "      <th>191</th>\n",
       "      <td>single strand DNA binding protein</td>\n",
       "      <td>40</td>\n",
       "    </tr>\n",
       "    <tr>\n",
       "      <th>38</th>\n",
       "      <td>HNH endonuclease</td>\n",
       "      <td>38</td>\n",
       "    </tr>\n",
       "    <tr>\n",
       "      <th>45</th>\n",
       "      <td>Lar-like restriction alleviation protein</td>\n",
       "      <td>31</td>\n",
       "    </tr>\n",
       "    <tr>\n",
       "      <th>105</th>\n",
       "      <td>endolysin; inhibits RNA polymerase</td>\n",
       "      <td>27</td>\n",
       "    </tr>\n",
       "    <tr>\n",
       "      <th>139</th>\n",
       "      <td>internal virion protein</td>\n",
       "      <td>25</td>\n",
       "    </tr>\n",
       "    <tr>\n",
       "      <th>152</th>\n",
       "      <td>minor tail protein</td>\n",
       "      <td>25</td>\n",
       "    </tr>\n",
       "    <tr>\n",
       "      <th>84</th>\n",
       "      <td>anti-CRISPR protein</td>\n",
       "      <td>24</td>\n",
       "    </tr>\n",
       "  </tbody>\n",
       "</table>\n",
       "</div>"
      ],
      "text/plain": [
       "                                   annotation  count\n",
       "231                 virion structural protein    190\n",
       "208                              tail protein     97\n",
       "206                        tail fiber protein     80\n",
       "191         single strand DNA binding protein     40\n",
       "38                           HNH endonuclease     38\n",
       "45   Lar-like restriction alleviation protein     31\n",
       "105        endolysin; inhibits RNA polymerase     27\n",
       "139                   internal virion protein     25\n",
       "152                        minor tail protein     25\n",
       "84                        anti-CRISPR protein     24"
      ]
     },
     "execution_count": 74,
     "metadata": {},
     "output_type": "execute_result"
    }
   ],
   "source": [
    "# let's have a look at the annotations found - Phold\n",
    "annotations = phold_ann_ta[(phold_ann_ta[\"function\"] != \"unknown function\")].groupby(\"product\").count().reset_index()[[\"product\", \"protein\"]]\n",
    "annotations.rename(columns = {\"product\" : \"annotation\", \"protein\" : \"count\"}, inplace = True)\n",
    "annotations.sort_values(\"count\", ascending = False)[0:10]"
   ]
  },
  {
   "cell_type": "code",
   "execution_count": 75,
   "id": "572f3c3b-9cc9-40ff-bf16-c0be3d2a4b8b",
   "metadata": {
    "scrolled": true
   },
   "outputs": [
    {
     "data": {
      "image/png": "[encoded data removed]",
      "text/plain": [
       "<Figure size 640x480 with 1 Axes>"
      ]
     },
     "metadata": {},
     "output_type": "display_data"
    }
   ],
   "source": [
    "# let's represent this information visually - colors according to the same PHROG palette as in Notebook Code_annotation_background.ipynb\n",
    "sns.barplot(data = annotations.sort_values(\"count\", ascending = False)[0:10], y = \"annotation\", x = \"count\", hue = \"annotation\", palette =   \n",
    "            {\"virion structural protein\" : \"#440154\", \"tail protein\" : \"#3b528b\", \"tail fiber protein\" : \"#3b528b\", \n",
    "             \"single strand DNA binding protein\" : \"#2c728e\", \"HNH endonuclease\": \"#2c728e\", \"Lar-like restriction alleviation protein\" : \"#addc30\", \n",
    "             \"endolysin; inhibits RNA polymerase\" : \"#28ae80\", \"internal virion protein\" : \"#440154\", \"minor tail protein\" : \"#3b528b\",\n",
    "             \"anti-CRISPR protein\" : \"#addc30\"})\n",
    "sns.despine()\n",
    "plt.savefig(os.path.join(master_dir, \"article_figures\", \"fig6\", \"top10annotation_phold_bah_trulyunann_cluster.svg\"), format = \"svg\", transparent = True, bbox_inches = \"tight\")"
   ]
  },
  {
   "cell_type": "code",
   "execution_count": 76,
   "id": "a258d0b8-5b8f-4e1e-be6e-1fa1587cb635",
   "metadata": {
    "scrolled": true
   },
   "outputs": [
    {
     "data": {
      "text/html": [
       "<div>\n",
       "<style scoped>\n",
       "    .dataframe tbody tr th:only-of-type {\n",
       "        vertical-align: middle;\n",
       "    }\n",
       "\n",
       "    .dataframe tbody tr th {\n",
       "        vertical-align: top;\n",
       "    }\n",
       "\n",
       "    .dataframe thead th {\n",
       "        text-align: right;\n",
       "    }\n",
       "</style>\n",
       "<table border=\"1\" class=\"dataframe\">\n",
       "  <thead>\n",
       "    <tr style=\"text-align: right;\">\n",
       "      <th></th>\n",
       "      <th>annotation</th>\n",
       "      <th>count</th>\n",
       "    </tr>\n",
       "  </thead>\n",
       "  <tbody>\n",
       "    <tr>\n",
       "      <th>198</th>\n",
       "      <td>Pseudomonas phage E217 neck (portal, head-to-t...</td>\n",
       "      <td>12</td>\n",
       "    </tr>\n",
       "    <tr>\n",
       "      <th>31</th>\n",
       "      <td>Cryo-EM Structure of the P74-26 Tail Tube</td>\n",
       "      <td>10</td>\n",
       "    </tr>\n",
       "    <tr>\n",
       "      <th>5</th>\n",
       "      <td>70S-PHIKZ014</td>\n",
       "      <td>10</td>\n",
       "    </tr>\n",
       "    <tr>\n",
       "      <th>166</th>\n",
       "      <td>Cyanophage Pam3 baseplate proteins</td>\n",
       "      <td>8</td>\n",
       "    </tr>\n",
       "    <tr>\n",
       "      <th>225</th>\n",
       "      <td>Structure of Clostridium botulinum prophage Ta...</td>\n",
       "      <td>8</td>\n",
       "    </tr>\n",
       "    <tr>\n",
       "      <th>292</th>\n",
       "      <td>VRR_NUC domain protein</td>\n",
       "      <td>7</td>\n",
       "    </tr>\n",
       "    <tr>\n",
       "      <th>258</th>\n",
       "      <td>Structure of the apo-state of the bacteriophag...</td>\n",
       "      <td>7</td>\n",
       "    </tr>\n",
       "    <tr>\n",
       "      <th>82</th>\n",
       "      <td>Crystal structure of Putative Oxygenase (YP_00...</td>\n",
       "      <td>7</td>\n",
       "    </tr>\n",
       "    <tr>\n",
       "      <th>1</th>\n",
       "      <td>2.1 Angstrom resolution crystal structure of u...</td>\n",
       "      <td>7</td>\n",
       "    </tr>\n",
       "    <tr>\n",
       "      <th>156</th>\n",
       "      <td>Crystal structure of the peptidyl-tRNA hydrola...</td>\n",
       "      <td>7</td>\n",
       "    </tr>\n",
       "  </tbody>\n",
       "</table>\n",
       "</div>"
      ],
      "text/plain": [
       "                                            annotation  count\n",
       "198  Pseudomonas phage E217 neck (portal, head-to-t...     12\n",
       "31           Cryo-EM Structure of the P74-26 Tail Tube     10\n",
       "5                                         70S-PHIKZ014     10\n",
       "166                 Cyanophage Pam3 baseplate proteins      8\n",
       "225  Structure of Clostridium botulinum prophage Ta...      8\n",
       "292                             VRR_NUC domain protein      7\n",
       "258  Structure of the apo-state of the bacteriophag...      7\n",
       "82   Crystal structure of Putative Oxygenase (YP_00...      7\n",
       "1    2.1 Angstrom resolution crystal structure of u...      7\n",
       "156  Crystal structure of the peptidyl-tRNA hydrola...      7"
      ]
     },
     "execution_count": 76,
     "metadata": {},
     "output_type": "execute_result"
    }
   ],
   "source": [
    "# let's have a look at the annotations found - PDB BAH\n",
    "annotations = pdb_ann_ta_match_bah_ann.groupby(\"best_ann_bah\").count().reset_index()[[\"best_ann_bah\", \"protein\"]]\n",
    "annotations.rename(columns = {\"best_ann_bah\" : \"annotation\", \"protein\" : \"count\"}, inplace = True)\n",
    "annotations.sort_values(\"count\", ascending = False)[0:10]"
   ]
  },
  {
   "cell_type": "code",
   "execution_count": 77,
   "id": "33af31b0-0ddf-4a98-9713-dbb19ff7f7af",
   "metadata": {
    "scrolled": true
   },
   "outputs": [
    {
     "data": {
      "text/plain": [
       "<Axes: xlabel='count', ylabel='annotation'>"
      ]
     },
     "execution_count": 77,
     "metadata": {},
     "output_type": "execute_result"
    },
    {
     "data": {
      "image/png": "[encoded data removed]",
      "text/plain": [
       "<Figure size 640x480 with 1 Axes>"
      ]
     },
     "metadata": {},
     "output_type": "display_data"
    }
   ],
   "source": [
    "# let's represent this information visually\n",
    "sns.barplot(data = annotations.sort_values(\"count\", ascending = False)[0:10], y = \"annotation\", x = \"count\", hue = \"annotation\", palette = \"viridis\")"
   ]
  },
  {
   "cell_type": "code",
   "execution_count": 78,
   "id": "2c47dd8b-414b-4a4d-a575-b89c269c428b",
   "metadata": {
    "scrolled": true
   },
   "outputs": [
    {
     "data": {
      "text/html": [
       "<div>\n",
       "<style scoped>\n",
       "    .dataframe tbody tr th:only-of-type {\n",
       "        vertical-align: middle;\n",
       "    }\n",
       "\n",
       "    .dataframe tbody tr th {\n",
       "        vertical-align: top;\n",
       "    }\n",
       "\n",
       "    .dataframe thead th {\n",
       "        text-align: right;\n",
       "    }\n",
       "</style>\n",
       "<table border=\"1\" class=\"dataframe\">\n",
       "  <thead>\n",
       "    <tr style=\"text-align: right;\">\n",
       "      <th></th>\n",
       "      <th>annotation</th>\n",
       "      <th>count</th>\n",
       "    </tr>\n",
       "  </thead>\n",
       "  <tbody>\n",
       "    <tr>\n",
       "      <th>175</th>\n",
       "      <td>DUF4326 domain-containing protein</td>\n",
       "      <td>24</td>\n",
       "    </tr>\n",
       "    <tr>\n",
       "      <th>651</th>\n",
       "      <td>Virion structural protein</td>\n",
       "      <td>22</td>\n",
       "    </tr>\n",
       "    <tr>\n",
       "      <th>189</th>\n",
       "      <td>DUF5664 domain-containing protein</td>\n",
       "      <td>21</td>\n",
       "    </tr>\n",
       "    <tr>\n",
       "      <th>202</th>\n",
       "      <td>Ead/Ea22-like family protein</td>\n",
       "      <td>19</td>\n",
       "    </tr>\n",
       "    <tr>\n",
       "      <th>215</th>\n",
       "      <td>Fe2OG dioxygenase domain-containing protein</td>\n",
       "      <td>15</td>\n",
       "    </tr>\n",
       "    <tr>\n",
       "      <th>459</th>\n",
       "      <td>Protein of uncharacterized function (DUF3268)</td>\n",
       "      <td>15</td>\n",
       "    </tr>\n",
       "    <tr>\n",
       "      <th>221</th>\n",
       "      <td>FluMu_N domain-containing protein</td>\n",
       "      <td>15</td>\n",
       "    </tr>\n",
       "    <tr>\n",
       "      <th>617</th>\n",
       "      <td>Transposase</td>\n",
       "      <td>14</td>\n",
       "    </tr>\n",
       "    <tr>\n",
       "      <th>503</th>\n",
       "      <td>Putative structural protein</td>\n",
       "      <td>13</td>\n",
       "    </tr>\n",
       "    <tr>\n",
       "      <th>416</th>\n",
       "      <td>Phage tail protein</td>\n",
       "      <td>13</td>\n",
       "    </tr>\n",
       "  </tbody>\n",
       "</table>\n",
       "</div>"
      ],
      "text/plain": [
       "                                        annotation  count\n",
       "175              DUF4326 domain-containing protein     24\n",
       "651                      Virion structural protein     22\n",
       "189              DUF5664 domain-containing protein     21\n",
       "202                   Ead/Ea22-like family protein     19\n",
       "215    Fe2OG dioxygenase domain-containing protein     15\n",
       "459  Protein of uncharacterized function (DUF3268)     15\n",
       "221              FluMu_N domain-containing protein     15\n",
       "617                                    Transposase     14\n",
       "503                    Putative structural protein     13\n",
       "416                             Phage tail protein     13"
      ]
     },
     "execution_count": 78,
     "metadata": {},
     "output_type": "execute_result"
    }
   ],
   "source": [
    "# let's have a look at the annotations found - AF BAH\n",
    "annotations = afdb_ann_ta_match_bah_ann.groupby(\"best_ann_bah\").count().reset_index()[[\"best_ann_bah\", \"protein\"]]\n",
    "annotations.rename(columns = {\"best_ann_bah\" : \"annotation\", \"protein\" : \"count\"}, inplace = True)\n",
    "annotations.sort_values(\"count\", ascending = False)[0:10]"
   ]
  },
  {
   "cell_type": "code",
   "execution_count": 79,
   "id": "30cfef43-9954-48be-8f4d-eb1df12aafb4",
   "metadata": {
    "scrolled": true
   },
   "outputs": [
    {
     "data": {
      "image/png": "[encoded data removed]",
      "text/plain": [
       "<Figure size 640x480 with 1 Axes>"
      ]
     },
     "metadata": {},
     "output_type": "display_data"
    }
   ],
   "source": [
    "# let's represent this information visually\n",
    "sns.barplot(data = annotations.sort_values(\"count\", ascending = False)[0:10], y = \"annotation\", x = \"count\", hue = \"annotation\", palette = {\n",
    "    \"DUF4326 domain-containing protein\" : \"#d3d3d3\", \"Virion structural protein\" : \"#440154\", \"DUF5664 domain-containing protein\" : \"#ffffff\",\n",
    "    \"Ead/Ea22-like family protein\" : \"#d3d3d3\", \"Fe2OG dioxygenase domain-containing protein\" : \"#ffffff\", \n",
    "    \"Protein of uncharacterized function (DUF3268)\" : \"#d3d3d3\", \"FluMu_N domain-containing protein\" : \"#ffffff\",\n",
    "    \"Transposase\" : \"#21918c\", \"Putative structural protein\" : \"#440154\", \"Phage tail protein\" : \"#3b528b\"}, linewidth = 1, edgecolor = \"0.9\" )\n",
    "sns.despine()\n",
    "plt.savefig(os.path.join(master_dir, \"article_figures\", \"fig6\", \"top10annotation_af_bah_trulyunann_cluster.svg\"), format = \"svg\", transparent = True, bbox_inches = \"tight\")"
   ]
  },
  {
   "cell_type": "markdown",
   "id": "9072a77f-6ba6-45a8-967b-a4cb17437f23",
   "metadata": {},
   "source": [
    "#### Goal 8 : Implement a three tiered best annotated hit annotation method, and assess whether it improves annotations from the AlphaFold database.\n",
    "\n",
    "Clearly, the AlphaFold database still contains many annotations of 'low information': the most common annotations contain multiple DUF-domain containing proteins. Let's see if we can improve annotation quality, but adding a third level of annotation quality, beyond the binary annotated/unannotated. But first, let's check how many of the current annotations could be seen as of 'low informative'."
   ]
  },
  {
   "cell_type": "code",
   "execution_count": 80,
   "id": "1ae1d7be-b55b-40d0-88e9-e73bada7f29c",
   "metadata": {},
   "outputs": [],
   "source": [
    "# set of filters to identify low informative annotations\n",
    "low_af_search = [r\"duf[0-9]+\", \"br0599\"] \n",
    "low_af_match = [r\"uncharacterized (mitochondrial )?protein ((xf_1581/xf_1686)|(atmg00810-like))\",\n",
    "                  r\"uncharacterized( membrane)? protein ([\\w+]+ )?\\((upf)[\\d+]+( family\\))\", r\"cson[\\d+]+ protein\", \n",
    "                  \"putative phage-related exported protein\",\n",
    "                  r\"((hypothetical|predicted|putative) )?(conserved )?((pro)?phage )?(cytosolic|membrane|secreted|exported|cytoplasmic)( associated)?( phage)? protein(, putative)?\"\n",
    "                 ]"
   ]
  },
  {
   "cell_type": "code",
   "execution_count": 81,
   "id": "d6381e90-2989-4952-bfb2-dcaa5822d12a",
   "metadata": {},
   "outputs": [],
   "source": [
    "# function to test whether an annotation is to be considered low informative\n",
    "def is_low_af(descr):\n",
    "    low_label = False\n",
    "    for filter_descr_s in low_af_search:\n",
    "        if re.search(filter_descr_s, descr.strip().lower()) != None:\n",
    "            low_label = True\n",
    "    for filter_descr_m in low_af_match:\n",
    "        if re.fullmatch(filter_descr_m, descr.strip().lower()) != None:\n",
    "            low_label = True\n",
    "    return low_label"
   ]
  },
  {
   "cell_type": "code",
   "execution_count": 82,
   "id": "4ad6e2de-da63-4988-8bbb-19824d23101e",
   "metadata": {
    "collapsed": true,
    "jupyter": {
     "outputs_hidden": true
    },
    "scrolled": true
   },
   "outputs": [
    {
     "name": "stderr",
     "output_type": "stream",
     "text": [
      "C:\\Users\\hanne\\AppData\\Local\\Temp\\ipykernel_13196\\1527752821.py:2: SettingWithCopyWarning: \n",
      "A value is trying to be set on a copy of a slice from a DataFrame.\n",
      "Try using .loc[row_indexer,col_indexer] = value instead\n",
      "\n",
      "See the caveats in the documentation: https://pandas.pydata.org/pandas-docs/stable/user_guide/indexing.html#returning-a-view-versus-a-copy\n",
      "  afdb_ann_ta_match_bah_ann[\"low_inf\"] = afdb_ann_ta_match_bah_ann.apply(lambda row: is_low_af(row[\"best_ann_bah\"]),axis=1)\n"
     ]
    }
   ],
   "source": [
    "# investigating the number of low informative annotations\n",
    "afdb_ann_ta_match_bah_ann[\"low_inf\"] = afdb_ann_ta_match_bah_ann.apply(lambda row: is_low_af(row[\"best_ann_bah\"]),axis=1)"
   ]
  },
  {
   "cell_type": "code",
   "execution_count": 83,
   "id": "3c990bc9-641b-4a49-9778-4c2213baca0e",
   "metadata": {},
   "outputs": [
    {
     "name": "stdout",
     "output_type": "stream",
     "text": [
      "Statistics of annotation using the AlphaFold database:\n",
      "------------------------------------------------\n",
      "Matches against the AlphaFold database:\n",
      "    Number of clusters with matches: 3458\n",
      "    Number of clusters without matches: 4188\n",
      "------------------------------------------------\n",
      "Best annotated hit annotation method:\n",
      "    Number of clusters with annotations: 1492 (43.15% of all those with matches, 19.51% of all truly unannotated clusters)\n",
      "        Number of clusters with highly informative annotations: 1180 (79.09% of all annotations)\n",
      "        Number of clusters with lowly informative annotations: 312 (20.91% of all annotations) \n",
      "    Number of clusters without annotations: 6154 (4188 due to no matches)\n"
     ]
    }
   ],
   "source": [
    "# printing some statistics\n",
    "num_low_inf = len(afdb_ann_ta_match_bah_ann[afdb_ann_ta_match_bah_ann[\"low_inf\"] == True])\n",
    "num_high_inf = len(afdb_ann_ta_match_bah_ann[afdb_ann_ta_match_bah_ann[\"low_inf\"] == False])\n",
    "per_low_inf = \"{:.2f}\".format(num_low_inf*100/(num_low_inf+num_high_inf))\n",
    "per_high_inf = \"{:.2f}\".format(num_high_inf*100/(num_low_inf+num_high_inf))\n",
    "print(f\"Statistics of annotation using the AlphaFold database:\")\n",
    "print(f\"------------------------------------------------\")\n",
    "print(f\"Matches against the AlphaFold database:\")\n",
    "print(f\"    Number of clusters with matches: {num_tba_ta-num_afdb_ann_ta_nomatch}\")\n",
    "print(f\"    Number of clusters without matches: {num_afdb_ann_ta_nomatch}\")\n",
    "print(f\"------------------------------------------------\")\n",
    "print(f\"Best annotated hit annotation method:\")\n",
    "print(f\"    Number of clusters with annotations: {num_afdb_ann_ta_match_bah_ann} ({per_afdb_ann_ta_match_bah_ann}% of all those with matches, {per_afdb_ann_ta_bah_ann}% of all truly unannotated clusters)\")\n",
    "print(f\"        Number of clusters with highly informative annotations: {num_high_inf} ({per_high_inf}% of all annotations)\")\n",
    "print(f\"        Number of clusters with lowly informative annotations: {num_low_inf} ({per_low_inf}% of all annotations) \")\n",
    "print(f\"    Number of clusters without annotations: {num_afdb_ann_ta_match_bah_unann + num_afdb_ann_ta_nomatch} ({num_afdb_ann_ta_nomatch} due to no matches)\")"
   ]
  },
  {
   "cell_type": "markdown",
   "id": "49d07566-68cd-4fe7-9670-69a22945fef6",
   "metadata": {},
   "source": [
    "Let's now see if we can improve this rate if we use the three tiers during the annotation process."
   ]
  },
  {
   "cell_type": "code",
   "execution_count": 84,
   "id": "c5591aef-a262-4478-aa7f-43fad45b3358",
   "metadata": {},
   "outputs": [],
   "source": [
    "# now let's write a function to loop over a list of entries, and look for the best annotation\n",
    "def find_best_annotation_foldseek_af50m_tt(dataframe):\n",
    "    annotation_found = False\n",
    "    low_annotation_found = False\n",
    "    low_list = list()\n",
    "    for i in range(0, len(dataframe)):\n",
    "        target = dataframe.at[i, \"target\"]\n",
    "        descr = af50mid_descr_db.get(target)\n",
    "        # get top annotation that is not a hypothetical or low informative annotation\n",
    "        if (is_hypothetical_af(descr) == False) and (is_low_af(descr) == False):\n",
    "            annotation_found = True\n",
    "            best_ann = descr\n",
    "            break\n",
    "        # accumulate low informative annotations\n",
    "        if (is_hypothetical_af(descr) == False) and (is_low_af(descr) == True):\n",
    "            low_annotation_found = True\n",
    "            low_list.append(descr)\n",
    "    # if all annotations are hypothetical or low information, the annotation_found flag remains False\n",
    "    if annotation_found == False:\n",
    "        # if we have a low information annotation, we prefer this one (if multiple, the one rated highest)\n",
    "        if low_annotation_found == True:\n",
    "            best_ann = low_list[0]\n",
    "        # if we do not have a low informative annotation, we take the highest ranked annotation\n",
    "        else:\n",
    "            best_ann = af50mid_descr_db.get(dataframe.at[0, \"target\"])\n",
    "    return best_ann, annotation_found, low_annotation_found"
   ]
  },
  {
   "cell_type": "code",
   "execution_count": null,
   "id": "aae35f16-b8bc-46e6-ba33-9984a9894265",
   "metadata": {},
   "outputs": [],
   "source": [
    "# writing results to file for inspection\n",
    "file = open(os.path.join(one_hit_dir, \"best_annotated_hit_threetiers_annotations.tsv\"), \"w\")\n",
    "file.write(f\"protein\\tpdb/af50m\\tempty\\tbest_ann\\tannotation_found\\tlow_information\\n\")\n",
    "for batch, protein_set in dict_batch_comp.items():\n",
    "    for protein in protein_set:\n",
    "        pdb_fil, af50m_fil = read_foldseek_protein(batch, protein)\n",
    "        if af50m_fil.empty:\n",
    "            file.write(f\"{protein}\\taf50m\\tTrue\\tNA\\tNA\\tNA\\n\")\n",
    "        if not af50m_fil.empty:\n",
    "            af50m_fil = af50m_fil.sort_values(\"bits\", ascending = False)\n",
    "            best_ann, annotation_found, low_annotation_found = find_best_annotation_foldseek_af50m_tt(af50m_fil)\n",
    "            file.write(f\"{protein}\\taf50m\\tFalse\\t{best_ann}\\t{annotation_found}\\t{low_annotation_found}\\n\") \n",
    "file.close()"
   ]
  },
  {
   "cell_type": "code",
   "execution_count": 85,
   "id": "bf479e29-acc6-4f91-9f9a-852116a45ec7",
   "metadata": {},
   "outputs": [],
   "source": [
    "# reading results\n",
    "afdb_ann_tt = pd.read_csv(os.path.join(one_hit_dir, \"best_annotated_hit_threetiers_annotations.tsv\"), sep = \"\\t\")\n",
    "    # adding information on Pharokka annotation\n",
    "afdb_ann_tt[\"pharokka_ann\"] = False\n",
    "afdb_ann_tt.loc[afdb_ann_tt[\"protein\"].isin(ncbi_id_ann), \"pharokka_ann\"] = True"
   ]
  },
  {
   "cell_type": "code",
   "execution_count": 86,
   "id": "3da479dc-aa3c-4671-9693-5e8b217fe8ab",
   "metadata": {},
   "outputs": [
    {
     "name": "stdout",
     "output_type": "stream",
     "text": [
      "Statistics of annotation using the AlphaFold database:\n",
      "------------------------------------------------\n",
      "Matches against the AlphaFold database:\n",
      "    Number of clusters with matches: 3458\n",
      "    Number of clusters without matches: 4188\n",
      "------------------------------------------------\n",
      "Best annotated hit annotation method:\n",
      "    Number of clusters with annotations: 1492 (43.15% of all those with matches, 19.51% of all truly unannotated clusters)\n",
      "        Number of clusters with highly informative annotations: 1379 (92.43% of all annotations)\n",
      "        Number of clusters with lowly informative annotations: 113 (7.57% of all annotations) \n",
      "    Number of clusters without annotations: 6154 (4188 due to no matches)\n"
     ]
    }
   ],
   "source": [
    "# AlphaFold database statistics\n",
    "afdb_ann_ta_tt = afdb_ann_tt[afdb_ann_tt[\"pharokka_ann\"] == False]\n",
    "afdb_ann_ta_tt_match = afdb_ann_ta_tt[afdb_ann_ta_tt[\"empty\"] == False]\n",
    "afdb_ann_ta_tt_match_bah_ann = afdb_ann_ta_tt_match[~((afdb_ann_ta_tt_match[\"annotation_found\"] == False) & (afdb_ann_ta_tt_match[\"low_information\"] == False))]\n",
    "afdb_ann_ta_tt_match_bah_ann_hi = afdb_ann_ta_tt_match[afdb_ann_ta_tt_match[\"annotation_found\"] == True]\n",
    "afdb_ann_ta_tt_match_bah_ann_li = afdb_ann_ta_tt_match[(afdb_ann_ta_tt_match[\"annotation_found\"] == False) & (afdb_ann_ta_tt_match[\"low_information\"] == True)]\n",
    "afdb_ann_ta_tt_match_bah_unann = afdb_ann_ta_tt_match[(afdb_ann_ta_tt_match[\"annotation_found\"] == False) & (afdb_ann_ta_tt_match[\"low_information\"] == False)]\n",
    "    # number of truly unannotated clusters with no match against AlphaFold database\n",
    "num_afdb_ann_ta_tt_nomatch = len(afdb_ann_ta_tt[afdb_ann_ta_tt[\"empty\"] == True]) \n",
    "    # percentage of truly unannotated clusters with no match against AlphaFold database\n",
    "per_afdb_ann_ta_tt_nomatch = \"{:.2f}\".format(num_afdb_ann_ta_tt_nomatch*100/num_tba_ta)\n",
    "    # number of truly unannotated clusters with annotated match (BAH method)\n",
    "num_afdb_ann_ta_tt_match_bah_ann = len(afdb_ann_ta_tt_match_bah_ann) \n",
    "    # of the truly unannotated clusters which percentage gets annotated using BAH\n",
    "per_afdb_ann_ta_tt_bah_ann = \"{:.2f}\".format(num_afdb_ann_ta_tt_match_bah_ann*100/(num_tba_ta)) \n",
    "    # of the truly unannotated clusters with matches, which percentage gets annotated using BAH\n",
    "per_afdb_ann_ta_tt_match_bah_ann = \"{:.2f}\".format(num_afdb_ann_ta_tt_match_bah_ann*100/(num_tba_ta-num_afdb_ann_ta_tt_nomatch)) \n",
    "    # of the truly unannotated clusters with annotated matches, how many are high informative annotations\n",
    "num_afdb_ann_ta_tt_match_bah_ann_hi = len(afdb_ann_ta_tt_match_bah_ann_hi)\n",
    "    # of the truly unannotated clusters with annotated matches, how many are low informative annotations\n",
    "num_afdb_ann_ta_tt_match_bah_ann_li = len(afdb_ann_ta_tt_match_bah_ann_li)\n",
    "    # of the truly unannotated clusters with annotated matches, which percentage are high informative annotations\n",
    "per_afdb_ann_ta_tt_match_bah_ann_hi = \"{:.2f}\".format(num_afdb_ann_ta_tt_match_bah_ann_hi*100/(num_afdb_ann_ta_tt_match_bah_ann_li+num_afdb_ann_ta_tt_match_bah_ann_hi))\n",
    "    # of the truly unannotated clusters with annotated matches, which percentage are low informative annotations\n",
    "per_afdb_ann_ta_tt_match_bah_ann_li = \"{:.2f}\".format(num_afdb_ann_ta_tt_match_bah_ann_li*100/(num_afdb_ann_ta_tt_match_bah_ann_li+num_afdb_ann_ta_tt_match_bah_ann_hi))\n",
    "    # number of truly unannotated clusters with unannotated match (BAH method)\n",
    "num_afdb_ann_ta_tt_match_bah_unann = len(afdb_ann_ta_tt_match_bah_unann)  \n",
    "print(f\"Statistics of annotation using the AlphaFold database:\")\n",
    "print(f\"------------------------------------------------\")\n",
    "print(f\"Matches against the AlphaFold database:\")\n",
    "print(f\"    Number of clusters with matches: {num_tba_ta-num_afdb_ann_ta_tt_nomatch}\")\n",
    "print(f\"    Number of clusters without matches: {num_afdb_ann_ta_tt_nomatch}\")\n",
    "print(f\"------------------------------------------------\")\n",
    "print(f\"Best annotated hit annotation method:\")\n",
    "print(f\"    Number of clusters with annotations: {num_afdb_ann_ta_tt_match_bah_ann} ({per_afdb_ann_ta_tt_match_bah_ann}% of all those with matches, {per_afdb_ann_ta_tt_bah_ann}% of all truly unannotated clusters)\")\n",
    "print(f\"        Number of clusters with highly informative annotations: {num_afdb_ann_ta_tt_match_bah_ann_hi} ({per_afdb_ann_ta_tt_match_bah_ann_hi}% of all annotations)\")\n",
    "print(f\"        Number of clusters with lowly informative annotations: {num_afdb_ann_ta_tt_match_bah_ann_li} ({per_afdb_ann_ta_tt_match_bah_ann_li}% of all annotations) \")\n",
    "print(f\"    Number of clusters without annotations: {num_afdb_ann_ta_tt_match_bah_unann + num_afdb_ann_ta_tt_nomatch} ({num_afdb_ann_ta_tt_nomatch} due to no matches)\")"
   ]
  },
  {
   "cell_type": "markdown",
   "id": "23592ad5-50ae-4ffd-bed8-2c270c7dd1c0",
   "metadata": {},
   "source": [
    "Indeed, the number of low informative annotations can be drastically reduced! Let's represent this information visually:"
   ]
  },
  {
   "cell_type": "code",
   "execution_count": 87,
   "id": "6a7666c1-bd14-408e-b142-9ea06a0d3381",
   "metadata": {
    "scrolled": true
   },
   "outputs": [
    {
     "data": {
      "text/html": [
       "<div>\n",
       "<style scoped>\n",
       "    .dataframe tbody tr th:only-of-type {\n",
       "        vertical-align: middle;\n",
       "    }\n",
       "\n",
       "    .dataframe tbody tr th {\n",
       "        vertical-align: top;\n",
       "    }\n",
       "\n",
       "    .dataframe thead th {\n",
       "        text-align: right;\n",
       "    }\n",
       "</style>\n",
       "<table border=\"1\" class=\"dataframe\">\n",
       "  <thead>\n",
       "    <tr style=\"text-align: right;\">\n",
       "      <th></th>\n",
       "      <th>annotation</th>\n",
       "      <th>count</th>\n",
       "    </tr>\n",
       "  </thead>\n",
       "  <tbody>\n",
       "    <tr>\n",
       "      <th>658</th>\n",
       "      <td>Virion structural protein</td>\n",
       "      <td>22</td>\n",
       "    </tr>\n",
       "    <tr>\n",
       "      <th>178</th>\n",
       "      <td>Ead/Ea22-like family protein</td>\n",
       "      <td>21</td>\n",
       "    </tr>\n",
       "    <tr>\n",
       "      <th>167</th>\n",
       "      <td>DUF5664 domain-containing protein</td>\n",
       "      <td>18</td>\n",
       "    </tr>\n",
       "    <tr>\n",
       "      <th>198</th>\n",
       "      <td>FluMu_N domain-containing protein</td>\n",
       "      <td>15</td>\n",
       "    </tr>\n",
       "    <tr>\n",
       "      <th>192</th>\n",
       "      <td>Fe2OG dioxygenase domain-containing protein</td>\n",
       "      <td>15</td>\n",
       "    </tr>\n",
       "    <tr>\n",
       "      <th>505</th>\n",
       "      <td>Putative structural protein</td>\n",
       "      <td>14</td>\n",
       "    </tr>\n",
       "    <tr>\n",
       "      <th>73</th>\n",
       "      <td>Burkholderia phage Bcep781 gp05</td>\n",
       "      <td>14</td>\n",
       "    </tr>\n",
       "    <tr>\n",
       "      <th>632</th>\n",
       "      <td>Transposase</td>\n",
       "      <td>14</td>\n",
       "    </tr>\n",
       "    <tr>\n",
       "      <th>411</th>\n",
       "      <td>Phage tail protein</td>\n",
       "      <td>13</td>\n",
       "    </tr>\n",
       "    <tr>\n",
       "      <th>318</th>\n",
       "      <td>Minor capsid protein</td>\n",
       "      <td>11</td>\n",
       "    </tr>\n",
       "  </tbody>\n",
       "</table>\n",
       "</div>"
      ],
      "text/plain": [
       "                                      annotation  count\n",
       "658                    Virion structural protein     22\n",
       "178                 Ead/Ea22-like family protein     21\n",
       "167            DUF5664 domain-containing protein     18\n",
       "198            FluMu_N domain-containing protein     15\n",
       "192  Fe2OG dioxygenase domain-containing protein     15\n",
       "505                  Putative structural protein     14\n",
       "73               Burkholderia phage Bcep781 gp05     14\n",
       "632                                  Transposase     14\n",
       "411                           Phage tail protein     13\n",
       "318                         Minor capsid protein     11"
      ]
     },
     "execution_count": 87,
     "metadata": {},
     "output_type": "execute_result"
    }
   ],
   "source": [
    "# let's have a look at the annotations found - AF BAH\n",
    "annotations = afdb_ann_ta_tt_match_bah_ann.groupby(\"best_ann\").count().reset_index()[[\"best_ann\", \"protein\"]]\n",
    "annotations.rename(columns = {\"best_ann\" : \"annotation\", \"protein\" : \"count\"}, inplace = True)\n",
    "annotations.sort_values(\"count\", ascending = False)[0:10]"
   ]
  },
  {
   "cell_type": "code",
   "execution_count": 88,
   "id": "4999699a-243b-4cd4-9886-3ef5d4a72842",
   "metadata": {
    "scrolled": true
   },
   "outputs": [
    {
     "data": {
      "image/png": "[encoded data removed]",
      "text/plain": [
       "<Figure size 640x480 with 1 Axes>"
      ]
     },
     "metadata": {},
     "output_type": "display_data"
    }
   ],
   "source": [
    "# let's represent this information visually\n",
    "sns.barplot(data = annotations.sort_values(\"count\", ascending = False)[0:10], y = \"annotation\", x = \"count\", hue = \"annotation\", palette = {\n",
    "    \"Virion structural protein\" : \"#440154\", \"Ead/Ea22-like family protein\" : \"#d3d3d3\", \"DUF5664 domain-containing protein\" : \"#ffffff\",\n",
    "    \"FluMu_N domain-containing protein\" : \"#ffffff\", \"Fe2OG dioxygenase domain-containing protein\" : \"#ffffff\", \"Putative structural protein\" : \"#440154\",\n",
    "    \"Burkholderia phage Bcep781 gp05\" : \"#ffffff\", \"Transposase\" : \"#21918c\", \"Phage tail protein\" : \"#3b528b\", \"Minor capsid protein\" : \"#440154\"}, \n",
    "    linewidth = 1, edgecolor = \"0.9\" )\n",
    "sns.despine()\n",
    "plt.savefig(os.path.join(master_dir, \"article_figures\", \"fig6\", \"top10annotation_af_bah_tt_trulyunann_cluster.svg\"), format = \"svg\", transparent = True, bbox_inches = \"tight\")"
   ]
  },
  {
   "cell_type": "code",
   "execution_count": 89,
   "id": "e13db899-ae13-47de-b5b4-3c16110d2f52",
   "metadata": {},
   "outputs": [
    {
     "data": {
      "image/png": "[encoded data removed]",
      "text/plain": [
       "<Figure size 640x480 with 1 Axes>"
      ]
     },
     "metadata": {},
     "output_type": "display_data"
    }
   ],
   "source": [
    "# now let's do a stacked bar chart to show the change in low informative annotations\n",
    "# creating data dicts\n",
    "afdb_bah_data = {\"no match\" : len(afdb_ann_ta[afdb_ann_ta[\"empty\"] == True]) , \n",
    "               \"highly informative annotation\": num_high_inf, \n",
    "               \"lowly informative annotation\": num_low_inf, \n",
    "               \"unannotated match\": len(afdb_ann_ta_match_bah_unann)}\n",
    "afdb_bah_tt_data = {\"no match\" : num_afdb_ann_ta_tt_nomatch, \n",
    "               \"highly informative annotation\": num_afdb_ann_ta_tt_match_bah_ann_hi, \n",
    "               \"lowly informative annotation\": num_afdb_ann_ta_tt_match_bah_ann_li, \n",
    "               \"unannotated match\": num_afdb_ann_ta_tt_match_bah_unann}\n",
    "# put data in long format in a dataframe\n",
    "data_plot = pd.DataFrame({\"Annotation status\": list(afdb_bah_data.keys()) + list(afdb_bah_tt_data.keys()),\n",
    "                    \"Dataset\": [\"AF - BAH\"] * len(afdb_bah_data.items()) + [\"AF - BAH + TT\"] * len(afdb_bah_tt_data.items()),\n",
    "                    \"Number of clusters\": list(afdb_bah_data.values()) + list(afdb_bah_tt_data.values())})\n",
    "# one liner to create a stacked bar chart\n",
    "ax = sns.histplot(data_plot, x = \"Dataset\", hue = \"Annotation status\" , weights = \"Number of clusters\", multiple = \"stack\", palette = {\n",
    "                  \"no match\" : \"#ffff\", \"unannotated match\" : \"#2a788e\", \"highly informative annotation\" : \"#440154\", \"lowly informative annotation\" : \"#443983\"}, \n",
    "                  shrink = 0.8, alpha = 1, legend = False)\n",
    "ax.set_ylabel(\"Number of clusters\")\n",
    "ax.set_xlabel(\"Annotation strategy (database + method)\")\n",
    "sns.despine()\n",
    "plt.savefig(os.path.join(master_dir, \"article_figures\", \"fig6\", \"distribution_informativeness_bah_cluster.svg\"), format = \"svg\", transparent = True, bbox_inches = \"tight\")"
   ]
  },
  {
   "cell_type": "markdown",
   "id": "2e87de77-ff0e-41f9-a84c-8524b692e719",
   "metadata": {},
   "source": [
    "#### Goal 9 : Implement a three tiered best annotated hit annotation method, and assess whether it improves annotations fetched through UniProt.\n",
    "\n",
    "Clearly, the AlphaFold database annotations could be improved when using a three tiered classification scheme. Does the same hold for the UniProt annotations for the PDB and AlphaFold database? "
   ]
  },
  {
   "cell_type": "markdown",
   "id": "64609f6e-193e-4d21-9a30-c1766629a9c1",
   "metadata": {},
   "source": [
    "##### Assessing the amount of low informative annotations present in the two tiered system"
   ]
  },
  {
   "cell_type": "code",
   "execution_count": 90,
   "id": "8d49df9e-fa25-4a7a-b279-fc63b488546e",
   "metadata": {
    "collapsed": true,
    "jupyter": {
     "outputs_hidden": true
    }
   },
   "outputs": [
    {
     "name": "stderr",
     "output_type": "stream",
     "text": [
      "C:\\Users\\hanne\\AppData\\Local\\Temp\\ipykernel_13196\\3550353553.py:2: SettingWithCopyWarning: \n",
      "A value is trying to be set on a copy of a slice from a DataFrame.\n",
      "Try using .loc[row_indexer,col_indexer] = value instead\n",
      "\n",
      "See the caveats in the documentation: https://pandas.pydata.org/pandas-docs/stable/user_guide/indexing.html#returning-a-view-versus-a-copy\n",
      "  pdb_ann_ta_up_match_bah_ann[\"low_inf\"] = pdb_ann_ta_up_match_bah_ann.apply(lambda row: is_low_af(row[\"best_ann\"]),axis=1)\n"
     ]
    }
   ],
   "source": [
    "# investigating the number of low informative annotations - PDB database\n",
    "pdb_ann_ta_up_match_bah_ann[\"low_inf\"] = pdb_ann_ta_up_match_bah_ann.apply(lambda row: is_low_af(row[\"best_ann\"]),axis=1)"
   ]
  },
  {
   "cell_type": "code",
   "execution_count": 91,
   "id": "de492d00-25db-49c9-a337-44abbc94bc57",
   "metadata": {},
   "outputs": [
    {
     "name": "stdout",
     "output_type": "stream",
     "text": [
      "Statistics of annotation using the PDB:\n",
      "------------------------------------------------\n",
      "Matches against the PDB:\n",
      "    Number of clusters with matches: 508\n",
      "    Number of clusters without matches: 7138\n",
      "------------------------------------------------\n",
      "Best annotated hit annotation method:\n",
      "    Number of clusters with annotations: 482 (94.88% of all those with matches, 6.30% of all truly unannotated clusters)\n",
      "        Number of clusters with highly informative annotations: 463 (96.06% of all annotations)\n",
      "        Number of clusters with lowly informative annotations: 19 (3.94% of all annotations) \n",
      "    Number of clusters without annotations: 7164 (7138 due to no matches)\n"
     ]
    }
   ],
   "source": [
    "# printing some statistics\n",
    "num_low_inf_pdb_up = len(pdb_ann_ta_up_match_bah_ann[pdb_ann_ta_up_match_bah_ann[\"low_inf\"] == True])\n",
    "num_high_inf_pdb_up = len(pdb_ann_ta_up_match_bah_ann[pdb_ann_ta_up_match_bah_ann[\"low_inf\"] == False])\n",
    "per_low_inf_pdb_up = \"{:.2f}\".format(num_low_inf_pdb_up*100/(num_low_inf_pdb_up+num_high_inf_pdb_up))\n",
    "per_high_inf_pdb_up = \"{:.2f}\".format(num_high_inf_pdb_up*100/(num_low_inf_pdb_up+num_high_inf_pdb_up))\n",
    "print(f\"Statistics of annotation using the PDB:\")\n",
    "print(f\"------------------------------------------------\")\n",
    "print(f\"Matches against the PDB:\")\n",
    "print(f\"    Number of clusters with matches: {num_tba_ta-num_pdb_ann_ta_up_nomatch}\")\n",
    "print(f\"    Number of clusters without matches: {num_pdb_ann_ta_up_nomatch}\")\n",
    "print(f\"------------------------------------------------\")\n",
    "print(f\"Best annotated hit annotation method:\")\n",
    "print(f\"    Number of clusters with annotations: {num_pdb_ann_ta_up_match_bah_ann} ({per_pdb_ann_ta_up_match_bah_ann}% of all those with matches, {per_pdb_ann_ta_up_bah_ann}% of all truly unannotated clusters)\")\n",
    "print(f\"        Number of clusters with highly informative annotations: {num_high_inf_pdb_up} ({per_high_inf_pdb_up}% of all annotations)\")\n",
    "print(f\"        Number of clusters with lowly informative annotations: {num_low_inf_pdb_up} ({per_low_inf_pdb_up}% of all annotations) \")\n",
    "print(f\"    Number of clusters without annotations: {num_pdb_ann_ta_up_match_bah_unann + num_pdb_ann_ta_up_nomatch} ({num_pdb_ann_ta_up_nomatch} due to no matches)\")"
   ]
  },
  {
   "cell_type": "code",
   "execution_count": 92,
   "id": "9ca92d86-55a1-4739-9c2d-c350da1e158c",
   "metadata": {
    "collapsed": true,
    "jupyter": {
     "outputs_hidden": true
    }
   },
   "outputs": [
    {
     "name": "stderr",
     "output_type": "stream",
     "text": [
      "C:\\Users\\hanne\\AppData\\Local\\Temp\\ipykernel_13196\\3018838957.py:2: SettingWithCopyWarning: \n",
      "A value is trying to be set on a copy of a slice from a DataFrame.\n",
      "Try using .loc[row_indexer,col_indexer] = value instead\n",
      "\n",
      "See the caveats in the documentation: https://pandas.pydata.org/pandas-docs/stable/user_guide/indexing.html#returning-a-view-versus-a-copy\n",
      "  afdb_ann_ta_up_match_bah_ann[\"low_inf\"] = afdb_ann_ta_up_match_bah_ann.apply(lambda row: is_low_af(row[\"best_ann\"]),axis=1)\n"
     ]
    }
   ],
   "source": [
    "# investigating the number of low informative annotations - AlphaFold database\n",
    "afdb_ann_ta_up_match_bah_ann[\"low_inf\"] = afdb_ann_ta_up_match_bah_ann.apply(lambda row: is_low_af(row[\"best_ann\"]),axis=1)"
   ]
  },
  {
   "cell_type": "code",
   "execution_count": 93,
   "id": "3c66399f-3f4e-48d2-9525-be195d785484",
   "metadata": {},
   "outputs": [
    {
     "name": "stdout",
     "output_type": "stream",
     "text": [
      "Statistics of annotation using the AlphaFold database:\n",
      "------------------------------------------------\n",
      "Matches against the AlphaFold database:\n",
      "    Number of clusters with matches: 3458\n",
      "    Number of clusters without matches: 4188\n",
      "------------------------------------------------\n",
      "Best annotated hit annotation method:\n",
      "    Number of clusters with annotations: 2656 (76.81% of all those with matches, 34.74% of all truly unannotated clusters)\n",
      "        Number of clusters with highly informative annotations: 2100 (79.07% of all annotations)\n",
      "        Number of clusters with lowly informative annotations: 556 (20.93% of all annotations) \n",
      "    Number of clusters without annotations: 4990 (4188 due to no matches)\n"
     ]
    }
   ],
   "source": [
    "# printing some statistics\n",
    "num_low_inf_afdb_up = len(afdb_ann_ta_up_match_bah_ann[afdb_ann_ta_up_match_bah_ann[\"low_inf\"] == True])\n",
    "num_high_inf_afdb_up = len(afdb_ann_ta_up_match_bah_ann[afdb_ann_ta_up_match_bah_ann[\"low_inf\"] == False])\n",
    "per_low_inf_afdb_up = \"{:.2f}\".format(num_low_inf_afdb_up*100/(num_low_inf_afdb_up+num_high_inf_afdb_up))\n",
    "per_high_inf_afdb_up = \"{:.2f}\".format(num_high_inf_afdb_up*100/(num_low_inf_afdb_up+num_high_inf_afdb_up))\n",
    "print(f\"Statistics of annotation using the AlphaFold database:\")\n",
    "print(f\"------------------------------------------------\")\n",
    "print(f\"Matches against the AlphaFold database:\")\n",
    "print(f\"    Number of clusters with matches: {num_tba_ta-num_afdb_ann_ta_up_nomatch}\")\n",
    "print(f\"    Number of clusters without matches: {num_afdb_ann_ta_up_nomatch}\")\n",
    "print(f\"------------------------------------------------\")\n",
    "print(f\"Best annotated hit annotation method:\")\n",
    "print(f\"    Number of clusters with annotations: {num_afdb_ann_ta_up_match_bah_ann} ({per_afdb_ann_ta_up_match_bah_ann}% of all those with matches, {per_afdb_ann_ta_up_bah_ann}% of all truly unannotated clusters)\")\n",
    "print(f\"        Number of clusters with highly informative annotations: {num_high_inf_afdb_up} ({per_high_inf_afdb_up}% of all annotations)\")\n",
    "print(f\"        Number of clusters with lowly informative annotations: {num_low_inf_afdb_up} ({per_low_inf_afdb_up}% of all annotations) \")\n",
    "print(f\"    Number of clusters without annotations: {num_afdb_ann_ta_up_match_bah_unann + num_afdb_ann_ta_up_nomatch} ({num_afdb_ann_ta_up_nomatch} due to no matches)\")"
   ]
  },
  {
   "cell_type": "markdown",
   "id": "dec4e100-23c0-4bd6-a92d-0a118eeb17a6",
   "metadata": {},
   "source": [
    "##### Applying a three tiered classification scheme during best annotated hit annotation"
   ]
  },
  {
   "cell_type": "code",
   "execution_count": 94,
   "id": "bf0e30cb-549f-420e-b89c-0f6d0af937dd",
   "metadata": {},
   "outputs": [],
   "source": [
    "# updated functions - AlphaFold database searches\n",
    "\n",
    "# a function that extracts the best annotation from the list of annotations obtained from UniParc\n",
    "def extract_best_uniparc_tt(entries_list):\n",
    "    annotation_found = False\n",
    "    low_annotation_found = False\n",
    "    low_list = list()\n",
    "    for descr in entries_list:\n",
    "        if (is_hypothetical_af(descr) == False) and (is_low_af(descr) == False):\n",
    "            annotation_found = True\n",
    "            best_ann = descr\n",
    "            break\n",
    "        # accumulate low informative annotations\n",
    "        if (is_hypothetical_af(descr) == False) and (is_low_af(descr) == True):\n",
    "            low_annotation_found = True\n",
    "            low_list.append(descr)\n",
    "    if annotation_found == False:\n",
    "        # if we have a low informative annotation, we prefer this one (if multiple, the one rated highest)\n",
    "        if low_annotation_found == True:\n",
    "            best_ann = low_list[0]\n",
    "        # if we do not have a low informative annotation, we take the highest ranked annotation\n",
    "        else:\n",
    "            best_ann = entries_list[0]\n",
    "    return best_ann\n",
    "\n",
    "def find_best_annotation_foldseek_af50m_up_tt(dataframe):\n",
    "    annotation_found = False\n",
    "    low_annotation_found = False\n",
    "    low_index_list = list()\n",
    "    for i in range(0, len(dataframe)):\n",
    "        uniprot_id = get_UniProtID_from_target(dataframe.at[i, \"target\"])\n",
    "        descr = get_function_from_UniProtID(uniprot_id)\n",
    "        # checking if UniProt entry has been fetched\n",
    "        if descr == \"[UNIPROT RECORD NOT YET FETCHED]\":\n",
    "            continue\n",
    "        # checking if entry contains information from UniParc:\n",
    "        uniparc_used = False\n",
    "        if uniparc_needed(descr):\n",
    "            uniparc_used = True\n",
    "            if uniparc_fail(descr) == False:\n",
    "                descr = extract_best_uniparc_tt(uniparc2list(descr))\n",
    "            if uniparc_fail(descr) == True:\n",
    "                continue\n",
    "        # checking whether (best UniParc) description is annotated\n",
    "        if (is_hypothetical_af(descr) == False) and (is_low_af(descr) == False):\n",
    "            annotation_found = True\n",
    "            best_ann_index = i\n",
    "            break\n",
    "        # accumulate low informative annotations\n",
    "        if (is_hypothetical_af(descr) == False) and (is_low_af(descr) == True):\n",
    "            low_annotation_found = True\n",
    "            low_index_list.append(i)\n",
    "    # if all annotations are hypothetical or low informative, the annotation_found flag remains False\n",
    "    if annotation_found == False:\n",
    "        # if we have a low informative annotation, we prefer this one (if multiple, the one rated highest)\n",
    "        if low_annotation_found == True:\n",
    "            best_ann_index = low_index_list[0]\n",
    "        # if we do not have a low informative annotation, we take the highest ranked annotation\n",
    "        else:\n",
    "            best_ann_index = 0\n",
    "    best_ann = get_function_from_UniProtID(get_UniProtID_from_target(dataframe.at[best_ann_index, \"target\"]))\n",
    "    return best_ann, annotation_found, low_annotation_found\n"
   ]
  },
  {
   "cell_type": "code",
   "execution_count": 95,
   "id": "e79b747c-6444-4e66-8ad2-17a3e6f0b4df",
   "metadata": {},
   "outputs": [],
   "source": [
    "# updated functions - PDB database\n",
    "\n",
    "# a function that extracts the best annotation from the list of annotations obtained from PDB\n",
    "def extract_best_pdb_tt(entries_list):\n",
    "    annotation_found = False\n",
    "    low_annotation_found = False\n",
    "    low_list = list()\n",
    "    for descr in entries_list:\n",
    "        if (is_hypothetical_af(descr) == False) and (is_low_af(descr) == False):\n",
    "            annotation_found = True\n",
    "            best_ann = descr\n",
    "            break\n",
    "        # accumulate low informative annotations\n",
    "        if (is_hypothetical_af(descr) == False) and (is_low_af(descr) == True):\n",
    "            low_annotation_found = True\n",
    "            low_list.append(descr)\n",
    "    if annotation_found == False:\n",
    "        # if we have a low informative annotation, we prefer this one (if multiple, the one rated highest)\n",
    "        if low_annotation_found == True:\n",
    "            best_ann = low_list[0]\n",
    "        # if we do not have a low informative annotation, we take the highest ranked annotation\n",
    "        else:\n",
    "            best_ann = entries_list[0]\n",
    "    return best_ann\n",
    "\n",
    "# actual method for parsing\n",
    "def find_best_annotation_foldseek_pdb_up_tt(dataframe):\n",
    "    annotation_found = False\n",
    "    low_annotation_found = False\n",
    "    low_index_list = list()\n",
    "    for i in range(0, len(dataframe)):\n",
    "        pdb_id, chain = get_PDBid_chain_from_target(dataframe.at[i,\"target\"])\n",
    "        full_descr = get_function_from_PDB(pdb_id, chain)\n",
    "        if re.fullmatch(r\"\\[(PDB|UNIPROT) RECORD NOT YET FETCHED\\]\", full_descr) != None:\n",
    "            continue\n",
    "        if full_descr == \"WARNING This PDB ID is obsolete, hence, no information could be fetched\":\n",
    "            continue\n",
    "        if full_descr == \"WARNING No UniProt ID was linked to this PDB entry, hence, no information could be fetched\":\n",
    "            continue\n",
    "        descr = extract_best_pdb_tt(pdbdescr2list(full_descr))\n",
    "        # checking if entry contains information from UniParc:\n",
    "        uniparc_used = False\n",
    "        if uniparc_needed(descr):\n",
    "            uniparc_used = True\n",
    "            if uniparc_fail(descr) == False:\n",
    "                descr = extract_best_uniparc_tt(uniparc2list(descr))\n",
    "            if uniparc_fail(descr) == True:\n",
    "                continue\n",
    "        # how will we deal with uniparc lists though\n",
    "        # get top annotation that is not a hypothetical or low informative annotation\n",
    "        if (is_hypothetical_af(descr) == False) and (is_low_af(descr) == False):\n",
    "            annotation_found = True\n",
    "            best_ann_index = i\n",
    "            break\n",
    "        # accumulate low informative annotations\n",
    "        if (is_hypothetical_af(descr) == False) and (is_low_af(descr) == True):\n",
    "            low_annotation_found = True\n",
    "            low_index_list.append(i)\n",
    "    # if all annotations are hypothetical or low informative, the annotation_found flag remains False\n",
    "    if annotation_found == False:\n",
    "        # if we have a low informative annotation, we prefer this one (if multiple, the one rated highest)\n",
    "        if low_annotation_found == True:\n",
    "            best_ann_index = low_index_list[0]\n",
    "        # if we do not have a low informative annotation, we take the highest ranked annotation\n",
    "        else:\n",
    "            best_ann_index = 0\n",
    "    pdb_id, chain = get_PDBid_chain_from_target(dataframe.at[best_ann_index,\"target\"])\n",
    "    best_ann = get_function_from_PDB(pdb_id, chain)\n",
    "    return best_ann, annotation_found, low_annotation_found"
   ]
  },
  {
   "cell_type": "code",
   "execution_count": null,
   "id": "5fcea8e1-4117-4eb3-a411-dc91dddbb2a6",
   "metadata": {},
   "outputs": [],
   "source": [
    "# writing results to file for inspection\n",
    "file = open(os.path.join(one_hit_dir, \"best_annotated_hit_uniprot_threetiers_annotations.tsv\"), \"a\")\n",
    "file.write(f\"protein\\tpdb/af50m\\tempty\\tbest_ann\\tannotation_found\\tlow_information\\n\")\n",
    "for batch, protein_set in dict_batch_comp.items():\n",
    "    for protein in protein_set:\n",
    "        pdb_fil, af50m_fil = read_foldseek_protein(batch, protein)\n",
    "        if pdb_fil.empty:\n",
    "            file.write(f\"{protein}\\tpdb\\tTrue\\tNA\\tNA\\tNA\\n\")\n",
    "        if not pdb_fil.empty:\n",
    "            pdb_fil = pdb_fil.sort_values(\"bits\", ascending = False)\n",
    "            best_ann, annotation_found, low_annotation_found = find_best_annotation_foldseek_pdb_up_tt(pdb_fil)\n",
    "            file.write(f\"{protein}\\tpdb\\tFalse\\t{best_ann}\\t{annotation_found}\\t{low_annotation_found}\\n\")\n",
    "        if af50m_fil.empty:\n",
    "            file.write(f\"{protein}\\taf50m\\tTrue\\tNA\\tNA\\tNA\\n\")\n",
    "        if not af50m_fil.empty:\n",
    "            af50m_fil = af50m_fil.sort_values(\"bits\", ascending = False)\n",
    "            best_ann, annotation_found, low_annotation_found = find_best_annotation_foldseek_af50m_up_tt(af50m_fil)\n",
    "            file.write(f\"{protein}\\taf50m\\tFalse\\t{best_ann}\\t{annotation_found}\\t{low_annotation_found}\\n\") \n",
    "file.close()"
   ]
  },
  {
   "cell_type": "markdown",
   "id": "699bbfe8-777e-4bdb-90a7-0e84244172a9",
   "metadata": {},
   "source": [
    "##### Assessing the amount of low informative annotations present in the three tiered system"
   ]
  },
  {
   "cell_type": "code",
   "execution_count": 96,
   "id": "eefb87f5-a6b5-4206-9894-03bf7fedb515",
   "metadata": {},
   "outputs": [],
   "source": [
    "# reading in the results\n",
    "best_ann_hit_up_tt_df = pd.read_csv(os.path.join(one_hit_dir, \"best_annotated_hit_uniprot_threetiers_annotations.tsv\"), sep = \"\\t\")\n",
    "    # adding information on Pharokka annotation\n",
    "best_ann_hit_up_tt_df[\"pharokka_ann\"] = False\n",
    "best_ann_hit_up_tt_df.loc[best_ann_hit_up_tt_df[\"protein\"].isin(ncbi_id_ann), \"pharokka_ann\"] = True"
   ]
  },
  {
   "cell_type": "code",
   "execution_count": 97,
   "id": "495a8faf-38b0-4c37-8ba5-62457bcaaba4",
   "metadata": {},
   "outputs": [],
   "source": [
    "# splitting PDB from AlphaFold database results\n",
    "pdb_ann_up_tt = best_ann_hit_up_tt_df[best_ann_hit_up_tt_df[\"pdb/af50m\"] == \"pdb\"]\n",
    "afdb_ann_up_tt = best_ann_hit_up_tt_df[best_ann_hit_up_tt_df[\"pdb/af50m\"] == \"af50m\"]"
   ]
  },
  {
   "cell_type": "code",
   "execution_count": 98,
   "id": "0ee53b13-2c77-49aa-9037-8e372db20aa6",
   "metadata": {},
   "outputs": [
    {
     "name": "stdout",
     "output_type": "stream",
     "text": [
      "Statistics of annotation using the PDB:\n",
      "------------------------------------------------\n",
      "Matches against the PDB:\n",
      "    Number of clusters with matches: 508\n",
      "    Number of clusters without matches: 7138\n",
      "------------------------------------------------\n",
      "Best annotated hit annotation method:\n",
      "    Number of clusters with annotations: 482 (94.88% of all those with matches, 6.30% of all truly unannotated clusters)\n",
      "        Number of clusters with highly informative annotations: 465 (96.47% of all annotations)\n",
      "        Number of clusters with lowly informative annotations: 17 (3.53% of all annotations) \n",
      "    Number of clusters without annotations: 7164 (7138 due to no matches)\n"
     ]
    }
   ],
   "source": [
    "# PDB statistics - truly unannotated subset\n",
    "pdb_ann_ta_up_tt = pdb_ann_up_tt[pdb_ann_up_tt[\"pharokka_ann\"] == False]\n",
    "pdb_ann_ta_up_tt_match = pdb_ann_ta_up_tt[pdb_ann_ta_up_tt[\"empty\"] == False]\n",
    "pdb_ann_ta_up_tt_match_bah_ann = pdb_ann_ta_up_tt_match[~((pdb_ann_ta_up_tt_match[\"annotation_found\"] == False) & (pdb_ann_ta_up_tt_match[\"low_information\"] == False))]\n",
    "pdb_ann_ta_up_tt_match_bah_ann_hi = pdb_ann_ta_up_tt_match[pdb_ann_ta_up_tt_match[\"annotation_found\"] == True]\n",
    "pdb_ann_ta_up_tt_match_bah_ann_li = pdb_ann_ta_up_tt_match[(pdb_ann_ta_up_tt_match[\"annotation_found\"] == False) & (pdb_ann_ta_up_tt_match[\"low_information\"] == True)]\n",
    "pdb_ann_ta_up_tt_match_bah_unann = pdb_ann_ta_up_tt_match[(pdb_ann_ta_up_tt_match[\"annotation_found\"] == False) & (pdb_ann_ta_up_tt_match[\"low_information\"] == False)]\n",
    "    # number of truly unannotated clusters with no match against PDB\n",
    "num_pdb_ann_ta_up_tt_nomatch = len(pdb_ann_ta_up_tt[pdb_ann_ta_up_tt[\"empty\"] == True]) \n",
    "    # percentage of truly unannotated clusters with no match against PDB\n",
    "per_pdb_ann_ta_up_tt_nomatch = \"{:.2f}\".format(num_pdb_ann_ta_up_tt_nomatch*100/num_tba_ta)\n",
    "    # number of truly unannotated clusters with annotated match (BAH method)\n",
    "num_pdb_ann_ta_up_tt_match_bah_ann = len(pdb_ann_ta_up_tt_match_bah_ann) \n",
    "    # of the truly unannotated clusters which percentage gets annotated using BAH\n",
    "per_pdb_ann_ta_up_tt_bah_ann = \"{:.2f}\".format(num_pdb_ann_ta_up_tt_match_bah_ann*100/(num_tba_ta)) \n",
    "    # of the truly unannotated clusters with matches, which percentage gets annotated using BAH\n",
    "per_pdb_ann_ta_up_tt_match_bah_ann = \"{:.2f}\".format(num_pdb_ann_ta_up_tt_match_bah_ann*100/(num_tba_ta-num_pdb_ann_ta_up_tt_nomatch)) \n",
    "    # of the truly unannotated clusters with annotated matches, how many are high informative annotations\n",
    "num_pdb_ann_ta_up_tt_match_bah_ann_hi = len(pdb_ann_ta_up_tt_match_bah_ann_hi)\n",
    "    # of the truly unannotated clusters with annotated matches, how many are low informative annotations\n",
    "num_pdb_ann_ta_up_tt_match_bah_ann_li = len(pdb_ann_ta_up_tt_match_bah_ann_li)\n",
    "    # of the truly unannotated clusters with annotated matches, which percentage are high informative annotations\n",
    "per_pdb_ann_ta_up_tt_match_bah_ann_hi = \"{:.2f}\".format(num_pdb_ann_ta_up_tt_match_bah_ann_hi*100/(num_pdb_ann_ta_up_tt_match_bah_ann_li+num_pdb_ann_ta_up_tt_match_bah_ann_hi))\n",
    "    # of the truly unannotated clusters with annotated matches, which percentage are low informative annotations\n",
    "per_pdb_ann_ta_up_tt_match_bah_ann_li = \"{:.2f}\".format(num_pdb_ann_ta_up_tt_match_bah_ann_li*100/(num_pdb_ann_ta_up_tt_match_bah_ann_li+num_pdb_ann_ta_up_tt_match_bah_ann_hi))\n",
    "    # number of truly unannotated clusters with unannotated match (BAH method)\n",
    "num_pdb_ann_ta_up_tt_match_bah_unann = len(pdb_ann_ta_up_tt_match_bah_unann)  \n",
    "print(f\"Statistics of annotation using the PDB:\")\n",
    "print(f\"------------------------------------------------\")\n",
    "print(f\"Matches against the PDB:\")\n",
    "print(f\"    Number of clusters with matches: {num_tba_ta-num_pdb_ann_ta_up_tt_nomatch}\")\n",
    "print(f\"    Number of clusters without matches: {num_pdb_ann_ta_up_tt_nomatch}\")\n",
    "print(f\"------------------------------------------------\")\n",
    "print(f\"Best annotated hit annotation method:\")\n",
    "print(f\"    Number of clusters with annotations: {num_pdb_ann_ta_up_tt_match_bah_ann} ({per_pdb_ann_ta_up_tt_match_bah_ann}% of all those with matches, {per_pdb_ann_ta_up_tt_bah_ann}% of all truly unannotated clusters)\")\n",
    "print(f\"        Number of clusters with highly informative annotations: {num_pdb_ann_ta_up_tt_match_bah_ann_hi} ({per_pdb_ann_ta_up_tt_match_bah_ann_hi}% of all annotations)\")\n",
    "print(f\"        Number of clusters with lowly informative annotations: {num_pdb_ann_ta_up_tt_match_bah_ann_li} ({per_pdb_ann_ta_up_tt_match_bah_ann_li}% of all annotations) \")\n",
    "print(f\"    Number of clusters without annotations: {num_pdb_ann_ta_up_tt_match_bah_unann + num_pdb_ann_ta_up_tt_nomatch} ({num_pdb_ann_ta_up_tt_nomatch} due to no matches)\")"
   ]
  },
  {
   "cell_type": "code",
   "execution_count": 99,
   "id": "ba637e25-b3b7-474a-a2c9-13ad987439bc",
   "metadata": {},
   "outputs": [
    {
     "name": "stdout",
     "output_type": "stream",
     "text": [
      "Statistics of annotation using the AlphaFold database:\n",
      "------------------------------------------------\n",
      "Matches against the AlphaFold database:\n",
      "    Number of clusters with matches: 3458\n",
      "    Number of clusters without matches: 4188\n",
      "------------------------------------------------\n",
      "Best annotated hit annotation method:\n",
      "    Number of clusters with annotations: 2656 (76.81% of all those with matches, 34.74% of all truly unannotated clusters)\n",
      "        Number of clusters with highly informative annotations: 2467 (92.88% of all annotations)\n",
      "        Number of clusters with lowly informative annotations: 189 (7.12% of all annotations) \n",
      "    Number of clusters without annotations: 4990 (4188 due to no matches)\n"
     ]
    }
   ],
   "source": [
    "# AlphaFold database statistics - truly unannotated subset\n",
    "afdb_ann_ta_up_tt = afdb_ann_up_tt[afdb_ann_up_tt[\"pharokka_ann\"] == False]\n",
    "afdb_ann_ta_up_tt_match = afdb_ann_ta_up_tt[afdb_ann_ta_up_tt[\"empty\"] == False]\n",
    "afdb_ann_ta_up_tt_match_bah_ann = afdb_ann_ta_up_tt_match[~((afdb_ann_ta_up_tt_match[\"annotation_found\"] == False) & (afdb_ann_ta_up_tt_match[\"low_information\"] == False))]\n",
    "afdb_ann_ta_up_tt_match_bah_ann_hi = afdb_ann_ta_up_tt_match[afdb_ann_ta_up_tt_match[\"annotation_found\"] == True]\n",
    "afdb_ann_ta_up_tt_match_bah_ann_li = afdb_ann_ta_up_tt_match[(afdb_ann_ta_up_tt_match[\"annotation_found\"] == False) & (afdb_ann_ta_up_tt_match[\"low_information\"] == True)]\n",
    "afdb_ann_ta_up_tt_match_bah_unann = afdb_ann_ta_up_tt_match[(afdb_ann_ta_up_tt_match[\"annotation_found\"] == False) & (afdb_ann_ta_up_tt_match[\"low_information\"] == False)]\n",
    "    # number of truly unannotated clusters with no match against AlphaFold database\n",
    "num_afdb_ann_ta_up_tt_nomatch = len(afdb_ann_ta_up_tt[afdb_ann_ta_up_tt[\"empty\"] == True]) \n",
    "    # percentage of truly unannotated clusters with no match against AlphaFold database\n",
    "per_afdb_ann_ta_up_tt_nomatch = \"{:.2f}\".format(num_afdb_ann_ta_up_tt_nomatch*100/num_tba_ta)\n",
    "    # number of truly unannotated clusters with annotated match (BAH method)\n",
    "num_afdb_ann_ta_up_tt_match_bah_ann = len(afdb_ann_ta_up_tt_match_bah_ann) \n",
    "    # of the truly unannotated clusters which percentage gets annotated using BAH\n",
    "per_afdb_ann_ta_up_tt_bah_ann = \"{:.2f}\".format(num_afdb_ann_ta_up_tt_match_bah_ann*100/(num_tba_ta)) \n",
    "    # of the truly unannotated clusters with matches, which percentage gets annotated using BAH\n",
    "per_afdb_ann_ta_up_tt_match_bah_ann = \"{:.2f}\".format(num_afdb_ann_ta_up_tt_match_bah_ann*100/(num_tba_ta-num_afdb_ann_ta_up_tt_nomatch)) \n",
    "    # of the truly unannotated clusters with annotated matches, how many are high informative annotations\n",
    "num_afdb_ann_ta_up_tt_match_bah_ann_hi = len(afdb_ann_ta_up_tt_match_bah_ann_hi)\n",
    "    # of the truly unannotated clusters with annotated matches, how many are low informative annotations\n",
    "num_afdb_ann_ta_up_tt_match_bah_ann_li = len(afdb_ann_ta_up_tt_match_bah_ann_li)\n",
    "    # of the truly unannotated clusters with annotated matches, which percentage are high informative annotations\n",
    "per_afdb_ann_ta_up_tt_match_bah_ann_hi = \"{:.2f}\".format(num_afdb_ann_ta_up_tt_match_bah_ann_hi*100/(num_afdb_ann_ta_up_tt_match_bah_ann_li+num_afdb_ann_ta_up_tt_match_bah_ann_hi))\n",
    "    # of the truly unannotated clusters with annotated matches, which percentage are low informative annotations\n",
    "per_afdb_ann_ta_up_tt_match_bah_ann_li = \"{:.2f}\".format(num_afdb_ann_ta_up_tt_match_bah_ann_li*100/(num_afdb_ann_ta_up_tt_match_bah_ann_li+num_afdb_ann_ta_up_tt_match_bah_ann_hi))\n",
    "    # number of truly unannotated clusters with unannotated match (BAH method)\n",
    "num_afdb_ann_ta_up_tt_match_bah_unann = len(afdb_ann_ta_up_tt_match_bah_unann)  \n",
    "print(f\"Statistics of annotation using the AlphaFold database:\")\n",
    "print(f\"------------------------------------------------\")\n",
    "print(f\"Matches against the AlphaFold database:\")\n",
    "print(f\"    Number of clusters with matches: {num_tba_ta-num_afdb_ann_ta_up_tt_nomatch}\")\n",
    "print(f\"    Number of clusters without matches: {num_afdb_ann_ta_up_tt_nomatch}\")\n",
    "print(f\"------------------------------------------------\")\n",
    "print(f\"Best annotated hit annotation method:\")\n",
    "print(f\"    Number of clusters with annotations: {num_afdb_ann_ta_up_tt_match_bah_ann} ({per_afdb_ann_ta_up_tt_match_bah_ann}% of all those with matches, {per_afdb_ann_ta_up_tt_bah_ann}% of all truly unannotated clusters)\")\n",
    "print(f\"        Number of clusters with highly informative annotations: {num_afdb_ann_ta_up_tt_match_bah_ann_hi} ({per_afdb_ann_ta_up_tt_match_bah_ann_hi}% of all annotations)\")\n",
    "print(f\"        Number of clusters with lowly informative annotations: {num_afdb_ann_ta_up_tt_match_bah_ann_li} ({per_afdb_ann_ta_up_tt_match_bah_ann_li}% of all annotations) \")\n",
    "print(f\"    Number of clusters without annotations: {num_afdb_ann_ta_up_tt_match_bah_unann + num_afdb_ann_ta_up_tt_nomatch} ({num_afdb_ann_ta_up_tt_nomatch} due to no matches)\")"
   ]
  }
 ],
 "metadata": {
  "kernelspec": {
   "display_name": "Python 3 (ipykernel)",
   "language": "python",
   "name": "python3"
  },
  "language_info": {
   "codemirror_mode": {
    "name": "ipython",
    "version": 3
   },
   "file_extension": ".py",
   "mimetype": "text/x-python",
   "name": "python",
   "nbconvert_exporter": "python",
   "pygments_lexer": "ipython3",
   "version": "3.13.5"
  }
 },
 "nbformat": 4,
 "nbformat_minor": 5
}
