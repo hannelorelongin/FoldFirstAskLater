{
 "cells": [
  {
   "cell_type": "markdown",
   "id": "c3058d47-b12b-4b97-8cee-00627719ba43",
   "metadata": {},
   "source": [
    "# Fold first, ask later: structure-informed function annotation of *Pseudomonas* phage proteins\n",
    "## Pipeline stage 2: annotation"
   ]
  },
  {
   "cell_type": "markdown",
   "id": "dfc12ff8-a7e5-42d8-80f1-2758c61d0b6a",
   "metadata": {},
   "source": [
    "### Stage 2.1: annotation - setting the stage\n",
    "\n",
    "**Goals:**\n",
    "* Assess which proteins could be annotated in absence of structure information with Pharokka.\n",
    "* Compare protein( structure)s to the Phold databases, using Phold.\n",
    "* Assess which proteins are ammenable to annotation based on structure similarity.\n",
    "* Filter the FoldSeek files for easier function annotation.\n",
    "\n",
    "**Requires:**\n",
    "* in folder 1_dataset/a_input/protein_overview:\n",
    "    * PHAGE_protein_overview.txt : a tab-seperated overview of the NCBI proteins for each PHAGE, listing NCBI unique ID, NCBI protein name and protein length, with each row representing one NCBI protein entry\n",
    "* in folder 1_dataset/b_structure/\n",
    "    * in folder proteins_cluster:\n",
    "        *  phage_hypothetical_clustered.tsv: MMSeqs sequence-based protein clustering output file\n",
    "    * in folder structure_comparison:\n",
    "        * in each folder batch_XX with XX a batch number between 0 and 34:\n",
    "            * PROTEIN_foldseek_af50m_default.csv and PROTEIN_foldseek_pdb_default.csv : FoldSeek output file against AlphaFold/PDB database for PROTEIN which has been subjected to E-value filtering\n",
    "            * PROTEIN_aln_af50m.txt and PROTEIN_aln_pdb.txt : FoldSeek output file against AlphaFold/PDB database for PROTEIN\n",
    "            * PROTEIN_relaxed.pdb, or in its absence PROTEIN_best.pdb : best (relaxed, if available) AlphaFold predicted structure for PROTEIN\n",
    "    * in folder structure_prediction:\n",
    "        * in each folder batch_XX with XX a batch number between 0 and 20:\n",
    "            * in folder fastas:\n",
    "                * PROTEIN.fasta: fasta file for every hypothetical protein selected for structure prediction (so a cluster representative)\n",
    "            * in folder results:\n",
    "                * in folder PROTEIN:\n",
    "                    *  PROTEIN_relaxed.pdb, or in its absence PROTEIN_unrelaxed_rank_1_model_X_ptmx1.pdb: best (relaxed, if available) AlphaFold predicted structure\n",
    "        *  prediction_metrics.tsv : a tab-seperated overview of the proteins for which structure prediction succeeded, summarizing protein (identifier, sequence, length) and and prediction metrics (pLDDT, MSA depth) in a protein centric fashion, where each row is one protein.  \n",
    " \n",
    "**Generates:**\n",
    "* in folder a_pharokka:\n",
    "    * pharokka.slurm: HPC SLURM job script to run pharokka_proteins for each protein in the different multifasta files\n",
    "    * in folder input_fastas:\n",
    "        * proteins_batch_XX.fasta with XX the batch number : a multifasta file combining all protein fasta files from one batch (batches like for structure prediction)\n",
    "    * in folders output_batch_XX with XX the batch number:\n",
    "        * Pharokka protein output (see Pharokka docs for more information on the file formats and generated outputs):\n",
    "            * files pharokka_proteins.faa, pharokka_proteins_summary_output.tsv, pharokka_proteins_full_merged_output.tsv + logfile pharokka_proteins_#####\n",
    "            * folders logs, VFDB\n",
    "* in folder b_phold:\n",
    "    * phold_seq.slurm: HPC SLURM job script to run pharokka_proteins (predict + compare) for each protein in the different multifasta files\n",
    "    * phold_str.slurm: HPC SLURM job script to run pharokka_proteins (compare) for each protein structure in the input_structures folder\n",
    "    * in folder input_fastas:\n",
    "        * proteins_batch_XX.fasta with XX the batch number : a multifasta file combining all protein fasta files from one batch (batches like for structure prediction)\n",
    "    * in folder input_structures:\n",
    "        * in folder input_structures_batch_XX with XX the batch number (batches like for structure prediction) :\n",
    "            * protein_XX.pdb with XX the NCBI UID of the protein: a copy of the best available protein structure for protein XX\n",
    "    * in folders output_predict_seq_batch_XX with XX the batch number (see Pharokka docs for more information on the file formats and generated outputs):\n",
    "        *   files phold_3di.fasta, phold_aa.fasta, phold_prostT5_3di_all_probabilities.json, phold_prostT5_3di_mean_probabilities.csv + logfile phold_protein-predict_####\n",
    "    *   in folders output_compare_seq_batch_XX with XX the batch number (see Pharokka docs for more information on the file formats and generated outputs):\n",
    "        * files phold_3di.fasta, phold_aa.fasta, phold_per_cds_predictions.tsv + logfile phold_proteins-compare_###\n",
    "        * folders logs, sub_db_tophits\n",
    "    *  in folders output_compare_str_batch_XX with XX the batch number (see Pharokka docs for more information on the file formats and generated outputs):\n",
    "        * files phold_aa.fasta, phold_per_cds_predictions.tsv + logfile phold_proteins-compare_###\n",
    "        * folders logs, sub_db_tophits \n",
    "* in folder 1_dataset/b_structure/\n",
    "    * in folder structure_comparison:\n",
    "        * in each folder batch_XX with XX a batch number between 0 and 34:\n",
    "            * PROTEIN_foldseek_af50m_filtered.csv and PROTEIN_foldseek_pdb_filtered.csv : FoldSeek output file against AlphaFold/PDB database for PROTEIN which has been subjected to filtering based on E-value, SCOP class probability, pLDDT aligned region and alignment quality\n"
   ]
  },
  {
   "cell_type": "markdown",
   "id": "9244f087-5325-43c2-bf89-8706366a78d8",
   "metadata": {},
   "source": [
    "#### General settings, imports, variables and environments\n",
    "\n",
    "Conda environment: ffal_annotate\n",
    "\n",
    "Created with `conda create -n ffal_annotate`. Then installed `jupyter notebook`, `pandas` through conda & `seaborn`, `scipy`, `matplotlib-venn`, `UpSetPlot`, `biopython` through pip (commands below)."
   ]
  },
  {
   "cell_type": "code",
   "execution_count": null,
   "id": "3d4cc488-01d8-41b9-abe2-9c719065beb2",
   "metadata": {
    "scrolled": true
   },
   "outputs": [],
   "source": [
    "!pip install seaborn"
   ]
  },
  {
   "cell_type": "code",
   "execution_count": null,
   "id": "5f252af7-042a-4f07-89a2-b645f5c76b80",
   "metadata": {},
   "outputs": [],
   "source": [
    "!pip install scipy"
   ]
  },
  {
   "cell_type": "code",
   "execution_count": null,
   "id": "e391fa57-c120-4e32-90ba-92fb8fee42b0",
   "metadata": {
    "scrolled": true
   },
   "outputs": [],
   "source": [
    "!pip install matplotlib-venn"
   ]
  },
  {
   "cell_type": "code",
   "execution_count": null,
   "id": "36228803-3c84-4cce-b3f6-510a12ea409c",
   "metadata": {
    "scrolled": true
   },
   "outputs": [],
   "source": [
    "!pip install UpSetPlot"
   ]
  },
  {
   "cell_type": "code",
   "execution_count": null,
   "id": "e2720272-db5a-4953-8221-a9cbcaa9c2c4",
   "metadata": {},
   "outputs": [],
   "source": [
    "!pip install biopython"
   ]
  },
  {
   "cell_type": "code",
   "execution_count": 1,
   "id": "bd9f9f1a-3d0d-40b8-8909-31dc90a18a9c",
   "metadata": {
    "collapsed": true,
    "jupyter": {
     "outputs_hidden": true
    },
    "scrolled": true
   },
   "outputs": [
    {
     "name": "stdout",
     "output_type": "stream",
     "text": [
      "# This file may be used to create an environment using:\n",
      "# $ conda create --name <env> --file <this file>\n",
      "# platform: win-64\n",
      "# created-by: conda 24.11.3\n",
      "@EXPLICIT\n",
      "https://conda.anaconda.org/conda-forge/noarch/ca-certificates-2025.6.15-h4c7d964_0.conda\n",
      "https://conda.anaconda.org/conda-forge/win-64/intel-openmp-2024.2.1-h57928b3_1083.conda\n",
      "https://conda.anaconda.org/conda-forge/noarch/python_abi-3.13-7_cp313.conda\n",
      "https://conda.anaconda.org/conda-forge/noarch/tzdata-2025b-h78e105d_0.conda\n",
      "https://conda.anaconda.org/conda-forge/win-64/ucrt-10.0.22621.0-h57928b3_1.conda\n",
      "https://conda.anaconda.org/conda-forge/win-64/winpty-0.4.3-4.tar.bz2\n",
      "https://conda.anaconda.org/conda-forge/win-64/libwinpthread-12.0.0.r4.gg4f2fc60ca-h57928b3_9.conda\n",
      "https://conda.anaconda.org/conda-forge/win-64/vc14_runtime-14.44.35208-h818238b_26.conda\n",
      "https://conda.anaconda.org/conda-forge/win-64/vc-14.3-h41ae7f8_26.conda\n",
      "https://conda.anaconda.org/conda-forge/win-64/vs2015_runtime-14.44.35208-h38c0c73_26.conda\n",
      "https://conda.anaconda.org/conda-forge/win-64/bzip2-1.0.8-h2466b09_7.conda\n",
      "https://conda.anaconda.org/conda-forge/win-64/libexpat-2.7.0-he0c23c2_0.conda\n",
      "https://conda.anaconda.org/conda-forge/win-64/libffi-3.4.6-h537db12_1.conda\n",
      "https://conda.anaconda.org/conda-forge/win-64/libiconv-1.18-h135ad9c_1.conda\n",
      "https://conda.anaconda.org/conda-forge/win-64/liblzma-5.8.1-h2466b09_2.conda\n",
      "https://conda.anaconda.org/conda-forge/win-64/libmpdec-4.0.0-h2466b09_0.conda\n",
      "https://conda.anaconda.org/conda-forge/win-64/libsodium-1.0.20-hc70643c_0.conda\n",
      "https://conda.anaconda.org/conda-forge/win-64/libsqlite-3.50.1-hf5d6505_7.conda\n",
      "https://conda.anaconda.org/conda-forge/win-64/libzlib-1.3.1-h2466b09_2.conda\n",
      "https://conda.anaconda.org/conda-forge/win-64/openssl-3.5.0-ha4e3fda_1.conda\n",
      "https://conda.anaconda.org/conda-forge/win-64/tk-8.6.13-h2c6b04d_2.conda\n",
      "https://conda.anaconda.org/conda-forge/win-64/yaml-0.2.5-h8ffe710_2.tar.bz2\n",
      "https://conda.anaconda.org/conda-forge/win-64/krb5-1.21.3-hdf4eb48_0.conda\n",
      "https://conda.anaconda.org/conda-forge/win-64/libxml2-2.13.8-h442d1da_0.conda\n",
      "https://conda.anaconda.org/conda-forge/win-64/python-3.13.5-h7de537c_102_cp313.conda\n",
      "https://conda.anaconda.org/conda-forge/noarch/asttokens-3.0.0-pyhd8ed1ab_1.conda\n",
      "https://conda.anaconda.org/conda-forge/noarch/attrs-25.3.0-pyh71513ae_0.conda\n",
      "https://conda.anaconda.org/conda-forge/win-64/brotli-python-1.1.0-py313h5813708_3.conda\n",
      "https://conda.anaconda.org/conda-forge/noarch/cached_property-1.5.2-pyha770c72_1.tar.bz2\n",
      "https://conda.anaconda.org/conda-forge/noarch/certifi-2025.6.15-pyhd8ed1ab_0.conda\n",
      "https://conda.anaconda.org/conda-forge/noarch/charset-normalizer-3.4.2-pyhd8ed1ab_0.conda\n",
      "https://conda.anaconda.org/conda-forge/noarch/colorama-0.4.6-pyhd8ed1ab_1.conda\n",
      "https://conda.anaconda.org/conda-forge/noarch/cpython-3.13.5-py313hd8ed1ab_102.conda\n",
      "https://conda.anaconda.org/conda-forge/win-64/debugpy-1.8.14-py313h5813708_0.conda\n",
      "https://conda.anaconda.org/conda-forge/noarch/decorator-5.2.1-pyhd8ed1ab_0.conda\n",
      "https://conda.anaconda.org/conda-forge/noarch/defusedxml-0.7.1-pyhd8ed1ab_0.tar.bz2\n",
      "https://conda.anaconda.org/conda-forge/noarch/executing-2.2.0-pyhd8ed1ab_0.conda\n",
      "https://conda.anaconda.org/conda-forge/noarch/hpack-4.1.0-pyhd8ed1ab_0.conda\n",
      "https://conda.anaconda.org/conda-forge/noarch/hyperframe-6.1.0-pyhd8ed1ab_0.conda\n",
      "https://conda.anaconda.org/conda-forge/noarch/idna-3.10-pyhd8ed1ab_1.conda\n",
      "https://conda.anaconda.org/conda-forge/noarch/json5-0.12.0-pyhd8ed1ab_0.conda\n",
      "https://conda.anaconda.org/conda-forge/win-64/jsonpointer-3.0.0-py313hfa70ccb_1.conda\n",
      "https://conda.anaconda.org/conda-forge/noarch/jupyterlab_widgets-3.0.15-pyhd8ed1ab_0.conda\n",
      "https://conda.anaconda.org/conda-forge/win-64/libhwloc-2.11.2-default_ha69328c_1001.conda\n",
      "https://conda.anaconda.org/conda-forge/win-64/markupsafe-3.0.2-py313hb4c8b1a_1.conda\n",
      "https://conda.anaconda.org/conda-forge/noarch/nest-asyncio-1.6.0-pyhd8ed1ab_1.conda\n",
      "https://conda.anaconda.org/conda-forge/noarch/packaging-25.0-pyh29332c3_1.conda\n",
      "https://conda.anaconda.org/conda-forge/noarch/pandocfilters-1.5.0-pyhd8ed1ab_0.tar.bz2\n",
      "https://conda.anaconda.org/conda-forge/noarch/parso-0.8.4-pyhd8ed1ab_1.conda\n",
      "https://conda.anaconda.org/conda-forge/noarch/pickleshare-0.7.5-pyhd8ed1ab_1004.conda\n",
      "https://conda.anaconda.org/conda-forge/noarch/pip-25.1.1-pyh145f28c_0.conda\n",
      "https://conda.anaconda.org/conda-forge/noarch/pkgutil-resolve-name-1.3.10-pyhd8ed1ab_2.conda\n",
      "https://conda.anaconda.org/conda-forge/noarch/platformdirs-4.3.8-pyhe01879c_0.conda\n",
      "https://conda.anaconda.org/conda-forge/noarch/prometheus_client-0.22.1-pyhd8ed1ab_0.conda\n",
      "https://conda.anaconda.org/conda-forge/win-64/psutil-7.0.0-py313ha7868ed_0.conda\n",
      "https://conda.anaconda.org/conda-forge/noarch/pure_eval-0.2.3-pyhd8ed1ab_1.conda\n",
      "https://conda.anaconda.org/conda-forge/noarch/pycparser-2.22-pyh29332c3_1.conda\n",
      "https://conda.anaconda.org/conda-forge/noarch/pygments-2.19.2-pyhd8ed1ab_0.conda\n",
      "https://conda.anaconda.org/conda-forge/noarch/python-fastjsonschema-2.21.1-pyhd8ed1ab_0.conda\n",
      "https://conda.anaconda.org/conda-forge/noarch/python-json-logger-2.0.7-pyhd8ed1ab_0.conda\n",
      "https://conda.anaconda.org/conda-forge/noarch/python-tzdata-2025.2-pyhd8ed1ab_0.conda\n",
      "https://conda.anaconda.org/conda-forge/noarch/pytz-2025.2-pyhd8ed1ab_0.conda\n",
      "https://conda.anaconda.org/conda-forge/win-64/pywin32-307-py313h5813708_3.conda\n",
      "https://conda.anaconda.org/conda-forge/win-64/pywinpty-2.0.15-py313h5813708_0.conda\n",
      "https://conda.anaconda.org/conda-forge/win-64/pyyaml-6.0.2-py313hb4c8b1a_2.conda\n",
      "https://conda.anaconda.org/conda-forge/noarch/rfc3986-validator-0.1.1-pyh9f0ad1d_0.tar.bz2\n",
      "https://conda.anaconda.org/conda-forge/win-64/rpds-py-0.25.1-py313ha8a9a3c_0.conda\n",
      "https://conda.anaconda.org/conda-forge/noarch/setuptools-80.9.0-pyhff2d567_0.conda\n",
      "https://conda.anaconda.org/conda-forge/noarch/six-1.17.0-pyhd8ed1ab_0.conda\n",
      "https://conda.anaconda.org/conda-forge/noarch/sniffio-1.3.1-pyhd8ed1ab_1.conda\n",
      "https://conda.anaconda.org/conda-forge/noarch/soupsieve-2.7-pyhd8ed1ab_0.conda\n",
      "https://conda.anaconda.org/conda-forge/noarch/tomli-2.2.1-pyhd8ed1ab_1.conda\n",
      "https://conda.anaconda.org/conda-forge/win-64/tornado-6.5.1-py313ha7868ed_0.conda\n",
      "https://conda.anaconda.org/conda-forge/noarch/traitlets-5.14.3-pyhd8ed1ab_1.conda\n",
      "https://conda.anaconda.org/conda-forge/noarch/types-python-dateutil-2.9.0.20250516-pyhd8ed1ab_0.conda\n",
      "https://conda.anaconda.org/conda-forge/noarch/typing_extensions-4.14.0-pyhe01879c_0.conda\n",
      "https://conda.anaconda.org/conda-forge/noarch/typing_utils-0.1.0-pyhd8ed1ab_1.conda\n",
      "https://conda.anaconda.org/conda-forge/noarch/uri-template-1.3.0-pyhd8ed1ab_1.conda\n",
      "https://conda.anaconda.org/conda-forge/noarch/wcwidth-0.2.13-pyhd8ed1ab_1.conda\n",
      "https://conda.anaconda.org/conda-forge/noarch/webcolors-24.11.1-pyhd8ed1ab_0.conda\n",
      "https://conda.anaconda.org/conda-forge/noarch/webencodings-0.5.1-pyhd8ed1ab_3.conda\n",
      "https://conda.anaconda.org/conda-forge/noarch/websocket-client-1.8.0-pyhd8ed1ab_1.conda\n",
      "https://conda.anaconda.org/conda-forge/noarch/widgetsnbextension-4.0.14-pyhd8ed1ab_0.conda\n",
      "https://conda.anaconda.org/conda-forge/noarch/win_inet_pton-1.1.0-pyh7428d3b_8.conda\n",
      "https://conda.anaconda.org/conda-forge/win-64/zeromq-4.3.5-ha9f60a1_7.conda\n",
      "https://conda.anaconda.org/conda-forge/noarch/zipp-3.23.0-pyhd8ed1ab_0.conda\n",
      "https://conda.anaconda.org/conda-forge/noarch/async-lru-2.0.5-pyh29332c3_0.conda\n",
      "https://conda.anaconda.org/conda-forge/noarch/babel-2.17.0-pyhd8ed1ab_0.conda\n",
      "https://conda.anaconda.org/conda-forge/noarch/bleach-6.2.0-pyh29332c3_4.conda\n",
      "https://conda.anaconda.org/conda-forge/noarch/cached-property-1.5.2-hd8ed1ab_1.tar.bz2\n",
      "https://conda.anaconda.org/conda-forge/win-64/cffi-1.17.1-py313ha7868ed_0.conda\n",
      "https://conda.anaconda.org/conda-forge/noarch/comm-0.2.2-pyhd8ed1ab_1.conda\n",
      "https://conda.anaconda.org/conda-forge/noarch/exceptiongroup-1.3.0-pyhd8ed1ab_0.conda\n",
      "https://conda.anaconda.org/conda-forge/noarch/h11-0.16.0-pyhd8ed1ab_0.conda\n",
      "https://conda.anaconda.org/conda-forge/noarch/h2-4.2.0-pyhd8ed1ab_0.conda\n",
      "https://conda.anaconda.org/conda-forge/noarch/importlib-metadata-8.7.0-pyhe01879c_1.conda\n",
      "https://conda.anaconda.org/conda-forge/noarch/importlib_resources-6.5.2-pyhd8ed1ab_0.conda\n",
      "https://conda.anaconda.org/conda-forge/noarch/ipython_pygments_lexers-1.1.1-pyhd8ed1ab_0.conda\n",
      "https://conda.anaconda.org/conda-forge/noarch/jedi-0.19.2-pyhd8ed1ab_1.conda\n",
      "https://conda.anaconda.org/conda-forge/noarch/jinja2-3.1.6-pyhd8ed1ab_0.conda\n",
      "https://conda.anaconda.org/conda-forge/noarch/jupyter_core-5.8.1-pyh5737063_0.conda\n",
      "https://conda.anaconda.org/conda-forge/noarch/jupyterlab_pygments-0.3.0-pyhd8ed1ab_2.conda\n",
      "https://conda.anaconda.org/conda-forge/noarch/matplotlib-inline-0.1.7-pyhd8ed1ab_1.conda\n",
      "https://conda.anaconda.org/conda-forge/noarch/mistune-3.1.3-pyh29332c3_0.conda\n",
      "https://conda.anaconda.org/conda-forge/noarch/overrides-7.7.0-pyhd8ed1ab_1.conda\n",
      "https://conda.anaconda.org/conda-forge/noarch/prompt-toolkit-3.0.51-pyha770c72_0.conda\n",
      "https://conda.anaconda.org/conda-forge/noarch/pysocks-1.7.1-pyh09c184e_7.conda\n",
      "https://conda.anaconda.org/conda-forge/noarch/python-dateutil-2.9.0.post0-pyhff2d567_1.conda\n",
      "https://conda.anaconda.org/conda-forge/win-64/pyzmq-27.0.0-py313h2100fd5_0.conda\n",
      "https://conda.anaconda.org/conda-forge/noarch/referencing-0.36.2-pyh29332c3_0.conda\n",
      "https://conda.anaconda.org/conda-forge/noarch/rfc3339-validator-0.1.4-pyhd8ed1ab_1.conda\n",
      "https://conda.anaconda.org/conda-forge/noarch/send2trash-1.8.3-pyh5737063_1.conda\n",
      "https://conda.anaconda.org/conda-forge/noarch/stack_data-0.6.3-pyhd8ed1ab_1.conda\n",
      "https://conda.anaconda.org/conda-forge/win-64/tbb-2021.13.0-h62715c5_1.conda\n",
      "https://conda.anaconda.org/conda-forge/noarch/terminado-0.18.1-pyh5737063_0.conda\n",
      "https://conda.anaconda.org/conda-forge/noarch/tinycss2-1.4.0-pyhd8ed1ab_0.conda\n",
      "https://conda.anaconda.org/conda-forge/noarch/typing-extensions-4.14.0-h32cad80_0.conda\n",
      "https://conda.anaconda.org/conda-forge/noarch/anyio-4.9.0-pyh29332c3_0.conda\n",
      "https://conda.anaconda.org/conda-forge/win-64/argon2-cffi-bindings-21.2.0-py313ha7868ed_5.conda\n",
      "https://conda.anaconda.org/conda-forge/noarch/arrow-1.3.0-pyhd8ed1ab_1.conda\n",
      "https://conda.anaconda.org/conda-forge/noarch/beautifulsoup4-4.13.4-pyha770c72_0.conda\n",
      "https://conda.anaconda.org/conda-forge/noarch/bleach-with-css-6.2.0-h82add2a_4.conda\n",
      "https://conda.anaconda.org/conda-forge/noarch/fqdn-1.5.1-pyhd8ed1ab_1.conda\n",
      "https://conda.anaconda.org/conda-forge/noarch/ipython-9.3.0-pyh6be1c34_0.conda\n",
      "https://conda.anaconda.org/conda-forge/noarch/jsonschema-specifications-2025.4.1-pyh29332c3_0.conda\n",
      "https://conda.anaconda.org/conda-forge/noarch/jupyter_client-8.6.3-pyhd8ed1ab_1.conda\n",
      "https://conda.anaconda.org/conda-forge/noarch/jupyter_server_terminals-0.5.3-pyhd8ed1ab_1.conda\n",
      "https://conda.anaconda.org/conda-forge/win-64/mkl-2024.2.2-h66d3029_15.conda\n",
      "https://conda.anaconda.org/conda-forge/noarch/prompt_toolkit-3.0.51-hd8ed1ab_0.conda\n",
      "https://conda.anaconda.org/conda-forge/win-64/zstandard-0.23.0-py313ha7868ed_2.conda\n",
      "https://conda.anaconda.org/conda-forge/noarch/argon2-cffi-25.1.0-pyhd8ed1ab_0.conda\n",
      "https://conda.anaconda.org/conda-forge/noarch/httpcore-1.0.9-pyh29332c3_0.conda\n",
      "https://conda.anaconda.org/conda-forge/noarch/ipykernel-6.29.5-pyh4bbf305_0.conda\n",
      "https://conda.anaconda.org/conda-forge/noarch/ipywidgets-8.1.7-pyhd8ed1ab_0.conda\n",
      "https://conda.anaconda.org/conda-forge/noarch/isoduration-20.11.0-pyhd8ed1ab_1.conda\n",
      "https://conda.anaconda.org/conda-forge/noarch/jsonschema-4.24.0-pyhd8ed1ab_0.conda\n",
      "https://conda.anaconda.org/conda-forge/win-64/libblas-3.9.0-32_h641d27c_mkl.conda\n",
      "https://conda.anaconda.org/conda-forge/noarch/urllib3-2.5.0-pyhd8ed1ab_0.conda\n",
      "https://conda.anaconda.org/conda-forge/noarch/httpx-0.28.1-pyhd8ed1ab_0.conda\n",
      "https://conda.anaconda.org/conda-forge/noarch/jsonschema-with-format-nongpl-4.24.0-hd8ed1ab_0.conda\n",
      "https://conda.anaconda.org/conda-forge/noarch/jupyter_console-6.6.3-pyhd8ed1ab_1.conda\n",
      "https://conda.anaconda.org/conda-forge/win-64/libcblas-3.9.0-32_h5e41251_mkl.conda\n",
      "https://conda.anaconda.org/conda-forge/win-64/liblapack-3.9.0-32_h1aa476e_mkl.conda\n",
      "https://conda.anaconda.org/conda-forge/noarch/nbformat-5.10.4-pyhd8ed1ab_1.conda\n",
      "https://conda.anaconda.org/conda-forge/noarch/requests-2.32.4-pyhd8ed1ab_0.conda\n",
      "https://conda.anaconda.org/conda-forge/noarch/jupyter_events-0.12.0-pyh29332c3_0.conda\n",
      "https://conda.anaconda.org/conda-forge/noarch/nbclient-0.10.2-pyhd8ed1ab_0.conda\n",
      "https://conda.anaconda.org/conda-forge/win-64/numpy-2.3.0-py313hefb8edb_0.conda\n",
      "https://conda.anaconda.org/conda-forge/noarch/nbconvert-core-7.16.6-pyh29332c3_0.conda\n",
      "https://conda.anaconda.org/conda-forge/win-64/pandas-2.3.0-py313hf91d08e_0.conda\n",
      "https://conda.anaconda.org/conda-forge/noarch/jupyter_server-2.16.0-pyhe01879c_0.conda\n",
      "https://conda.anaconda.org/conda-forge/noarch/jupyter-lsp-2.2.5-pyhe01879c_2.conda\n",
      "https://conda.anaconda.org/conda-forge/noarch/jupyterlab_server-2.27.3-pyhd8ed1ab_1.conda\n",
      "https://conda.anaconda.org/conda-forge/noarch/notebook-shim-0.2.4-pyhd8ed1ab_1.conda\n",
      "https://conda.anaconda.org/conda-forge/noarch/jupyterlab-4.4.3-pyhd8ed1ab_0.conda\n",
      "https://conda.anaconda.org/conda-forge/noarch/notebook-7.4.3-pyhd8ed1ab_0.conda\n",
      "https://conda.anaconda.org/conda-forge/noarch/jupyter-1.1.1-pyhd8ed1ab_1.conda\n"
     ]
    }
   ],
   "source": [
    "!conda list --explicit"
   ]
  },
  {
   "cell_type": "code",
   "execution_count": 2,
   "id": "c27449c9-c25c-430b-bf54-aad844e93b72",
   "metadata": {},
   "outputs": [],
   "source": [
    "# imports\n",
    "import os\n",
    "import shutil\n",
    "import numpy as np\n",
    "import pandas as pd\n",
    "import seaborn as sns\n",
    "import matplotlib.pyplot as plt\n",
    "\n",
    "import Bio\n",
    "\n",
    "from Bio.PDB import *\n",
    "from matplotlib_venn import venn3\n",
    "from scipy.stats import pearsonr, mannwhitneyu\n",
    "from upsetplot import plot"
   ]
  },
  {
   "cell_type": "code",
   "execution_count": 3,
   "id": "9e085e73-7ae1-4931-b298-27d32fc656fa",
   "metadata": {},
   "outputs": [],
   "source": [
    "# clear reference to different directories\n",
    "pipeline_annot_dir = os.getcwd()\n",
    "pipeline_search_dir = os.path.join(pipeline_annot_dir, os.pardir, \"1_dataset\")\n",
    "master_dir = os.path.abspath(os.path.join(pipeline_annot_dir, os.pardir, os.pardir))\n",
    "struct_out_dir = os.path.join(os.path.join(os.environ[\"USERPROFILE\"]), \"Desktop\", \"phage_annotation_input\", \"structure_prediction\") \n",
    "comp_out_dir = os.path.join(os.path.join(os.environ[\"USERPROFILE\"]), \"Desktop\", \"phage_annotation_input\", \"structure_comparison\") "
   ]
  },
  {
   "cell_type": "code",
   "execution_count": 4,
   "id": "0126452d-01f1-4ee7-8f93-2af40cb325d5",
   "metadata": {},
   "outputs": [],
   "source": [
    "# overview of proteins, batches, and issues\n",
    "    # cluster data\n",
    "cluster_protein_match = pd.read_csv(os.path.join(pipeline_search_dir, \"b_structure\", \"proteins_cluster\", \"phage_hypothetical_clustered.tsv\"), \n",
    "                                    sep=\"\\t\", header=None, names=[\"cluster_rep\",\"cluster_member\"])\n",
    "all_cluster_reps = list(cluster_protein_match[\"cluster_rep\"].unique())\n",
    "    # issues with structure prediciton\n",
    "bug_ids = [1024212698, 1049307970, 937263666, 937263657, 2095861127, 2476109552, 1201093646, 1278230276,\n",
    "          82657980, 1269167545, 2080079782, 1899050855, 2422010414, 701904370, 1009089253, 2416396857, 1825586694]\n",
    "relaxation_failed_ids = [585865431, 985788839, 656178049, 985788835, 2512621507, 985789034, 985789035, 985788870, 985788822, 985788825,\n",
    "                        985788820, 985788821, 985788819, 936761474, 985788892, 985788800, 985788799, 2512621457, 985788846, 1562103688,\n",
    "                        985788845, 2095887196, 1808209948, 1832334352, 2250993998, 2512621472, 1562103654, 985788861]\n",
    "    # proteins with predicted structures\n",
    "proteins_w_structure = list(set(all_cluster_reps) - set(bug_ids))"
   ]
  },
  {
   "cell_type": "code",
   "execution_count": 5,
   "id": "febc7be0-c9ba-40a8-b62e-bab1173aa642",
   "metadata": {},
   "outputs": [],
   "source": [
    "# linking batches and proteins for the structure comparison files\n",
    "dict_batch_comp_prot = {}\n",
    "dict_batch_comp = {}\n",
    "for protein in proteins_w_structure:\n",
    "    for index_batch in range(0,35):\n",
    "        batch_dir = os.path.join(comp_out_dir, f\"batch_{index_batch}\", f\"batch_{index_batch}\")\n",
    "        if os.path.isfile(os.path.join(batch_dir, f\"{protein}_foldseek_af50m_default.csv\")) and os.path.isfile(os.path.join(batch_dir, f\"{protein}_foldseek_pdb_default.csv\")):\n",
    "            dict_batch_comp_prot[protein] = index_batch\n",
    "for key, value in dict_batch_comp_prot.items():\n",
    "    if value in dict_batch_comp:\n",
    "        dict_batch_comp[value].append(key)\n",
    "    else:\n",
    "        dict_batch_comp[value] = [key]\n",
    "dict_batch_comp = dict(sorted(dict_batch_comp.items()))"
   ]
  },
  {
   "cell_type": "markdown",
   "id": "f2631119-5725-4e5b-85d8-d548e604076c",
   "metadata": {},
   "source": [
    "#### Goal 1 : Assess which proteins could be annotated in absence of structure information with Pharokka\n",
    "\n",
    "Pharokka is one of the most popular sequence-similarity based phage annotation tools. We will use Pharokka as a structure-independent baseline method in this study. \n",
    "\n",
    "To run Pharokka, we need to create input fasta files with our sequences, as well as job script files. For the multi-fasta files, we will simply group each structure prediction batch into 1 multi-fasta file, creating files of 500 proteins at a time. For the jobscript, we start from a script with all the details, except the pharokka_proteins command, as we have to fill out the reference to the input fasta file here. We will loop over the different batches and append these lines to the jobscript."
   ]
  },
  {
   "cell_type": "code",
   "execution_count": null,
   "id": "b150804c-b532-4395-991e-350169110121",
   "metadata": {},
   "outputs": [],
   "source": [
    "os.mkdir(os.path.join(pipeline_annot_dir, \"a_pharokka\"))\n",
    "os.mkdir(os.path.join(pipeline_annot_dir, \"a_pharokka\", \"input_fastas\"))"
   ]
  },
  {
   "cell_type": "code",
   "execution_count": null,
   "id": "d6ed875c-df6e-4bd4-969d-d7ad8dbd507e",
   "metadata": {},
   "outputs": [],
   "source": [
    "# loop over structure batches\n",
    "for i in range(0, 21):\n",
    "    batch = f\"batch_{i}\"\n",
    "    path_batch_results = os.path.join(struct_out_dir, batch, batch, \"fastas\")\n",
    "    multifasta_file = os.path.join(pipeline_annot_dir, \"a_pharokka\", \"input_fastas\", f\"proteins_{batch}.fasta\")\n",
    "    # go over results\n",
    "    for protein_fasta in os.listdir(path_batch_results):\n",
    "        ncbi_protein = protein_fasta.removesuffix(\".fasta\")\n",
    "        # exclude proteins for which we have no AlphaFold predictions\n",
    "        if ncbi_protein not in bug_ids:\n",
    "            fasta_file = os.path.join(path_batch_results, f\"{ncbi_protein}.fasta\")\n",
    "            with open(fasta_file, \"r\") as fasta: \n",
    "                with open(multifasta_file, \"a\") as multifasta: \n",
    "                    for line in fasta: \n",
    "                        if \">\" in line:\n",
    "                            line = line.replace(\">\", \">protein_\")\n",
    "                        multifasta.write(line)"
   ]
  },
  {
   "cell_type": "markdown",
   "id": "b0cb299c-efd9-482e-a2b8-29885d1ac860",
   "metadata": {},
   "source": [
    "On HPC, created conda environment 'pharokka' by using 'conda install -c conda-forge -c bioconda pharokka', and installed databases in $VSC_DATA using 'install_databases.py -o ./pharokka_dbs'. Now, let's create the jobscript:"
   ]
  },
  {
   "cell_type": "code",
   "execution_count": null,
   "id": "e76e5efc-c3c5-4286-a9ed-13fb15b570f1",
   "metadata": {},
   "outputs": [],
   "source": [
    "script_content = '''#!/bin/bash\n",
    "#SBATCH --nodes=1 --ntasks-per-node=72\n",
    "#SBATCH --time=01:00:00\n",
    "\n",
    "cd $SLURM_SUBMIT_DIR\n",
    "export OMP_PROC_BIND=false\n",
    "\n",
    "source /data/leuven/331/vsc33164/miniconda3/bin/activate\n",
    "conda activate pharokka_env\n",
    "\n",
    "pharokka_db=\"/data/leuven/331/vsc33164/pharokka_dbs\"\n",
    "\n",
    "'''"
   ]
  },
  {
   "cell_type": "code",
   "execution_count": null,
   "id": "0ad706e4-532e-4496-8563-42dc2e390806",
   "metadata": {},
   "outputs": [],
   "source": [
    "for i in range(0, 21):\n",
    "    batch = f\"batch_{i}\"\n",
    "    script_content +=  f\"pharokka_proteins.py -i ./input_fastas/proteins_{batch}.fasta -o ./output_{batch} -t 72 -d $pharokka_db \\n\""
   ]
  },
  {
   "cell_type": "code",
   "execution_count": null,
   "id": "aafa5ee8-61bd-439e-8f9c-9db8039dc619",
   "metadata": {},
   "outputs": [],
   "source": [
    "script = os.path.join(pipeline_annot_dir, \"a_pharokka\", \"pharokka.slurm\")\n",
    "with open(script, \"w\") as file:\n",
    "    print(script_content,file=file)"
   ]
  },
  {
   "cell_type": "markdown",
   "id": "e5c4bbfd-0627-4a99-a68e-381bfc35db7b",
   "metadata": {},
   "source": [
    "This can now  be submitted to the HPC.\n",
    "\n",
    "Let's have a look at the results, and see how much of the 'unannotated' protein clusters from our dataset could actually already be annotated in absence of structure:"
   ]
  },
  {
   "cell_type": "code",
   "execution_count": 6,
   "id": "a9e34768-20ed-4346-82ff-edb980458105",
   "metadata": {},
   "outputs": [],
   "source": [
    "pharokka_results_dir = os.path.join(os.path.join(os.environ[\"USERPROFILE\"]), \"Desktop\", \"phage_annotation_output\", \"4_pharokka\") "
   ]
  },
  {
   "cell_type": "code",
   "execution_count": 7,
   "id": "47a64494-5d3c-4175-999f-fa807ace8bb4",
   "metadata": {},
   "outputs": [],
   "source": [
    "# aggregating pharokka results\n",
    "pharokka_df = pd.DataFrame()\n",
    "    # loop over batch\n",
    "for i in range(0,21):\n",
    "    batch = f\"batch_{i}\"\n",
    "    batch_file = pd.read_csv(os.path.join(pharokka_results_dir, f\"output_{batch}\", \"pharokka_proteins_summary_output.tsv\"), sep = \"\\t\")\n",
    "    pharokka_df = pd.concat([batch_file, pharokka_df], ignore_index = True)"
   ]
  },
  {
   "cell_type": "code",
   "execution_count": 8,
   "id": "f63030d6-7840-45da-9caa-3f0c061b3842",
   "metadata": {},
   "outputs": [
    {
     "name": "stdout",
     "output_type": "stream",
     "text": [
      "Of the representative proteins, 2835 could be annotated by Pharokka.\n",
      "This represents 27.05% of all clusters.\n"
     ]
    }
   ],
   "source": [
    "# some general statistics\n",
    "num_ann = len(pharokka_df[(pharokka_df[\"category\"] != \"unknown function\")])\n",
    "per_ann = \"{:.2f}\".format(num_ann/len(pharokka_df)*100)\n",
    "print(f\"Of the representative proteins, {num_ann} could be annotated by Pharokka.\")\n",
    "print(f\"This represents {per_ann}% of all clusters.\")"
   ]
  },
  {
   "cell_type": "code",
   "execution_count": 9,
   "id": "41c0d800-c113-4797-bc28-04474fd2442f",
   "metadata": {},
   "outputs": [
    {
     "name": "stdout",
     "output_type": "stream",
     "text": [
      "Extrapolating to all proteins, 11251 could be annotated by Pharokka.\n",
      "This represents 29.73% of the entire dataset.\n"
     ]
    }
   ],
   "source": [
    "# let's calculate how many proteins are represented by this\n",
    "    # extract identifiers\n",
    "protein_id_ann = list(pharokka_df[(pharokka_df[\"category\"] != \"unknown function\")][\"ID\"])\n",
    "    # modify to integer NCBI UIDs\n",
    "ncbi_id_ann = [int(prot.removeprefix(\"protein_\")) for prot in protein_id_ann]\n",
    "    # extract full clusters, calculate size\n",
    "count_ann_all = len(cluster_protein_match[cluster_protein_match[\"cluster_rep\"].isin(ncbi_id_ann)])\n",
    "    # extract full clusters of each protein in Pharokka input (aka those with predicted structure)\n",
    "count_all_w_structure = len(cluster_protein_match[cluster_protein_match[\"cluster_rep\"].isin(proteins_w_structure)])\n",
    "    # final percentage\n",
    "per_ann_all = \"{:.2f}\".format(count_ann_all/count_all_w_structure*100)\n",
    "print(f\"Extrapolating to all proteins, {count_ann_all} could be annotated by Pharokka.\")\n",
    "print(f\"This represents {per_ann_all}% of the entire dataset.\")"
   ]
  },
  {
   "cell_type": "markdown",
   "id": "5ef89740-ec8d-407e-b33e-4b98cc0bcbd1",
   "metadata": {},
   "source": [
    "Let's also have a look at which kind of protein annotations are found in our dataset."
   ]
  },
  {
   "cell_type": "code",
   "execution_count": 10,
   "id": "94c28c4d-9a38-461a-a531-2f911108bedd",
   "metadata": {},
   "outputs": [
    {
     "data": {
      "text/html": [
       "<div>\n",
       "<style scoped>\n",
       "    .dataframe tbody tr th:only-of-type {\n",
       "        vertical-align: middle;\n",
       "    }\n",
       "\n",
       "    .dataframe tbody tr th {\n",
       "        vertical-align: top;\n",
       "    }\n",
       "\n",
       "    .dataframe thead th {\n",
       "        text-align: right;\n",
       "    }\n",
       "</style>\n",
       "<table border=\"1\" class=\"dataframe\">\n",
       "  <thead>\n",
       "    <tr style=\"text-align: right;\">\n",
       "      <th></th>\n",
       "      <th>ID</th>\n",
       "      <th>length</th>\n",
       "      <th>phrog</th>\n",
       "      <th>annot</th>\n",
       "    </tr>\n",
       "    <tr>\n",
       "      <th>category</th>\n",
       "      <th></th>\n",
       "      <th></th>\n",
       "      <th></th>\n",
       "      <th></th>\n",
       "    </tr>\n",
       "  </thead>\n",
       "  <tbody>\n",
       "    <tr>\n",
       "      <th>DNA, RNA and nucleotide metabolism</th>\n",
       "      <td>842</td>\n",
       "      <td>842</td>\n",
       "      <td>842</td>\n",
       "      <td>842</td>\n",
       "    </tr>\n",
       "    <tr>\n",
       "      <th>head and packaging</th>\n",
       "      <td>638</td>\n",
       "      <td>638</td>\n",
       "      <td>638</td>\n",
       "      <td>638</td>\n",
       "    </tr>\n",
       "    <tr>\n",
       "      <th>tail</th>\n",
       "      <td>519</td>\n",
       "      <td>519</td>\n",
       "      <td>519</td>\n",
       "      <td>519</td>\n",
       "    </tr>\n",
       "    <tr>\n",
       "      <th>other</th>\n",
       "      <td>297</td>\n",
       "      <td>297</td>\n",
       "      <td>297</td>\n",
       "      <td>297</td>\n",
       "    </tr>\n",
       "    <tr>\n",
       "      <th>lysis</th>\n",
       "      <td>158</td>\n",
       "      <td>158</td>\n",
       "      <td>158</td>\n",
       "      <td>158</td>\n",
       "    </tr>\n",
       "    <tr>\n",
       "      <th>moron, auxiliary metabolic gene and host takeover</th>\n",
       "      <td>153</td>\n",
       "      <td>153</td>\n",
       "      <td>153</td>\n",
       "      <td>153</td>\n",
       "    </tr>\n",
       "    <tr>\n",
       "      <th>connector</th>\n",
       "      <td>143</td>\n",
       "      <td>143</td>\n",
       "      <td>143</td>\n",
       "      <td>143</td>\n",
       "    </tr>\n",
       "    <tr>\n",
       "      <th>transcription regulation</th>\n",
       "      <td>66</td>\n",
       "      <td>66</td>\n",
       "      <td>66</td>\n",
       "      <td>66</td>\n",
       "    </tr>\n",
       "    <tr>\n",
       "      <th>integration and excision</th>\n",
       "      <td>19</td>\n",
       "      <td>19</td>\n",
       "      <td>19</td>\n",
       "      <td>19</td>\n",
       "    </tr>\n",
       "  </tbody>\n",
       "</table>\n",
       "</div>"
      ],
      "text/plain": [
       "                                                    ID  length  phrog  annot\n",
       "category                                                                    \n",
       "DNA, RNA and nucleotide metabolism                 842     842    842    842\n",
       "head and packaging                                 638     638    638    638\n",
       "tail                                               519     519    519    519\n",
       "other                                              297     297    297    297\n",
       "lysis                                              158     158    158    158\n",
       "moron, auxiliary metabolic gene and host takeover  153     153    153    153\n",
       "connector                                          143     143    143    143\n",
       "transcription regulation                            66      66     66     66\n",
       "integration and excision                            19      19     19     19"
      ]
     },
     "execution_count": 10,
     "metadata": {},
     "output_type": "execute_result"
    }
   ],
   "source": [
    "# let's have a look at the PHROG categories annotated\n",
    "pharokka_df[(pharokka_df[\"category\"] != \"unknown function\")].groupby(\"category\").count().sort_values(\"ID\", ascending = False)"
   ]
  },
  {
   "cell_type": "code",
   "execution_count": 11,
   "id": "524f4ec6-48d4-49bb-a0fe-b4a115936a1d",
   "metadata": {},
   "outputs": [],
   "source": [
    "# correcting the numbers for the cluster sizes\n",
    "def get_protnum_phrog(descr, df, df_clu):\n",
    "    prot_list = list(df[df[\"category\"] == descr][\"ID\"])\n",
    "    prot_ncbi = [int(prot.removeprefix(\"protein_\")) for prot in prot_list]\n",
    "    count = len(df_clu[df_clu[\"cluster_rep\"].isin(prot_ncbi)])\n",
    "    return count\n",
    "hap = get_protnum_phrog(\"head and packaging\", pharokka_df, cluster_protein_match)\n",
    "c = get_protnum_phrog(\"connector\", pharokka_df, cluster_protein_match)\n",
    "t = get_protnum_phrog(\"tail\", pharokka_df, cluster_protein_match)\n",
    "dranm = get_protnum_phrog(\"DNA, RNA and nucleotide metabolism\", pharokka_df, cluster_protein_match)\n",
    "iae = get_protnum_phrog(\"integration and excision\", pharokka_df, cluster_protein_match)\n",
    "l = get_protnum_phrog(\"lysis\", pharokka_df, cluster_protein_match)\n",
    "tr = get_protnum_phrog(\"transcription regulation\", pharokka_df, cluster_protein_match)\n",
    "mamgaht = get_protnum_phrog(\"moron, auxiliary metabolic gene and host takeover\", pharokka_df, cluster_protein_match)\n",
    "o = get_protnum_phrog(\"other\", pharokka_df, cluster_protein_match)"
   ]
  },
  {
   "cell_type": "code",
   "execution_count": 12,
   "id": "2771d2dc-dda6-4516-9b19-480de6cbe401",
   "metadata": {},
   "outputs": [],
   "source": [
    "# for later visualization, let's store this viridis palette order for PHROGS\n",
    "phrog_palette = {\"head and packaging\" : \"#440154\", \"connector\": \"#472d7b\", \"tail\": \"#3b528b\",\n",
    "                 \"DNA, RNA and nucleotide metabolism\" : \"#2c728e\", \"integration and excision\" : \"#21918c\",\n",
    "                 \"lysis\" : \"#28ae80\", \"transcription regulation\": \"#5ec962\", \n",
    "                 \"moron, auxiliary metabolic gene and host takeover\" : \"#addc30\", \"other\" : \"#fde725\",\n",
    "                 \"unknown function\": \"#ffffff\"}"
   ]
  },
  {
   "cell_type": "code",
   "execution_count": 13,
   "id": "17114769-2c4b-498f-a944-4a494b310957",
   "metadata": {
    "scrolled": true
   },
   "outputs": [
    {
     "data": {
      "image/png": "[encoded data removed]",
      "text/plain": [
       "<Figure size 640x480 with 1 Axes>"
      ]
     },
     "metadata": {},
     "output_type": "display_data"
    }
   ],
   "source": [
    "# let's represent this information visually, with a stacked bar chart, \n",
    "    # and for easier comparison, compare it to the proportional distribution of proteins annotated by PHROGS according to the article\n",
    "    # https://academic.oup.com/view-large/283913665\n",
    "# creating data dicts\n",
    "our_data = {\"head and packaging\" : hap/count_ann_all, \"connector\": c/count_ann_all, \"tail\": t/count_ann_all,\n",
    "            \"DNA, RNA and nucleotide metabolism\" : dranm/count_ann_all, \"integration and excision\" : iae/count_ann_all,\n",
    "            \"lysis\" : l/count_ann_all, \"transcription regulation\": tr/count_ann_all, \n",
    "            \"moron, auxiliary metabolic gene and host takeover\" : mamgaht/count_ann_all, \"other\" : o/count_ann_all}\n",
    "phrog_data = {\"head and packaging\" : 90413/475493, \"connector\": 35437/475493, \"tail\": 102372/475493,\n",
    "            \"DNA, RNA and nucleotide metabolism\" : 117389/475493, \"integration and excision\" : 9839/475493,\n",
    "            \"lysis\" : 31335/475493, \"transcription regulation\": 40892/475493, \"moron, auxiliary metabolic gene and host takeover\" : 27358/475493,\n",
    "            \"other\" : 20458/475493}\n",
    "# put data in long format in a dataframe\n",
    "data_plot = pd.DataFrame({\"PHROG category\": list(our_data.keys()) + list(phrog_data.keys()),\n",
    "                    \"dataset\": [\"(Un)annotated NCBI protein\"] * len(our_data.items()) + [\"PHROG db\"] * len(phrog_data.items()),\n",
    "                    \"percentage\": list(our_data.values()) + list(phrog_data.values())})\n",
    "# one liner to create a stacked bar chart\n",
    "fig = plt.figure()\n",
    "ax = sns.histplot(data_plot, x = \"dataset\", hue = \"PHROG category\" , weights = \"percentage\", multiple = \"stack\", palette = phrog_palette, shrink = 0.8, alpha = 1)\n",
    "sns.despine()\n",
    "ax.set_ylabel(\"Percentage annotated proteins\")\n",
    "ax.set_xlabel(\"Dataset\")\n",
    "legend = ax.get_legend()\n",
    "legend.set_bbox_to_anchor((1, 1))\n",
    "fig.savefig(os.path.join(master_dir, \"article_figures\", \"fig2\", \"PHROGcat_distribution_protein_pharokka.svg\"), format = \"svg\", transparent = True, bbox_inches = \"tight\")"
   ]
  },
  {
   "cell_type": "code",
   "execution_count": 14,
   "id": "1a03c8c2-ae50-4408-90b7-501f519f59d8",
   "metadata": {
    "scrolled": true
   },
   "outputs": [
    {
     "data": {
      "text/html": [
       "<div>\n",
       "<style scoped>\n",
       "    .dataframe tbody tr th:only-of-type {\n",
       "        vertical-align: middle;\n",
       "    }\n",
       "\n",
       "    .dataframe tbody tr th {\n",
       "        vertical-align: top;\n",
       "    }\n",
       "\n",
       "    .dataframe thead th {\n",
       "        text-align: right;\n",
       "    }\n",
       "</style>\n",
       "<table border=\"1\" class=\"dataframe\">\n",
       "  <thead>\n",
       "    <tr style=\"text-align: right;\">\n",
       "      <th></th>\n",
       "      <th>annotation</th>\n",
       "      <th>count</th>\n",
       "    </tr>\n",
       "  </thead>\n",
       "  <tbody>\n",
       "    <tr>\n",
       "      <th>280</th>\n",
       "      <td>virion structural protein</td>\n",
       "      <td>253</td>\n",
       "    </tr>\n",
       "    <tr>\n",
       "      <th>255</th>\n",
       "      <td>tail fiber protein</td>\n",
       "      <td>112</td>\n",
       "    </tr>\n",
       "    <tr>\n",
       "      <th>53</th>\n",
       "      <td>HNH endonuclease</td>\n",
       "      <td>109</td>\n",
       "    </tr>\n",
       "    <tr>\n",
       "      <th>257</th>\n",
       "      <td>tail protein</td>\n",
       "      <td>82</td>\n",
       "    </tr>\n",
       "    <tr>\n",
       "      <th>256</th>\n",
       "      <td>tail length tape measure protein</td>\n",
       "      <td>63</td>\n",
       "    </tr>\n",
       "    <tr>\n",
       "      <th>...</th>\n",
       "      <td>...</td>\n",
       "      <td>...</td>\n",
       "    </tr>\n",
       "    <tr>\n",
       "      <th>125</th>\n",
       "      <td>dATP triphosphohydrolase</td>\n",
       "      <td>1</td>\n",
       "    </tr>\n",
       "    <tr>\n",
       "      <th>130</th>\n",
       "      <td>deoxyribonucleoside 5' monophosphate phosphatase</td>\n",
       "      <td>1</td>\n",
       "    </tr>\n",
       "    <tr>\n",
       "      <th>137</th>\n",
       "      <td>enoyl-CoA hydratase/carnithine racemase-like</td>\n",
       "      <td>1</td>\n",
       "    </tr>\n",
       "    <tr>\n",
       "      <th>141</th>\n",
       "      <td>exonuclease recombination-associated</td>\n",
       "      <td>1</td>\n",
       "    </tr>\n",
       "    <tr>\n",
       "      <th>158</th>\n",
       "      <td>head-tail connector protein</td>\n",
       "      <td>1</td>\n",
       "    </tr>\n",
       "  </tbody>\n",
       "</table>\n",
       "<p>281 rows × 2 columns</p>\n",
       "</div>"
      ],
      "text/plain": [
       "                                           annotation  count\n",
       "280                         virion structural protein    253\n",
       "255                                tail fiber protein    112\n",
       "53                                   HNH endonuclease    109\n",
       "257                                      tail protein     82\n",
       "256                  tail length tape measure protein     63\n",
       "..                                                ...    ...\n",
       "125                          dATP triphosphohydrolase      1\n",
       "130  deoxyribonucleoside 5' monophosphate phosphatase      1\n",
       "137      enoyl-CoA hydratase/carnithine racemase-like      1\n",
       "141              exonuclease recombination-associated      1\n",
       "158                       head-tail connector protein      1\n",
       "\n",
       "[281 rows x 2 columns]"
      ]
     },
     "execution_count": 14,
     "metadata": {},
     "output_type": "execute_result"
    }
   ],
   "source": [
    "# let's have a look at the annotations found\n",
    "annotations = pharokka_df[(pharokka_df[\"category\"] != \"unknown function\")].groupby(\"annot\").count().reset_index()[[\"annot\", \"ID\"]]\n",
    "annotations.rename(columns = {\"annot\" : \"annotation\", \"ID\" : \"count\"}, inplace = True)\n",
    "annotations.sort_values(\"count\", ascending = False)"
   ]
  },
  {
   "cell_type": "code",
   "execution_count": 15,
   "id": "b3f6aeb7-1942-4264-8073-2b4dbbb52cbe",
   "metadata": {
    "scrolled": true
   },
   "outputs": [
    {
     "data": {
      "text/plain": [
       "<Axes: xlabel='count', ylabel='annotation'>"
      ]
     },
     "execution_count": 15,
     "metadata": {},
     "output_type": "execute_result"
    },
    {
     "data": {
      "image/png": "[encoded data removed]",
      "text/plain": [
       "<Figure size 640x480 with 1 Axes>"
      ]
     },
     "metadata": {},
     "output_type": "display_data"
    }
   ],
   "source": [
    "# let's represent this information visually\n",
    "sns.barplot(data = annotations.sort_values(\"count\", ascending = False)[0:20], y = \"annotation\", x = \"count\", hue = \"annotation\", palette = \"viridis\")"
   ]
  },
  {
   "cell_type": "code",
   "execution_count": 16,
   "id": "8ba3efee-b006-4eab-8abb-207583e1a041",
   "metadata": {},
   "outputs": [],
   "source": [
    "# let's correct this for cluster sizes\n",
    "agg_df = cluster_protein_match.groupby(\"cluster_rep\").size().reset_index(name = \"counts\")\n",
    "pharokka_df[\"protein\"] = pharokka_df[\"ID\"].str.removeprefix(\"protein_\").astype(int)\n",
    "pharokka_df = agg_df.merge(pharokka_df, left_on = \"cluster_rep\", right_on = \"protein\")"
   ]
  },
  {
   "cell_type": "code",
   "execution_count": 17,
   "id": "35f2e462-d421-4218-85ee-3484d03eb794",
   "metadata": {
    "scrolled": true
   },
   "outputs": [
    {
     "data": {
      "text/html": [
       "<div>\n",
       "<style scoped>\n",
       "    .dataframe tbody tr th:only-of-type {\n",
       "        vertical-align: middle;\n",
       "    }\n",
       "\n",
       "    .dataframe tbody tr th {\n",
       "        vertical-align: top;\n",
       "    }\n",
       "\n",
       "    .dataframe thead th {\n",
       "        text-align: right;\n",
       "    }\n",
       "</style>\n",
       "<table border=\"1\" class=\"dataframe\">\n",
       "  <thead>\n",
       "    <tr style=\"text-align: right;\">\n",
       "      <th></th>\n",
       "      <th>annotation</th>\n",
       "      <th>count</th>\n",
       "    </tr>\n",
       "  </thead>\n",
       "  <tbody>\n",
       "    <tr>\n",
       "      <th>280</th>\n",
       "      <td>virion structural protein</td>\n",
       "      <td>1495</td>\n",
       "    </tr>\n",
       "    <tr>\n",
       "      <th>255</th>\n",
       "      <td>tail fiber protein</td>\n",
       "      <td>684</td>\n",
       "    </tr>\n",
       "    <tr>\n",
       "      <th>53</th>\n",
       "      <td>HNH endonuclease</td>\n",
       "      <td>321</td>\n",
       "    </tr>\n",
       "    <tr>\n",
       "      <th>213</th>\n",
       "      <td>portal protein</td>\n",
       "      <td>287</td>\n",
       "    </tr>\n",
       "    <tr>\n",
       "      <th>91</th>\n",
       "      <td>Rz-like spanin</td>\n",
       "      <td>247</td>\n",
       "    </tr>\n",
       "    <tr>\n",
       "      <th>...</th>\n",
       "      <td>...</td>\n",
       "      <td>...</td>\n",
       "    </tr>\n",
       "    <tr>\n",
       "      <th>147</th>\n",
       "      <td>head closure Hc2</td>\n",
       "      <td>1</td>\n",
       "    </tr>\n",
       "    <tr>\n",
       "      <th>48</th>\n",
       "      <td>Fe-S-cluster redox domain-containing</td>\n",
       "      <td>1</td>\n",
       "    </tr>\n",
       "    <tr>\n",
       "      <th>243</th>\n",
       "      <td>tRNA methyltransferase</td>\n",
       "      <td>1</td>\n",
       "    </tr>\n",
       "    <tr>\n",
       "      <th>244</th>\n",
       "      <td>tRNA splicing ligase</td>\n",
       "      <td>1</td>\n",
       "    </tr>\n",
       "    <tr>\n",
       "      <th>245</th>\n",
       "      <td>tRNA splicing ligase RtcB</td>\n",
       "      <td>1</td>\n",
       "    </tr>\n",
       "  </tbody>\n",
       "</table>\n",
       "<p>281 rows × 2 columns</p>\n",
       "</div>"
      ],
      "text/plain": [
       "                               annotation  count\n",
       "280             virion structural protein   1495\n",
       "255                    tail fiber protein    684\n",
       "53                       HNH endonuclease    321\n",
       "213                        portal protein    287\n",
       "91                         Rz-like spanin    247\n",
       "..                                    ...    ...\n",
       "147                      head closure Hc2      1\n",
       "48   Fe-S-cluster redox domain-containing      1\n",
       "243                tRNA methyltransferase      1\n",
       "244                  tRNA splicing ligase      1\n",
       "245             tRNA splicing ligase RtcB      1\n",
       "\n",
       "[281 rows x 2 columns]"
      ]
     },
     "execution_count": 17,
     "metadata": {},
     "output_type": "execute_result"
    }
   ],
   "source": [
    "# corrected for cluster size\n",
    "# let's have a look at the annotations found\n",
    "annotations_p = pharokka_df[(pharokka_df[\"category\"] != \"unknown function\")].groupby(\"annot\").sum().reset_index()[[\"annot\", \"counts\"]]\n",
    "annotations_p.rename(columns = {\"annot\" : \"annotation\", \"counts\" : \"count\"}, inplace = True)\n",
    "annotations_p.sort_values(\"count\", ascending = False)"
   ]
  },
  {
   "cell_type": "code",
   "execution_count": 18,
   "id": "003c1c14-ebfa-4600-abb1-5946e90bd535",
   "metadata": {
    "scrolled": true
   },
   "outputs": [
    {
     "data": {
      "image/png": "[encoded data removed]",
      "text/plain": [
       "<Figure size 640x480 with 1 Axes>"
      ]
     },
     "metadata": {},
     "output_type": "display_data"
    }
   ],
   "source": [
    "# let's now represent this visually, coloring annotations according to the PHROG category they belong to\n",
    "sns.barplot(data = annotations_p.sort_values(\"count\", ascending = False)[0:10], y = \"annotation\", x = \"count\", hue = \"annotation\", palette = \n",
    "            {\"virion structural protein\" : \"#440154\", \"tail fiber protein\" : \"#3b528b\", \"HNH endonuclease\": \"#2c728e\", \n",
    "            \"portal protein\" : \"#440154\", \"Rz-like spanin\" : \"#28ae80\", \"tail protein\" : \"#3b528b\", \n",
    "            \"structural protein\" :  \"#440154\", \"tail completion or Neck1 protein\" : \"#3b528b\", \"DNA primase\" : \"#2c728e\", \"tail assembly chaperone\" : \"#3b528b\"}) \n",
    "sns.despine()\n",
    "plt.savefig(os.path.join(master_dir, \"article_figures\", \"fig2\",  \"top10_annotations_protein_pharokka.svg\"), format = \"svg\", transparent = True, bbox_inches = \"tight\")"
   ]
  },
  {
   "cell_type": "markdown",
   "id": "a8a83c8d-47d4-4993-960d-ae9654c8af59",
   "metadata": {},
   "source": [
    "##### Assessing potential confounders of annotatibility by Pharokka - cluster size\n",
    "\n",
    "Let's have a look at whether there is a relationship between cluster size and whether or not Pharokka annotates a protein. A bigger cluster size would imply that the protein is more common, which might make it more likely to have been annotated in the past."
   ]
  },
  {
   "cell_type": "code",
   "execution_count": 19,
   "id": "65e1c477-1b0c-4616-9a3b-ed33be476b45",
   "metadata": {},
   "outputs": [
    {
     "data": {
      "text/plain": [
       "MannwhitneyuResult(statistic=np.float64(11947828.0), pvalue=np.float64(3.3784523715509687e-21))"
      ]
     },
     "execution_count": 19,
     "metadata": {},
     "output_type": "execute_result"
    }
   ],
   "source": [
    "# are the proteins annotated by Pharokka special? Come from larger clusters?\n",
    "agg_df[\"label\"] = \"unannotated\"\n",
    "agg_df.loc[agg_df[\"cluster_rep\"].isin(ncbi_id_ann), \"label\"] = \"annotated\"\n",
    "mannwhitneyu(agg_df[agg_df[\"label\"] == \"annotated\"][\"counts\"], agg_df[agg_df[\"label\"] == \"unannotated\"][\"counts\"], alternative = \"greater\")"
   ]
  },
  {
   "cell_type": "code",
   "execution_count": 20,
   "id": "7bd7c1ea-2d73-41c9-9f68-4b49c653cd45",
   "metadata": {},
   "outputs": [
    {
     "name": "stdout",
     "output_type": "stream",
     "text": [
      "The average annotated protein cluster contains 4 +- 8 proteins.\n",
      "The average unannotated protein cluster contains 3 +- 10 proteins.\n"
     ]
    }
   ],
   "source": [
    "# average cluster sizes\n",
    "ann_m_clusi = np.mean(agg_df[agg_df[\"label\"] == \"annotated\"][\"counts\"])\n",
    "ann_sd_clusi = np.std(agg_df[agg_df[\"label\"] == \"annotated\"][\"counts\"])\n",
    "unann_m_clusi = np.mean(agg_df[agg_df[\"label\"] == \"unannotated\"][\"counts\"])\n",
    "unann_sd_clusi = np.std(agg_df[agg_df[\"label\"] == \"unannotated\"][\"counts\"])\n",
    "print(\"The average annotated protein cluster contains\", \"{:.0f}\".format(ann_m_clusi), \"+-\", \"{:.0f}\".format(ann_sd_clusi), \"proteins.\")\n",
    "print(\"The average unannotated protein cluster contains\", \"{:.0f}\".format(unann_m_clusi), \"+-\", \"{:.0f}\".format(unann_sd_clusi), \"proteins.\")"
   ]
  },
  {
   "cell_type": "code",
   "execution_count": 21,
   "id": "01e3d219-4c81-47c0-9441-fb13e201f309",
   "metadata": {
    "scrolled": true
   },
   "outputs": [
    {
     "data": {
      "image/png": "[encoded data removed]",
      "text/plain": [
       "<Figure size 640x480 with 1 Axes>"
      ]
     },
     "metadata": {},
     "output_type": "display_data"
    }
   ],
   "source": [
    "# let's now plot cluster size for all clusters, seperating annotated from unannotated proteins\n",
    "vplot = sns.violinplot(data = agg_df[agg_df[\"counts\"].between(agg_df[\"counts\"].quantile(0.01), agg_df[\"counts\"].quantile(.99))], x = \"label\", y = \"counts\", hue = \"label\", \n",
    "                       palette = [\"#2a788e\", \"#440154\"], inner_kws=dict(color=\".7\"), alpha = 0.75, cut = 0)\n",
    "vplot.set_ylabel(\"Cluster size\")\n",
    "sns.despine(top = True, bottom = True, right = True)\n",
    "vplot.tick_params(bottom=False) \n",
    "plt.savefig(os.path.join(master_dir, \"article_figures\", \"fig2\", \"violinplot_clustersize_cluster_pharokka.svg\"), format = \"svg\", transparent = True, bbox_inches = \"tight\")"
   ]
  },
  {
   "cell_type": "markdown",
   "id": "cfbf8f19-75f9-4536-8b5d-8d9ed33e50a3",
   "metadata": {},
   "source": [
    "##### Assessing potential confounders of annotatibility by Pharokka - protein size\n",
    "\n",
    "Let's have a look at whether there is a relationship between protein size and whether or not Pharokka annotates a protein, like we saw before in the full NCBI protein dataset."
   ]
  },
  {
   "cell_type": "code",
   "execution_count": 22,
   "id": "23f7c09b-dae4-4315-80ca-51ca3d4f8c5c",
   "metadata": {},
   "outputs": [
    {
     "data": {
      "text/plain": [
       "MannwhitneyuResult(statistic=np.float64(15116898.5), pvalue=np.float64(1.3962064850302225e-212))"
      ]
     },
     "execution_count": 22,
     "metadata": {},
     "output_type": "execute_result"
    }
   ],
   "source": [
    "# let's also have a look at protein size\n",
    "protein_data = pd.read_table(os.path.join(pipeline_search_dir, \"a_input\", \"protein_overview\", \"protein_overview.txt\"), names=[\"taxid_name\", \"ncbi_protein_id\", \"ncbi_protein_name\", \"ncbi_protein_length\"])\n",
    "protein_data = protein_data[protein_data[\"ncbi_protein_id\"].isin(proteins_w_structure)]\n",
    "protein_data[\"label\"] = \"unannotated\"\n",
    "protein_data.loc[protein_data[\"ncbi_protein_id\"].isin(ncbi_id_ann), \"label\"] = \"annotated\"\n",
    "mannwhitneyu(protein_data[protein_data[\"label\"] == \"annotated\"][\"ncbi_protein_length\"], protein_data[protein_data[\"label\"] == \"unannotated\"][\"ncbi_protein_length\"], alternative = \"greater\")"
   ]
  },
  {
   "cell_type": "code",
   "execution_count": 23,
   "id": "6604172b-fb56-4652-9c0a-44dafa96d9fc",
   "metadata": {
    "scrolled": true
   },
   "outputs": [
    {
     "data": {
      "image/png": "[encoded data removed]",
      "text/plain": [
       "<Figure size 640x480 with 1 Axes>"
      ]
     },
     "metadata": {},
     "output_type": "display_data"
    }
   ],
   "source": [
    "# let's now plot cluster size for all clusters, seperating annotated from unannotated proteins\n",
    "vplot = sns.violinplot(data = protein_data, x = \"label\", y = \"ncbi_protein_length\", hue = \"label\", \n",
    "                         palette = [\"#2a788e\", \"#440154\"], inner_kws=dict(color=\".7\"), alpha = 0.75, cut = 0)\n",
    "vplot.set_ylabel(\"Protein size\")\n",
    "sns.despine(top = True, bottom = True, right = True)\n",
    "vplot.tick_params(bottom=False) \n",
    "plt.savefig(os.path.join(master_dir, \"article_figures\", \"fig2\",  \"violinplot_proteinsize_cluster_pharokka.svg\"), format = \"svg\", transparent = True, bbox_inches = \"tight\")"
   ]
  },
  {
   "cell_type": "markdown",
   "id": "6cb3f218-696e-46ca-85e5-d876bc686441",
   "metadata": {},
   "source": [
    "#### Goal 2 : Compare protein( structure)s to the Phold databases, using Phold\n",
    "\n",
    "In the previous notebook, we have already searched for structural similarity of the predicted protein structures to the AlphaFold database and the PDB. However, phage specific databases are available, and implemented in Phold. As such, we will use Phold to assess similarity to these phage specific databases. \n",
    "\n",
    "Phold will be run in both the sequence- and structure-based approach. \n",
    "\n",
    "##### Sequence-based approach\n",
    "\n",
    "For the sequence-based approach, we need to create input fasta files with our sequences, as well as job script files. For the multi-fasta files, we will simply group each structure prediction batch into 1 multi-fasta file, creating files of 500 proteins at a time. For the jobscript, we start from a script with all the details, except the pharokka_proteins command, as we have to fill out the reference to the input fasta file here. We will loop over the different batches and append these lines to the jobscript."
   ]
  },
  {
   "cell_type": "code",
   "execution_count": null,
   "id": "93552370-01e4-4d70-ae37-c0398d1abf64",
   "metadata": {},
   "outputs": [],
   "source": [
    "os.mkdir(os.path.join(pipeline_annot_dir, \"b_phold\"))\n",
    "os.mkdir(os.path.join(pipeline_annot_dir, \"b_phold\", \"input_fastas\"))"
   ]
  },
  {
   "cell_type": "code",
   "execution_count": null,
   "id": "4c7d95b6-42a2-4ad5-b22c-d37d6a3e3208",
   "metadata": {},
   "outputs": [],
   "source": [
    "# loop over structure batches\n",
    "for i in range(0, 21):\n",
    "    batch = f\"batch_{i}\"\n",
    "    path_batch_results = os.path.join(struct_out_dir, batch, batch, \"fastas\")\n",
    "    multifasta_file = os.path.join(pipeline_annot_dir, \"b_phold\", \"input_fastas\", f\"proteins_{batch}.fasta\")\n",
    "    # go over results\n",
    "    for protein_fasta in os.listdir(path_batch_results):\n",
    "        ncbi_protein = protein_fasta.removesuffix(\".fasta\")\n",
    "        # exclude proteins for which we have no AlphaFold predictions\n",
    "        if ncbi_protein not in bug_ids:\n",
    "            fasta_file = os.path.join(path_batch_results, f\"{ncbi_protein}.fasta\")\n",
    "            with open(fasta_file, \"r\") as fasta: \n",
    "                with open(multifasta_file, \"a\") as multifasta: \n",
    "                    for line in fasta: \n",
    "                        if \">\" in line:\n",
    "                            line = line.replace(\">\", \">protein_\")\n",
    "                        multifasta.write(line)"
   ]
  },
  {
   "cell_type": "markdown",
   "id": "648fd78e-778a-45cc-a52e-cc4f8eaceb00",
   "metadata": {},
   "source": [
    "On HPC, created conda environment 'phold_env' by using 'conda install -c conda-forge -c bioconda phold pytorch==cuda' on interactive GPU node, and installed databases in $VSC_DATA using 'phold install -d ./phold_dbs '. Now, let's create the jobscript:"
   ]
  },
  {
   "cell_type": "code",
   "execution_count": null,
   "id": "bcf3611b-70b9-48eb-98f3-ebd3c8a1f399",
   "metadata": {},
   "outputs": [],
   "source": [
    "script_content_seq = '''#!/bin/bash\n",
    "#SBATCH --cluster=wice --partition=gpu_a100\n",
    "#SBATCH --nodes=1 --gpus-per-node=1 --ntasks=18\n",
    "#SBATCH --time=06:00:00\n",
    "\n",
    "cd $SLURM_SUBMIT_DIR\n",
    "\n",
    "source /data/leuven/331/vsc33164/miniconda3/bin/activate\n",
    "conda activate phold_env\n",
    "\n",
    "phold_db=\"/data/leuven/331/vsc33164/phold_dbs\"\n",
    "\n",
    "'''"
   ]
  },
  {
   "cell_type": "code",
   "execution_count": null,
   "id": "278b11ee-13de-4d5b-b4a1-eac9fedc39e2",
   "metadata": {},
   "outputs": [],
   "source": [
    "for i in range(0, 21):\n",
    "    batch = f\"batch_{i}\"\n",
    "    script_content_seq +=  f\"phold proteins-predict -i ./input_fastas/proteins_{batch}.fasta -d $phold_db -o ./output_predict_seq_{batch} -t 18 \\n\"\n",
    "    script_content_seq +=  f\"phold proteins-compare -i ./input_fastas/proteins_{batch}.fasta --predictions_dir ./output_predict_seq_{batch} -d $phold_db -o ./output_compare_seq_{batch} -t 18 \\n\""
   ]
  },
  {
   "cell_type": "code",
   "execution_count": null,
   "id": "b01815c1-b8dd-497c-8f7f-27dce45960cd",
   "metadata": {},
   "outputs": [],
   "source": [
    "script_seq = os.path.join(pipeline_annot_dir, \"b_phold\", \"phold_seq.slurm\")\n",
    "with open(script_seq, \"w\") as file:\n",
    "    print(script_content_seq, file = file)"
   ]
  },
  {
   "cell_type": "markdown",
   "id": "de734688-d875-434d-824e-4d97c4c1882a",
   "metadata": {},
   "source": [
    "This can now  be submitted to the HPC."
   ]
  },
  {
   "cell_type": "markdown",
   "id": "4cc52828-f3df-4ea1-a43e-58fde6f3e56d",
   "metadata": {},
   "source": [
    "##### Structure-based approach\n",
    "\n",
    "To run Phold based on the structures, we can reuse the input fasta files with our sequences, but need to copy the relevant structure files (renaming them in the process, to match the fasta headers), as well as create adapted job script files. For the structure files, we will simply group each structure prediction batch into 1 folder, and rename the files while copying, creating directories of 500 proteins at a time. For the jobscript, we start from a script with all the details, except the pharokka_proteins command, as we have to fill out the reference to the input fasta file here. We will loop over the different batches and append these lines to the jobscript."
   ]
  },
  {
   "cell_type": "code",
   "execution_count": null,
   "id": "ba91a9fa-e261-4a03-b6c2-a55ed814c67a",
   "metadata": {},
   "outputs": [],
   "source": [
    "# looping over batches\n",
    "for i in range(0, 21):\n",
    "    batch = f\"batch_{i}\"\n",
    "    path_batch_fastas = os.path.join(struct_out_dir, batch, batch, \"fastas\")\n",
    "    path_batch_results = os.path.join(struct_out_dir, batch, batch, \"results\")\n",
    "    out_dir = os.path.join(pipeline_annot_dir, \"b_phold\", \"input_structures\", f\"input_structures_{batch}\")\n",
    "    os.makedirs(out_dir)\n",
    "    # go over results\n",
    "    for protein_fasta in os.listdir(path_batch_results):\n",
    "        ncbi_protein = protein_fasta.removesuffix(\".fasta\")\n",
    "        ncbi_protein_int = int(ncbi_protein)\n",
    "        # exclude proteins for which we have no AlphaFold predictions\n",
    "        if ncbi_protein_int not in bug_ids:\n",
    "            structure_path = os.path.join(path_batch_results, ncbi_protein)\n",
    "            if ncbi_protein_int not in relaxation_failed_ids:\n",
    "                shutil.copyfile(os.path.join(structure_path, f\"{ncbi_protein}_relaxed.pdb\"), os.path.join(out_dir, f\"protein_{ncbi_protein}.pdb\"))\n",
    "            elif ncbi_protein_int in relaxation_failed_ids:\n",
    "                for file in os.listdir(structure_path):\n",
    "                    if \"rank_1\" in file:\n",
    "                        shutil.copyfile(os.path.join(structure_path, file), os.path.join(out_dir, f\"protein_{ncbi_protein}.pdb\"))"
   ]
  },
  {
   "cell_type": "code",
   "execution_count": null,
   "id": "e3da5e28-f319-4914-827b-e0df5f1dd7ea",
   "metadata": {},
   "outputs": [],
   "source": [
    "script_content_str = '''#!/bin/bash\n",
    "#SBATCH --cluster=wice --partition=gpu_a100\n",
    "#SBATCH --nodes=1 --gpus-per-node=1 --ntasks=18\n",
    "#SBATCH --time=01:00:00\n",
    "\n",
    "cd $SLURM_SUBMIT_DIR\n",
    "\n",
    "source /data/leuven/331/vsc33164/miniconda3/bin/activate\n",
    "conda activate phold_env\n",
    "\n",
    "phold_db=\"/data/leuven/331/vsc33164/phold_dbs\"\n",
    "\n",
    "'''"
   ]
  },
  {
   "cell_type": "code",
   "execution_count": null,
   "id": "4750ec32-e1cc-41f5-be8d-18d63f9f165c",
   "metadata": {},
   "outputs": [],
   "source": [
    "for i in range(0, 21):\n",
    "    batch = f\"batch_{i}\"\n",
    "    script_content_str +=  f\"phold proteins-compare -i ./input_fastas/proteins_{batch}.fasta --structures --structure_dir ./input_structures/input_structures_{batch} -d $phold_db -o ./output_compare_str_{batch} -t 18 \\n\""
   ]
  },
  {
   "cell_type": "code",
   "execution_count": null,
   "id": "15e084f2-25f2-40e8-a84b-bdf18a0467fb",
   "metadata": {},
   "outputs": [],
   "source": [
    "script_str = os.path.join(pipeline_annot_dir, \"b_phold\", \"phold_str.slurm\")\n",
    "with open(script_str, \"w\") as file:\n",
    "    print(script_content_str, file=file)"
   ]
  },
  {
   "cell_type": "markdown",
   "id": "85fcc5fd-df81-47c0-b399-a971e0f1237e",
   "metadata": {},
   "source": [
    "This can also be submitted to the HPC."
   ]
  },
  {
   "cell_type": "code",
   "execution_count": 24,
   "id": "90bab3c7-9f61-43ac-a67b-03bedca83be0",
   "metadata": {},
   "outputs": [],
   "source": [
    "phold_results_dir = os.path.join(os.path.join(os.environ[\"USERPROFILE\"]), \"Desktop\", \"phage_annotation_output\", \"5_phold\") "
   ]
  },
  {
   "cell_type": "markdown",
   "id": "66df5f9a-2c81-4765-b268-e76e73bd1d25",
   "metadata": {},
   "source": [
    "#### Goal 3: Assess which proteins are ammenable to annotation based on structure similarity\n",
    "\n",
    "As we want to assess the efficacy of structure-based annotations that use FoldSeek, we are ultimately limited in annotation to those who at least have some structural similarity to one of our search databases. Let's investigate how many proteins have no FoldSeek hits, both to our databases, as well as to the Phold databases.  "
   ]
  },
  {
   "cell_type": "code",
   "execution_count": 25,
   "id": "9db6f504-38a2-4c0e-b780-c3b149598442",
   "metadata": {},
   "outputs": [],
   "source": [
    "# let's write some code for the FoldSeek output from our own searches first,in essence, all we have to check is the line count\n",
    "def get_num_hits(b_dir, protein):\n",
    "    # paths to different files\n",
    "    aln_pdb_raw = os.path.join(b_dir, f\"{protein}_foldseek_pdb_default.csv\")\n",
    "    aln_af50m_raw = os.path.join(b_dir, f\"{protein}_foldseek_af50m_default.csv\")\n",
    "    # calculate hit count\n",
    "    with open(aln_pdb_raw) as file:\n",
    "        pdb_raw_count = sum(1 for _ in file) - 1\n",
    "    with open(aln_af50m_raw) as file:\n",
    "        af50m_raw_count = sum(1 for _ in file) - 1 \n",
    "    return pdb_raw_count, af50m_raw_count"
   ]
  },
  {
   "cell_type": "code",
   "execution_count": 26,
   "id": "6e30f7e6-3680-45b4-83ed-6fd92976cad8",
   "metadata": {},
   "outputs": [],
   "source": [
    "# aggregating phold - structure results\n",
    "phold_structure_df = pd.DataFrame()\n",
    "    # loop over batch\n",
    "for i in range(0,21):\n",
    "    batch = f\"batch_{i}\"\n",
    "    batch_file = pd.read_csv(os.path.join(phold_results_dir, f\"output_compare_str_{batch}\", \"phold_per_cds_predictions.tsv\"), sep = \"\\t\")\n",
    "    phold_structure_df = pd.concat([batch_file, phold_structure_df], ignore_index = True) "
   ]
  },
  {
   "cell_type": "code",
   "execution_count": 27,
   "id": "d03ca9d4-5a54-445f-88d1-7fcdfbdebe90",
   "metadata": {},
   "outputs": [],
   "source": [
    "# aggregating phold - sequence results\n",
    "phold_sequence_df = pd.DataFrame()\n",
    "    # loop over batch\n",
    "for i in range(0,21):\n",
    "    batch = f\"batch_{i}\"\n",
    "    batch_file = pd.read_csv(os.path.join(phold_results_dir, f\"output_compare_seq_{batch}\", \"phold_per_cds_predictions.tsv\"), sep = \"\\t\")\n",
    "    phold_sequence_df = pd.concat([batch_file, phold_sequence_df], ignore_index = True)"
   ]
  },
  {
   "cell_type": "code",
   "execution_count": 28,
   "id": "fef158fd-f44e-40de-befd-732c82c886c5",
   "metadata": {},
   "outputs": [],
   "source": [
    "# let's also write a function to check whether a protein has shown structural similarity to any of the Phold databases\n",
    "def get_bin_hit_phold(df, protein):\n",
    "    subdf = df[df[\"cds_id\"] == f\"protein_{protein}\"]\n",
    "    if subdf[\"annotation_source\"].values[0] == \"foldseek\":\n",
    "        return True\n",
    "    elif np.isnan(subdf[\"annotation_source\"].values[0]):\n",
    "        return False"
   ]
  },
  {
   "cell_type": "code",
   "execution_count": 29,
   "id": "928d114c-c056-4573-b7b3-a43cd4169017",
   "metadata": {
    "collapsed": true,
    "jupyter": {
     "outputs_hidden": true
    }
   },
   "outputs": [
    {
     "name": "stdout",
     "output_type": "stream",
     "text": [
      "Finished batch_0 FoldSeek hit count analysis.\n",
      "Finished batch_1 FoldSeek hit count analysis.\n",
      "Finished batch_2 FoldSeek hit count analysis.\n",
      "Finished batch_3 FoldSeek hit count analysis.\n",
      "Finished batch_4 FoldSeek hit count analysis.\n",
      "Finished batch_5 FoldSeek hit count analysis.\n",
      "Finished batch_6 FoldSeek hit count analysis.\n",
      "Finished batch_7 FoldSeek hit count analysis.\n",
      "Finished batch_8 FoldSeek hit count analysis.\n",
      "Finished batch_9 FoldSeek hit count analysis.\n",
      "Finished batch_10 FoldSeek hit count analysis.\n",
      "Finished batch_11 FoldSeek hit count analysis.\n",
      "Finished batch_12 FoldSeek hit count analysis.\n",
      "Finished batch_13 FoldSeek hit count analysis.\n",
      "Finished batch_14 FoldSeek hit count analysis.\n",
      "Finished batch_15 FoldSeek hit count analysis.\n",
      "Finished batch_16 FoldSeek hit count analysis.\n",
      "Finished batch_17 FoldSeek hit count analysis.\n",
      "Finished batch_18 FoldSeek hit count analysis.\n",
      "Finished batch_19 FoldSeek hit count analysis.\n",
      "Finished batch_20 FoldSeek hit count analysis.\n",
      "Finished batch_21 FoldSeek hit count analysis.\n",
      "Finished batch_22 FoldSeek hit count analysis.\n",
      "Finished batch_23 FoldSeek hit count analysis.\n",
      "Finished batch_24 FoldSeek hit count analysis.\n",
      "Finished batch_25 FoldSeek hit count analysis.\n",
      "Finished batch_26 FoldSeek hit count analysis.\n",
      "Finished batch_27 FoldSeek hit count analysis.\n",
      "Finished batch_28 FoldSeek hit count analysis.\n",
      "Finished batch_29 FoldSeek hit count analysis.\n",
      "Finished batch_30 FoldSeek hit count analysis.\n",
      "Finished batch_31 FoldSeek hit count analysis.\n",
      "Finished batch_32 FoldSeek hit count analysis.\n",
      "Finished batch_33 FoldSeek hit count analysis.\n",
      "Finished batch_34 FoldSeek hit count analysis.\n"
     ]
    }
   ],
   "source": [
    " # results storage dict\n",
    "protein_hits = {}\n",
    "# apply function\n",
    "for batch_index, protein_list in dict_batch_comp.items():\n",
    "    for protein in protein_list:\n",
    "        batch = f\"batch_{batch_index}\"\n",
    "        path_batch = os.path.join(comp_out_dir, batch, batch)\n",
    "        pdb_raw_count, af50m_raw_count = get_num_hits(path_batch, protein)\n",
    "        phold_bin_str = get_bin_hit_phold(phold_structure_df, protein)\n",
    "        phold_bin_seq = get_bin_hit_phold(phold_sequence_df, protein)\n",
    "        protein_hits[protein] = pdb_raw_count, af50m_raw_count, phold_bin_str, phold_bin_seq\n",
    "    print(f\"Finished {batch} FoldSeek hit count analysis.\")"
   ]
  },
  {
   "cell_type": "code",
   "execution_count": 30,
   "id": "f008487c-f3f6-47b0-9dc9-14a50c7230d5",
   "metadata": {},
   "outputs": [],
   "source": [
    "no_match_list = list()\n",
    "no_match_str = list()\n",
    "no_match_pdb = list()\n",
    "no_match_afdb = list()\n",
    "no_match_phold_seq = list()\n",
    "no_match_phold_str = list()\n",
    "for key, value in protein_hits.items():\n",
    "    if value == (0, 0, False, False):\n",
    "        no_match_list.append(key)   \n",
    "    if value[0] == 0:\n",
    "        no_match_pdb.append(key)\n",
    "    if value[1] == 0:\n",
    "        no_match_afdb.append(key)\n",
    "    if value[2] == False:\n",
    "        no_match_phold_str.append(key)\n",
    "    if value[3] == False:\n",
    "        no_match_phold_seq.append(key)\n",
    "    if value[0] == 0 and value[1] == 0 and value[2] == False:\n",
    "        no_match_str.append(key)"
   ]
  },
  {
   "cell_type": "markdown",
   "id": "bd4ac0e9-46a6-4746-bf05-52144f812998",
   "metadata": {},
   "source": [
    "Now that we have calculated and extracted the structural similarity, let's summarize our findings:"
   ]
  },
  {
   "cell_type": "code",
   "execution_count": 31,
   "id": "807b491a-913c-4bca-87f1-496d9a4fbeaf",
   "metadata": {},
   "outputs": [
    {
     "name": "stdout",
     "output_type": "stream",
     "text": [
      "The PDB did not display any significant structural similarity to 8194 clusters (thus matching 2287 structures).\n",
      "The AlphaFold/UniProt50-minimal database did not display any significant structural similarity to 4304 clusters (thus matching 6177 structures).\n",
      "The Phold database did not display any significant structural similarity (based on 3Di tokens) to 3680 clusters (thus matching 6801 structures).\n",
      "The Phold database did not display any significant structural similarity (based on structures) to 2645 clusters (thus matching 7836 structures).\n",
      "2276 clusters did not match any of the databases, meaning 8205 proteins matched at least 1.\n"
     ]
    }
   ],
   "source": [
    "# General stats:\n",
    "print(f\"The PDB did not display any significant structural similarity to {len(no_match_pdb)} clusters (thus matching {len(proteins_w_structure)-len(no_match_pdb)} structures).\")\n",
    "print(f\"The AlphaFold/UniProt50-minimal database did not display any significant structural similarity to {len(no_match_afdb)} clusters (thus matching {len(proteins_w_structure)-len(no_match_afdb)} structures).\")\n",
    "print(f\"The Phold database did not display any significant structural similarity (based on 3Di tokens) to {len(no_match_phold_seq)} clusters (thus matching {len(proteins_w_structure)-len(no_match_phold_seq)} structures).\")\n",
    "print(f\"The Phold database did not display any significant structural similarity (based on structures) to {len(no_match_phold_str)} clusters (thus matching {len(proteins_w_structure)-len(no_match_phold_str)} structures).\")\n",
    "print(f\"{len(no_match_list)} clusters did not match any of the databases, meaning {len(proteins_w_structure)-len(no_match_list)} proteins matched at least 1.\")"
   ]
  },
  {
   "cell_type": "code",
   "execution_count": 32,
   "id": "ff274ef8-9aec-4e60-834e-9d106578250b",
   "metadata": {},
   "outputs": [
    {
     "name": "stdout",
     "output_type": "stream",
     "text": [
      "There are 2242 proteins that match to all three databases.\n"
     ]
    }
   ],
   "source": [
    "# reversing the lists, and selecting those who did match, and calculating the overlap\n",
    "match_afdb = [prot for prot in proteins_w_structure if prot not in no_match_afdb]\n",
    "match_phold_str = [prot for prot in proteins_w_structure if prot not in no_match_phold_str]\n",
    "match_pdb = [prot for prot in proteins_w_structure if prot not in no_match_pdb]\n",
    "intersection = set(match_afdb) & set(match_phold_str) & set(match_pdb)\n",
    "print(f\"There are {len(intersection)} proteins that match to all three databases.\")"
   ]
  },
  {
   "cell_type": "code",
   "execution_count": 33,
   "id": "3cd214e4-7468-41bd-b5af-b2c2578c4045",
   "metadata": {},
   "outputs": [
    {
     "name": "stdout",
     "output_type": "stream",
     "text": [
      "90.89% of all proteins match to at least one structure database.\n"
     ]
    }
   ],
   "source": [
    "# how many proteins are in those clusters?\n",
    "match_str = [prot for prot in proteins_w_structure if prot not in no_match_str]\n",
    "total_count = agg_df[agg_df[\"cluster_rep\"].isin(match_str)][\"counts\"].sum()/agg_df[agg_df[\"cluster_rep\"].isin(proteins_w_structure)][\"counts\"].sum()\n",
    "total_count_f = \"{:.2f}\".format(total_count*100)\n",
    "print(f\"{total_count_f}% of all proteins match to at least one structure database.\")"
   ]
  },
  {
   "cell_type": "markdown",
   "id": "541381f4-e1e9-4e07-9191-52327ca43449",
   "metadata": {},
   "source": [
    "##### Correcting for Pharokka annotated proteins\n",
    "\n",
    "As we've shown before, not all proteins in our dataset actually need protein structure information to get annotated. Let's remove these proteins, to calculate more accurate metrics for the scale of our structure-informed annotation methods."
   ]
  },
  {
   "cell_type": "code",
   "execution_count": 34,
   "id": "1752c4da-3813-4552-ba8f-83579c46a8e3",
   "metadata": {},
   "outputs": [
    {
     "name": "stdout",
     "output_type": "stream",
     "text": [
      "The PDB displayed significant structural similarity to 698 clusters.\n",
      "The AlphaFold/UniProt50-minimal database displayed significant structural similarity to 3578 clusters.\n",
      "The Phold database displayed significant structural similarity (based on structures) to 5030 clusters.\n"
     ]
    }
   ],
   "source": [
    "# correcting these numbers for those annotated by Pharokka\n",
    "match_afdb_corr = [prot for prot in match_afdb if prot not in ncbi_id_ann]\n",
    "match_phold_str_corr = [prot for prot in match_phold_str if prot not in ncbi_id_ann]\n",
    "match_pdb_corr = [prot for prot in match_pdb if prot not in ncbi_id_ann]\n",
    "# General stats:\n",
    "print(f\"The PDB displayed significant structural similarity to {len(match_pdb_corr)} clusters.\")\n",
    "print(f\"The AlphaFold/UniProt50-minimal database displayed significant structural similarity to {len(match_afdb_corr)} clusters.\")\n",
    "print(f\"The Phold database displayed significant structural similarity (based on structures) to {len(match_phold_str_corr)} clusters.\")"
   ]
  },
  {
   "cell_type": "code",
   "execution_count": 35,
   "id": "795d5cbd-5550-4b05-9e04-a5136ced2c94",
   "metadata": {},
   "outputs": [
    {
     "name": "stdout",
     "output_type": "stream",
     "text": [
      "87.17% of all remaining unannotated proteins match to at least one structure database.\n"
     ]
    }
   ],
   "source": [
    "# how many proteins are in those clusters?\n",
    "match_str_corr = [prot for prot in match_str if prot not in ncbi_id_ann]\n",
    "all_rep_corr = [prot for prot in proteins_w_structure if prot not in ncbi_id_ann]\n",
    "total_count_corr = agg_df[agg_df[\"cluster_rep\"].isin(match_str_corr)][\"counts\"].sum()/agg_df[agg_df[\"cluster_rep\"].isin(all_rep_corr)][\"counts\"].sum()\n",
    "total_count_corr_f = \"{:.2f}\".format(total_count_corr*100)\n",
    "print(f\"{total_count_corr_f}% of all remaining unannotated proteins match to at least one structure database.\")"
   ]
  },
  {
   "cell_type": "code",
   "execution_count": 36,
   "id": "ca72982e-551e-4c70-9b68-c3fa88029f4e",
   "metadata": {},
   "outputs": [
    {
     "name": "stdout",
     "output_type": "stream",
     "text": [
      "69.08% of all remaining unannotated clusters match to at least one structure database.\n"
     ]
    }
   ],
   "source": [
    "# which percentage of clusters is this?\n",
    "per_clu_corr = len(agg_df[agg_df[\"cluster_rep\"].isin(match_str_corr)])/len(agg_df[agg_df[\"cluster_rep\"].isin(all_rep_corr)])\n",
    "per_clu_corr_f = \"{:.2f}\".format(per_clu_corr*100)\n",
    "print(f\"{per_clu_corr_f}% of all remaining unannotated clusters match to at least one structure database.\")"
   ]
  },
  {
   "cell_type": "markdown",
   "id": "3b39bd6b-0e0a-41b0-ad28-4af745d9702e",
   "metadata": {},
   "source": [
    "Are the different databases complementary to each other, or could one easily just choose one over the other? "
   ]
  },
  {
   "cell_type": "code",
   "execution_count": 37,
   "id": "53d00aa6-fe8e-4c98-8127-94060b14864e",
   "metadata": {},
   "outputs": [
    {
     "data": {
      "image/png": "[encoded data removed]",
      "text/plain": [
       "<Figure size 640x480 with 1 Axes>"
      ]
     },
     "metadata": {},
     "output_type": "display_data"
    }
   ],
   "source": [
    "# visually in a Venn diagam: quite some complementarity\n",
    "set1 = set(match_afdb_corr)\n",
    "set2 = set(match_phold_str_corr)\n",
    "set3 = set(match_pdb_corr)\n",
    "\n",
    "venn3([set1, set2, set3], [\"AlphaFold\", \"Phold\", \"PDB\"], set_colors=[\"#21918c\", \"#440154\", \"#fde725\"], alpha = 0.5)\n",
    "\n",
    "plt.show()"
   ]
  },
  {
   "cell_type": "code",
   "execution_count": 39,
   "id": "c879622a-505a-4b1f-a2dc-1136e6c4b18d",
   "metadata": {
    "scrolled": true
   },
   "outputs": [
    {
     "name": "stderr",
     "output_type": "stream",
     "text": [
      "C:\\Users\\hanne\\miniforge3\\envs\\ffal_annotate\\Lib\\site-packages\\upsetplot\\plotting.py:795: FutureWarning: A value is trying to be set on a copy of a DataFrame or Series through chained assignment using an inplace method.\n",
      "The behavior will change in pandas 3.0. This inplace method will never work because the intermediate object on which we are setting values always behaves as a copy.\n",
      "\n",
      "For example, when doing 'df[col].method(value, inplace=True)', try using 'df.method({col: value}, inplace=True)' or df[col] = df[col].method(value) instead, to perform the operation inplace on the original object.\n",
      "\n",
      "\n",
      "  styles[\"linewidth\"].fillna(1, inplace=True)\n",
      "C:\\Users\\hanne\\miniforge3\\envs\\ffal_annotate\\Lib\\site-packages\\upsetplot\\plotting.py:796: FutureWarning: A value is trying to be set on a copy of a DataFrame or Series through chained assignment using an inplace method.\n",
      "The behavior will change in pandas 3.0. This inplace method will never work because the intermediate object on which we are setting values always behaves as a copy.\n",
      "\n",
      "For example, when doing 'df[col].method(value, inplace=True)', try using 'df.method({col: value}, inplace=True)' or df[col] = df[col].method(value) instead, to perform the operation inplace on the original object.\n",
      "\n",
      "\n",
      "  styles[\"facecolor\"].fillna(self._facecolor, inplace=True)\n",
      "C:\\Users\\hanne\\miniforge3\\envs\\ffal_annotate\\Lib\\site-packages\\upsetplot\\plotting.py:797: FutureWarning: A value is trying to be set on a copy of a DataFrame or Series through chained assignment using an inplace method.\n",
      "The behavior will change in pandas 3.0. This inplace method will never work because the intermediate object on which we are setting values always behaves as a copy.\n",
      "\n",
      "For example, when doing 'df[col].method(value, inplace=True)', try using 'df.method({col: value}, inplace=True)' or df[col] = df[col].method(value) instead, to perform the operation inplace on the original object.\n",
      "\n",
      "\n",
      "  styles[\"edgecolor\"].fillna(styles[\"facecolor\"], inplace=True)\n",
      "C:\\Users\\hanne\\miniforge3\\envs\\ffal_annotate\\Lib\\site-packages\\upsetplot\\plotting.py:798: FutureWarning: A value is trying to be set on a copy of a DataFrame or Series through chained assignment using an inplace method.\n",
      "The behavior will change in pandas 3.0. This inplace method will never work because the intermediate object on which we are setting values always behaves as a copy.\n",
      "\n",
      "For example, when doing 'df[col].method(value, inplace=True)', try using 'df.method({col: value}, inplace=True)' or df[col] = df[col].method(value) instead, to perform the operation inplace on the original object.\n",
      "\n",
      "\n",
      "  styles[\"linestyle\"].fillna(\"solid\", inplace=True)\n"
     ]
    },
    {
     "data": {
      "image/png": "[encoded data removed]",
      "text/plain": [
       "<Figure size 533.333x400 with 4 Axes>"
      ]
     },
     "metadata": {},
     "output_type": "display_data"
    }
   ],
   "source": [
    "# through an upset plot\n",
    "set_names = [\"AlphaFold\", \"Phold\", \"PDB\"]\n",
    "all_elems = set(match_afdb_corr).union(set(match_phold_str_corr)).union(set(match_pdb_corr))\n",
    "df = pd.DataFrame([[e in set(match_afdb_corr), e in set(match_phold_str_corr), e in set(match_pdb_corr)] for e in all_elems], columns = set_names)\n",
    "df_up = df.groupby(set_names).size()\n",
    "plot(df_up, orientation='horizontal')\n",
    "plt.savefig(os.path.join(master_dir, \"article_figures\", \"fig4\", \"upset_complementarity_searchdb_trulyunann_cluster.svg\"), format = \"svg\", transparent = True, bbox_inches = \"tight\")"
   ]
  },
  {
   "cell_type": "markdown",
   "id": "b064de6b-d751-4cee-8662-aac22093e028",
   "metadata": {},
   "source": [
    "##### Assessing potential confounders of structural similarity to databases - cluster size\n",
    "\n",
    "Let's have a look at whether there is a relationship between cluster size and whether or not a protein displays significant structural similarity to any of the search databases. A bigger cluster size would imply that the protein is more common, which might make it more likely to have been included in any of these search databases."
   ]
  },
  {
   "cell_type": "code",
   "execution_count": 40,
   "id": "e1969a95-2090-4a6f-ac8b-62638c67fde6",
   "metadata": {},
   "outputs": [
    {
     "data": {
      "text/plain": [
       "MannwhitneyuResult(statistic=np.float64(15008244.0), pvalue=np.float64(1.5881401282057822e-21))"
      ]
     },
     "execution_count": 40,
     "metadata": {},
     "output_type": "execute_result"
    }
   ],
   "source": [
    "# are clusters not matched to the database special? - smaller cluster size, smaller MSA during AF, lower quality?\n",
    "agg_df[\"matching_structure\"] = \"no\"\n",
    "agg_df.loc[agg_df[\"cluster_rep\"].isin(match_str_corr), \"matching_structure\"] = \"yes\"\n",
    "mannwhitneyu(agg_df[agg_df[\"matching_structure\"]  == \"yes\"][\"counts\"], agg_df[agg_df[\"matching_structure\"]  == \"no\"][\"counts\"], alternative = \"greater\")"
   ]
  },
  {
   "cell_type": "code",
   "execution_count": 41,
   "id": "d309d977-bdcd-4821-af6e-f946bd1e1eff",
   "metadata": {
    "scrolled": true
   },
   "outputs": [
    {
     "data": {
      "image/png": "[encoded data removed]",
      "text/plain": [
       "<Figure size 640x480 with 1 Axes>"
      ]
     },
     "metadata": {},
     "output_type": "display_data"
    }
   ],
   "source": [
    "# let's now plot cluster size for all clusters, seperating proteins with database matches from those without\n",
    "vplot = sns.violinplot(data = agg_df[agg_df[\"counts\"].between(agg_df[\"counts\"].quantile(0.01), agg_df[\"counts\"].quantile(.99))], x = \"matching_structure\", y = \"counts\", \n",
    "                       hue = \"matching_structure\", palette = [\"#440154\", \"#2a788e\"], inner_kws=dict(color=\".7\"), alpha = 0.75, cut = 0,\n",
    "                       order = [\"no\", \"yes\"])\n",
    "vplot.set_ylabel(\"Cluster size\")\n",
    "sns.despine(top = True, bottom = True, right = True)\n",
    "vplot.tick_params(bottom=False) \n",
    "plt.savefig(os.path.join(master_dir, \"article_figures\", \"fig4\", \"violinplot_clustersize_matching_structure_trulyunann_cluster.svg\"), format = \"svg\", transparent = True, bbox_inches = \"tight\")"
   ]
  },
  {
   "cell_type": "markdown",
   "id": "4b9c197e-9e25-491a-84e3-2ce39586f76a",
   "metadata": {},
   "source": [
    "##### Assessing potential confounders of structural similarity to databases - MSA depth\n",
    "\n",
    "Let's have a look at whether there is a relationship between MSA depth and whether or not a protein displays significant structural similarity to any of the search databases. MSA depth, like cluster size, is related to how genetically divergent a sequence is from what's in databases, and hence could be correlated to whether or not we find similar proteins in structure databases."
   ]
  },
  {
   "cell_type": "code",
   "execution_count": 42,
   "id": "f6db3721-40f1-4305-a540-eac25cc93ba8",
   "metadata": {},
   "outputs": [],
   "source": [
    "# reading in the data\n",
    "pred_qual_df = pd.read_csv(os.path.join(pipeline_search_dir, \"b_structure\", \"structure_prediction\", \"prediction_metrics.tsv\"), sep = \"\\t\")\n",
    "# adding in the information on structure matches\n",
    "pred_qual_df[\"matching_structure\"] = \"no\"\n",
    "pred_qual_df.loc[pred_qual_df[\"protein\"].isin(match_str_corr), \"matching_structure\"] = \"yes\""
   ]
  },
  {
   "cell_type": "code",
   "execution_count": 43,
   "id": "5790982e-c33f-4b65-b979-569e29a8a94b",
   "metadata": {},
   "outputs": [
    {
     "data": {
      "text/plain": [
       "MannwhitneyuResult(statistic=np.float64(14796694.5), pvalue=np.float64(2.8182901049839475e-12))"
      ]
     },
     "execution_count": 43,
     "metadata": {},
     "output_type": "execute_result"
    }
   ],
   "source": [
    "# let's test whether proteins matching to structure databases have larger MSAs\n",
    "mannwhitneyu(pred_qual_df[pred_qual_df[\"matching_structure\"]  == \"yes\"][\"max MSA depth\"], pred_qual_df[pred_qual_df[\"matching_structure\"]  == \"no\"][\"max MSA depth\"], alternative = \"greater\")"
   ]
  },
  {
   "cell_type": "code",
   "execution_count": 44,
   "id": "aff49f58-9775-47f3-968c-23561b7842e7",
   "metadata": {
    "scrolled": true
   },
   "outputs": [
    {
     "data": {
      "image/png": "[encoded data removed]",
      "text/plain": [
       "<Figure size 640x480 with 1 Axes>"
      ]
     },
     "metadata": {},
     "output_type": "display_data"
    }
   ],
   "source": [
    "# let's now plot MSA depth for all clusters, seperating proteins with database matches from those without\n",
    "vplot = sns.violinplot(data = pred_qual_df, y = \"max MSA depth\", x = \"matching_structure\",\n",
    "                       hue = \"matching_structure\", palette = [\"#2a788e\", \"#440154\"], inner_kws=dict(color=\".7\"), alpha = 0.75, cut = 0,\n",
    "                       order = [\"no\", \"yes\"], log_scale = True)\n",
    "vplot.set_ylabel(\"maximum MSA depth (log transformed)\")\n",
    "sns.despine(top = True, bottom = True, right = True)\n",
    "vplot.tick_params(bottom=False) \n",
    "plt.savefig(os.path.join(master_dir, \"article_figures\", \"fig4\", \"violinplot_MSAdepth_matching_structure_trulyunann_cluster.svg\"), format = \"svg\", transparent = True, bbox_inches = \"tight\")"
   ]
  },
  {
   "cell_type": "markdown",
   "id": "c1e72d1b-ce3b-4021-916f-1de58cf3fe5e",
   "metadata": {},
   "source": [
    "##### Assessing potential confounders of structural similarity to databases - pLDDT\n",
    "\n",
    "Let's have a look at whether there is a relationship between pLDDT and whether or not a protein displays significant structural similarity to any of the search databases. pLDDT is a metric for model quality, and it could be possible that better predicted structures make it easier to identify structural similarity in search databases."
   ]
  },
  {
   "cell_type": "code",
   "execution_count": 45,
   "id": "74ce4031-877b-4a61-8d95-aebafb3ff950",
   "metadata": {},
   "outputs": [
    {
     "data": {
      "text/plain": [
       "MannwhitneyuResult(statistic=np.float64(15684528.0), pvalue=np.float64(8.600838593225996e-37))"
      ]
     },
     "execution_count": 45,
     "metadata": {},
     "output_type": "execute_result"
    }
   ],
   "source": [
    "# let's test whether proteins matching to structure databases have better pLDDT scores\n",
    "mannwhitneyu(pred_qual_df[pred_qual_df[\"matching_structure\"]  == \"yes\"][\"avg pLDDT_y\"], pred_qual_df[pred_qual_df[\"matching_structure\"]  == \"no\"][\"avg pLDDT_y\"], alternative = \"greater\")"
   ]
  },
  {
   "cell_type": "code",
   "execution_count": 46,
   "id": "f18e0b9c-7746-4ad6-9067-d3d96f5a27e5",
   "metadata": {
    "scrolled": true
   },
   "outputs": [
    {
     "data": {
      "image/png": "[encoded data removed]",
      "text/plain": [
       "<Figure size 640x480 with 1 Axes>"
      ]
     },
     "metadata": {},
     "output_type": "display_data"
    }
   ],
   "source": [
    "# let's now plot pLDDT scores for all clusters, seperating proteins with database matches from those without\n",
    "vplot = sns.violinplot(data = pred_qual_df, y = \"avg pLDDT_y\", x = \"matching_structure\",\n",
    "                       hue = \"matching_structure\", palette = [\"#2a788e\", \"#440154\"], inner_kws=dict(color=\".7\"), alpha = 0.75, cut = 0,\n",
    "                       order = [\"no\", \"yes\"])\n",
    "vplot.set_ylabel(\"pLDDT score (averaged over protein)\")\n",
    "sns.despine(top = True, bottom = True, right = True)\n",
    "vplot.tick_params(bottom=False) \n",
    "plt.savefig(os.path.join(master_dir, \"article_figures\", \"fig4\", \"violinplot_pLDDT_matching_structure_trulyunann_cluster.svg\"), format = \"svg\", transparent = True, bbox_inches = \"tight\")"
   ]
  },
  {
   "cell_type": "markdown",
   "id": "39e65f07-87be-458a-a85d-68de6e36a268",
   "metadata": {},
   "source": [
    "#### Goal 4 : Filter the FoldSeek files for easier function annotation\n",
    "\n",
    "To reduce the number of FoldSeek hits to consider during annotation, and most importantly, retain those that are most likely of similar function as the protein at hand, we will use the following set of filters:\n",
    "- probability of our protein and its match to belong to the same SCOP class: > 50%\n",
    "- quality of the alignment: alignment lDDT > 50% (based on visual inspection of alignments)\n",
    "- quality of the aligned region of input protein: average plDDT of aligned region > 70 (standard AlphaFold cut-off)\n",
    "\n",
    "We also apply the same correction on the E-value as before (filter at 1E-3).\n",
    "  \n",
    "In order to do so, we write functions to extract these features, and then filter based on these values."
   ]
  },
  {
   "cell_type": "code",
   "execution_count": 47,
   "id": "72ee0f32-5afc-4f9f-9947-8dfddc309f35",
   "metadata": {},
   "outputs": [],
   "source": [
    "# define a PDB parser\n",
    "p = PDBParser()"
   ]
  },
  {
   "cell_type": "code",
   "execution_count": 48,
   "id": "8d3089b9-4e73-4222-a2a7-8bb8d21b4120",
   "metadata": {},
   "outputs": [],
   "source": [
    "# function for calculating average pLDDT of aligned region on FoldSeek results\n",
    "def get_pLDDT(structure, start, stop):\n",
    "    for model in structure:\n",
    "        for chain in model:\n",
    "            count_residue = 0\n",
    "            pLDDT_chain = 0\n",
    "            for residue in chain:\n",
    "                if residue.id[1] in range(start,stop+1):\n",
    "                    count_residue += 1\n",
    "                    count_atom = 0\n",
    "                    pLDDT_atom = 0\n",
    "                    for atom in residue:\n",
    "                        count_atom += 1\n",
    "                        pLDDT_atom += atom.get_bfactor()\n",
    "                    pLDDT_res = round(pLDDT_atom/count_atom,2)\n",
    "                    pLDDT_chain += pLDDT_res\n",
    "            pLDDT_range = round(pLDDT_chain/count_residue,2)\n",
    "    return pLDDT_range"
   ]
  },
  {
   "cell_type": "code",
   "execution_count": null,
   "id": "7b74e775-6dc8-4ae2-a90a-8c9004ad4d3f",
   "metadata": {},
   "outputs": [],
   "source": [
    "# loop through batches, then through proteins\n",
    "for index_batch, batch in dict_batch_comp.items():\n",
    "    batch_dir = os.path.join(comp_out_dir, f\"batch_{index_batch}\", f\"batch_{index_batch}\")\n",
    "    os.makedirs(batch_out_dir)\n",
    "    for protein in batch:\n",
    "        # get protein structure from AlphaFold\n",
    "        if protein not in relaxation_failed_ids:\n",
    "            structure = p.get_structure(protein, os.path.join(batch_dir, \"{0}_relaxed.pdb\".format(protein)))\n",
    "        if protein in relaxation_failed_ids:\n",
    "            structure = p.get_structure(protein, os.path.join(batch_dir, \"{0}_best.pdb\".format(protein)))\n",
    "        # filtering hits against AF50m database\n",
    "            # reading in the data\n",
    "        data_af50m = pd.read_table(os.path.join(batch_dir, \"{0}_aln_af50m.txt\".format(protein)), header=None, names=[\"query\",\"target\",\"fident\",\"alnlen\",\"mismatch\",\"gapopen\",\"qstart\",\"qend\",\"tstart\",\"tend\",\"evalue\",\"bits\",\"prob\",\"lddt\",\"lddtfull\"])\n",
    "            # adding AlphaFold quality metrics - pLDDT of aligned region query\n",
    "        for i in range(0,len(data_af50m)):\n",
    "            data_af50m.at[i,\"pLDDT_qAln\"] = get_pLDDT(structure, data_af50m.at[i,\"qstart\"],data_af50m.at[i,\"qend\"])\n",
    "            # filtering based on FoldSeek parameters & AF model accuracy\n",
    "        data_af50m_filtered = data_af50m\n",
    "        if len(data_af50m_filtered) != 0:\n",
    "            data_af50m_filtered = data_af50m_filtered[(data_af50m_filtered[\"prob\"] > 0.5) & (data_af50m_filtered[\"evalue\"] < 1e-3) & (data_af50m_filtered[\"lddt\"] >= 0.5) & (data_af50m_filtered[\"pLDDT_qAln\"] >= 0.7)]\n",
    "        data_af50m_filtered = data_af50m_filtered.reset_index()\n",
    "            # store filtered FoldSeek results\n",
    "        data_af50m_filtered.to_csv(os.path.join(batch_dir, f\"{protein}_foldseek_af50m_filtered.csv\"), index=False)     \n",
    "        # filtering hits against PDB database\n",
    "            # reading in the data\n",
    "        data_pdb = pd.read_table(os.path.join(batch_dir, \"{0}_aln_pdb.txt\".format(protein)), header=None, names=[\"query\",\"target\",\"fident\",\"alnlen\",\"mismatch\",\"gapopen\",\"qstart\",\"qend\",\"tstart\",\"tend\",\"evalue\",\"bits\",\"prob\",\"lddt\",\"lddtfull\"])\n",
    "            # adding AlphaFold quality metrics - pLDDT of aligned region query\n",
    "        for i in range(0,len(data_pdb)):\n",
    "            data_pdb.at[i,\"pLDDT_qAln\"] = get_pLDDT(structure, data_pdb.at[i,\"qstart\"],data_pdb.at[i,\"qend\"])\n",
    "            # filtering based on FoldSeek parameters & AF model accuracy\n",
    "        data_pdb_filtered = data_pdb\n",
    "        if len(data_pdb_filtered) != 0:\n",
    "            data_pdb_filtered = data_pdb_filtered[(data_pdb_filtered[\"prob\"] > 0.5) & (data_pdb_filtered[\"evalue\"] < 1e-3) & (data_pdb_filtered[\"lddt\"] >= 0.5) & (data_pdb_filtered[\"pLDDT_qAln\"] >= 0.7)]\n",
    "        data_pdb_filtered = data_pdb_filtered.reset_index()\n",
    "            # store filtered FoldSeek results\n",
    "        data_pdb_filtered.to_csv(os.path.join(batch_dir, f\"{protein}_foldseek_pdb_filtered.csv\"), index=False) "
   ]
  },
  {
   "cell_type": "code",
   "execution_count": 49,
   "id": "085c1ee7-47f1-4b29-9f6a-86dcd1dbe56e",
   "metadata": {},
   "outputs": [],
   "source": [
    "# let's write some code for the FoldSeek output from our own searches first,in essence, all we have to check is the line count\n",
    "def get_num_hits_filtered(b_dir, protein):\n",
    "    # paths to different files\n",
    "    aln_pdb_fil = os.path.join(b_dir, f\"{protein}_foldseek_pdb_filtered.csv\")\n",
    "    aln_af50m_fil = os.path.join(b_dir, f\"{protein}_foldseek_af50m_filtered.csv\")\n",
    "    # calculate hit count\n",
    "    with open(aln_pdb_fil) as file:\n",
    "        pdb_fil_count = sum(1 for _ in file) - 1\n",
    "    with open(aln_af50m_fil) as file:\n",
    "        af50m_fil_count = sum(1 for _ in file) - 1 \n",
    "    return pdb_fil_count, af50m_fil_count"
   ]
  },
  {
   "cell_type": "code",
   "execution_count": 50,
   "id": "bffc7b7e-385a-430e-ad18-04054ff6ae42",
   "metadata": {
    "collapsed": true,
    "jupyter": {
     "outputs_hidden": true
    }
   },
   "outputs": [
    {
     "name": "stdout",
     "output_type": "stream",
     "text": [
      "Finished batch_0 FoldSeek filtered hit count analysis.\n",
      "Finished batch_1 FoldSeek filtered hit count analysis.\n",
      "Finished batch_2 FoldSeek filtered hit count analysis.\n",
      "Finished batch_3 FoldSeek filtered hit count analysis.\n",
      "Finished batch_4 FoldSeek filtered hit count analysis.\n",
      "Finished batch_5 FoldSeek filtered hit count analysis.\n",
      "Finished batch_6 FoldSeek filtered hit count analysis.\n",
      "Finished batch_7 FoldSeek filtered hit count analysis.\n",
      "Finished batch_8 FoldSeek filtered hit count analysis.\n",
      "Finished batch_9 FoldSeek filtered hit count analysis.\n",
      "Finished batch_10 FoldSeek filtered hit count analysis.\n",
      "Finished batch_11 FoldSeek filtered hit count analysis.\n",
      "Finished batch_12 FoldSeek filtered hit count analysis.\n",
      "Finished batch_13 FoldSeek filtered hit count analysis.\n",
      "Finished batch_14 FoldSeek filtered hit count analysis.\n",
      "Finished batch_15 FoldSeek filtered hit count analysis.\n",
      "Finished batch_16 FoldSeek filtered hit count analysis.\n",
      "Finished batch_17 FoldSeek filtered hit count analysis.\n",
      "Finished batch_18 FoldSeek filtered hit count analysis.\n",
      "Finished batch_19 FoldSeek filtered hit count analysis.\n",
      "Finished batch_20 FoldSeek filtered hit count analysis.\n",
      "Finished batch_21 FoldSeek filtered hit count analysis.\n",
      "Finished batch_22 FoldSeek filtered hit count analysis.\n",
      "Finished batch_23 FoldSeek filtered hit count analysis.\n",
      "Finished batch_24 FoldSeek filtered hit count analysis.\n",
      "Finished batch_25 FoldSeek filtered hit count analysis.\n",
      "Finished batch_26 FoldSeek filtered hit count analysis.\n",
      "Finished batch_27 FoldSeek filtered hit count analysis.\n",
      "Finished batch_28 FoldSeek filtered hit count analysis.\n",
      "Finished batch_29 FoldSeek filtered hit count analysis.\n",
      "Finished batch_30 FoldSeek filtered hit count analysis.\n",
      "Finished batch_31 FoldSeek filtered hit count analysis.\n",
      "Finished batch_32 FoldSeek filtered hit count analysis.\n",
      "Finished batch_33 FoldSeek filtered hit count analysis.\n",
      "Finished batch_34 FoldSeek filtered hit count analysis.\n"
     ]
    }
   ],
   "source": [
    " # results storage dict\n",
    "protein_hits_fil = {}\n",
    "# apply function\n",
    "for batch_index, protein_list in dict_batch_comp.items():\n",
    "    for protein in protein_list:\n",
    "        batch = f\"batch_{batch_index}\"\n",
    "        path_batch = os.path.join(comp_out_dir, batch, batch)\n",
    "        pdb_fil_count, af50m_fil_count = get_num_hits_filtered(path_batch, protein)\n",
    "        protein_hits_fil[protein] = pdb_fil_count, af50m_fil_count\n",
    "    print(f\"Finished {batch} FoldSeek filtered hit count analysis.\")"
   ]
  },
  {
   "cell_type": "code",
   "execution_count": 51,
   "id": "926d1309-3e6c-4af4-be92-c34ebc39409b",
   "metadata": {},
   "outputs": [],
   "source": [
    "no_match_fil_list = list()\n",
    "no_match_str_fil = list()\n",
    "no_match_pdb_fil = list()\n",
    "no_match_afdb_fil = list()\n",
    "for key, value in protein_hits_fil.items():\n",
    "    if value == (0, 0):\n",
    "        if key in no_match_phold_str:\n",
    "            no_match_str_fil.append(key)   \n",
    "            if key in no_match_phold_seq:\n",
    "                no_match_fil_list.append(key)\n",
    "    if value[0] == 0:\n",
    "        no_match_pdb_fil.append(key)\n",
    "    if value[1] == 0:\n",
    "        no_match_afdb_fil.append(key)"
   ]
  },
  {
   "cell_type": "markdown",
   "id": "eb3cc11d-7502-4b0d-9a32-2008a32483c6",
   "metadata": {},
   "source": [
    "Now that's extracted, let's look at some stats:"
   ]
  },
  {
   "cell_type": "code",
   "execution_count": 52,
   "id": "aa6b098d-f459-4c60-9781-9e9df43b8c28",
   "metadata": {},
   "outputs": [
    {
     "name": "stdout",
     "output_type": "stream",
     "text": [
      "The PDB did not display any significant structural similarity (after filtering) to 8636 clusters (thus matching 1845 structures).\n",
      "The AlphaFold/UniProt50-minimal database did not display any significant structural similarity (after filtering) to 4446 clusters (thus matching 6035 structures).\n",
      "2298 clusters did not match any of the databases (after filtering), meaning 8183 proteins matched at least 1.\n"
     ]
    }
   ],
   "source": [
    "# General stats:\n",
    "print(f\"The PDB did not display any significant structural similarity (after filtering) to {len(no_match_pdb_fil)} clusters (thus matching {len(proteins_w_structure)-len(no_match_pdb_fil)} structures).\")\n",
    "print(f\"The AlphaFold/UniProt50-minimal database did not display any significant structural similarity (after filtering) to {len(no_match_afdb_fil)} clusters (thus matching {len(proteins_w_structure)-len(no_match_afdb_fil)} structures).\")\n",
    "print(f\"{len(no_match_fil_list)} clusters did not match any of the databases (after filtering), meaning {len(proteins_w_structure)-len(no_match_fil_list)} proteins matched at least 1.\")"
   ]
  },
  {
   "cell_type": "code",
   "execution_count": 53,
   "id": "bb08aa4b-a82d-4faf-9745-8cb1d1cdb133",
   "metadata": {},
   "outputs": [
    {
     "name": "stdout",
     "output_type": "stream",
     "text": [
      "There are 1802 proteins that match to all three databases (after filtering).\n"
     ]
    }
   ],
   "source": [
    "# reversing the lists, and selecting those who did match, and calculating the overlap\n",
    "match_afdb_fil = [prot for prot in proteins_w_structure if prot not in no_match_afdb_fil]\n",
    "match_pdb_fil = [prot for prot in proteins_w_structure if prot not in no_match_pdb_fil]\n",
    "intersection_fil = set(match_afdb_fil) & set(match_phold_str) & set(match_pdb_fil)\n",
    "print(f\"There are {len(intersection_fil)} proteins that match to all three databases (after filtering).\")"
   ]
  },
  {
   "cell_type": "code",
   "execution_count": 54,
   "id": "904deebd-dcc1-41ad-b081-051f7a7892c5",
   "metadata": {},
   "outputs": [
    {
     "name": "stdout",
     "output_type": "stream",
     "text": [
      "90.80% of all proteins match to at least one structure database (after filtering).\n"
     ]
    }
   ],
   "source": [
    "# how many proteins are in those clusters?\n",
    "match_str_fil = [prot for prot in proteins_w_structure if prot not in no_match_str_fil]\n",
    "total_count_fil = agg_df[agg_df[\"cluster_rep\"].isin(match_str_fil)][\"counts\"].sum()/agg_df[agg_df[\"cluster_rep\"].isin(proteins_w_structure)][\"counts\"].sum()\n",
    "total_count_fil_f = \"{:.2f}\".format(total_count_fil*100)\n",
    "print(f\"{total_count_fil_f}% of all proteins match to at least one structure database (after filtering).\")"
   ]
  },
  {
   "cell_type": "markdown",
   "id": "7fe9152d-b734-4fd5-9f69-295a331948d0",
   "metadata": {},
   "source": [
    "##### Correcting for Pharokka annotated proteins\n",
    "\n",
    "As we've shown before, not all proteins in our dataset actually need protein structure information to get annotated. Let's remove these proteins, to calculate more accurate metrics for the scale of our structure-informed annotation methods."
   ]
  },
  {
   "cell_type": "code",
   "execution_count": 55,
   "id": "68037832-8e0d-4535-9d59-39765aeebc2a",
   "metadata": {},
   "outputs": [
    {
     "name": "stdout",
     "output_type": "stream",
     "text": [
      "The PDB displayed significant structural similarity to 508 clusters (after filtering).\n",
      "The AlphaFold/UniProt50-minimal database displayed significant structural similarity to 3458 clusters (after filtering).\n"
     ]
    }
   ],
   "source": [
    "# correcting these numbers for those annotated by Pharokka\n",
    "match_afdb_corr_fil = [prot for prot in match_afdb_fil if prot not in ncbi_id_ann]\n",
    "match_pdb_corr_fil = [prot for prot in match_pdb_fil if prot not in ncbi_id_ann]\n",
    "# General stats:\n",
    "print(f\"The PDB displayed significant structural similarity to {len(match_pdb_corr_fil)} clusters (after filtering).\")\n",
    "print(f\"The AlphaFold/UniProt50-minimal database displayed significant structural similarity to {len(match_afdb_corr_fil)} clusters (after filtering).\")"
   ]
  },
  {
   "cell_type": "code",
   "execution_count": 56,
   "id": "e19a5844-6a8a-460b-ad02-40ceaabb4c7d",
   "metadata": {},
   "outputs": [
    {
     "name": "stdout",
     "output_type": "stream",
     "text": [
      "87.04% of all remaining unannotated proteins match to at least one structure database.\n"
     ]
    }
   ],
   "source": [
    "# how many proteins are in those clusters?\n",
    "match_str_corr_fil = [prot for prot in match_str_fil if prot not in ncbi_id_ann]\n",
    "total_count_corr_fil = agg_df[agg_df[\"cluster_rep\"].isin(match_str_corr_fil)][\"counts\"].sum()/agg_df[agg_df[\"cluster_rep\"].isin(all_rep_corr)][\"counts\"].sum()\n",
    "total_count_corr_fil_f = \"{:.2f}\".format(total_count_corr_fil*100)\n",
    "print(f\"{total_count_corr_fil_f}% of all remaining unannotated proteins match to at least one structure database.\")"
   ]
  },
  {
   "cell_type": "code",
   "execution_count": 57,
   "id": "7ad7ef50-c680-40be-b5d0-9a6b337ac47a",
   "metadata": {},
   "outputs": [
    {
     "name": "stdout",
     "output_type": "stream",
     "text": [
      "68.75% of all remaining unannotated clusters match to at least one structure database.\n"
     ]
    }
   ],
   "source": [
    "# which percentage of clusters is this?\n",
    "per_clu_corr_fil = len(agg_df[agg_df[\"cluster_rep\"].isin(match_str_corr_fil)])/len(agg_df[agg_df[\"cluster_rep\"].isin(all_rep_corr)])\n",
    "per_clu_corr_fil_f = \"{:.2f}\".format(per_clu_corr_fil*100)\n",
    "print(f\"{per_clu_corr_fil_f}% of all remaining unannotated clusters match to at least one structure database.\")"
   ]
  },
  {
   "cell_type": "markdown",
   "id": "15b61d8e-132c-43fa-b5f7-44dc4c1b4efd",
   "metadata": {},
   "source": [
    "Is complementarity the same, or more exagerated now? Bit more in favor of Phold now, but overall, very small effect. "
   ]
  },
  {
   "cell_type": "code",
   "execution_count": 58,
   "id": "f75f802f-7fb2-4ebc-8b1f-4b4b55bfb672",
   "metadata": {
    "scrolled": true
   },
   "outputs": [
    {
     "name": "stderr",
     "output_type": "stream",
     "text": [
      "C:\\Users\\hanne\\miniforge3\\envs\\ffal_annotate\\Lib\\site-packages\\upsetplot\\plotting.py:795: FutureWarning: A value is trying to be set on a copy of a DataFrame or Series through chained assignment using an inplace method.\n",
      "The behavior will change in pandas 3.0. This inplace method will never work because the intermediate object on which we are setting values always behaves as a copy.\n",
      "\n",
      "For example, when doing 'df[col].method(value, inplace=True)', try using 'df.method({col: value}, inplace=True)' or df[col] = df[col].method(value) instead, to perform the operation inplace on the original object.\n",
      "\n",
      "\n",
      "  styles[\"linewidth\"].fillna(1, inplace=True)\n",
      "C:\\Users\\hanne\\miniforge3\\envs\\ffal_annotate\\Lib\\site-packages\\upsetplot\\plotting.py:796: FutureWarning: A value is trying to be set on a copy of a DataFrame or Series through chained assignment using an inplace method.\n",
      "The behavior will change in pandas 3.0. This inplace method will never work because the intermediate object on which we are setting values always behaves as a copy.\n",
      "\n",
      "For example, when doing 'df[col].method(value, inplace=True)', try using 'df.method({col: value}, inplace=True)' or df[col] = df[col].method(value) instead, to perform the operation inplace on the original object.\n",
      "\n",
      "\n",
      "  styles[\"facecolor\"].fillna(self._facecolor, inplace=True)\n",
      "C:\\Users\\hanne\\miniforge3\\envs\\ffal_annotate\\Lib\\site-packages\\upsetplot\\plotting.py:797: FutureWarning: A value is trying to be set on a copy of a DataFrame or Series through chained assignment using an inplace method.\n",
      "The behavior will change in pandas 3.0. This inplace method will never work because the intermediate object on which we are setting values always behaves as a copy.\n",
      "\n",
      "For example, when doing 'df[col].method(value, inplace=True)', try using 'df.method({col: value}, inplace=True)' or df[col] = df[col].method(value) instead, to perform the operation inplace on the original object.\n",
      "\n",
      "\n",
      "  styles[\"edgecolor\"].fillna(styles[\"facecolor\"], inplace=True)\n",
      "C:\\Users\\hanne\\miniforge3\\envs\\ffal_annotate\\Lib\\site-packages\\upsetplot\\plotting.py:798: FutureWarning: A value is trying to be set on a copy of a DataFrame or Series through chained assignment using an inplace method.\n",
      "The behavior will change in pandas 3.0. This inplace method will never work because the intermediate object on which we are setting values always behaves as a copy.\n",
      "\n",
      "For example, when doing 'df[col].method(value, inplace=True)', try using 'df.method({col: value}, inplace=True)' or df[col] = df[col].method(value) instead, to perform the operation inplace on the original object.\n",
      "\n",
      "\n",
      "  styles[\"linestyle\"].fillna(\"solid\", inplace=True)\n"
     ]
    },
    {
     "data": {
      "text/plain": [
       "{'matrix': <Axes: >,\n",
       " 'shading': <Axes: >,\n",
       " 'totals': <Axes: >,\n",
       " 'intersections': <Axes: ylabel='Intersection size'>}"
      ]
     },
     "execution_count": 58,
     "metadata": {},
     "output_type": "execute_result"
    },
    {
     "data": {
      "image/png": "[encoded data removed]",
      "text/plain": [
       "<Figure size 533.333x400 with 4 Axes>"
      ]
     },
     "metadata": {},
     "output_type": "display_data"
    }
   ],
   "source": [
    "# through an upset plot\n",
    "set_names = [\"AlphaFold\", \"Phold\", \"PDB\"]\n",
    "all_elems = set(match_afdb_corr_fil).union(set(match_phold_str_corr)).union(set(match_pdb_corr_fil))\n",
    "df = pd.DataFrame([[e in set(match_afdb_corr_fil), e in set(match_phold_str_corr), e in set(match_pdb_corr_fil)] for e in all_elems], columns = set_names)\n",
    "df_up = df.groupby(set_names).size()\n",
    "plot(df_up, orientation='horizontal')"
   ]
  },
  {
   "cell_type": "code",
   "execution_count": 59,
   "id": "626094e4-5570-4166-b812-a34a0f088ea7",
   "metadata": {},
   "outputs": [
    {
     "data": {
      "image/png": "[encoded data removed]",
      "text/plain": [
       "<Figure size 640x480 with 1 Axes>"
      ]
     },
     "metadata": {},
     "output_type": "display_data"
    }
   ],
   "source": [
    "# visually in a Venn diagam: quite some complementarity\n",
    "set1 = set(match_afdb_corr_fil)\n",
    "set2 = set(match_phold_str_corr)\n",
    "set3 = set(match_pdb_corr_fil)\n",
    "\n",
    "venn3([set1, set2, set3], [\"AlphaFold\", \"Phold\", \"PDB\"], set_colors=[\"#21918c\", \"#440154\", \"#fde725\"], alpha = 0.5)\n",
    "\n",
    "plt.show()"
   ]
  },
  {
   "cell_type": "markdown",
   "id": "3f469aa3-874d-4606-a7b0-910b33ccf771",
   "metadata": {},
   "source": [
    "##### How many hits did we filter out?\n",
    "\n",
    "As we've shown, there is hardly any difference in which proteins could be annotated, still reaching 83% of all remaining unannotated proteins (although perhaps a bit more dependent on the Phold results). However, the goal was not to reduce the amount of proteins we could annotate, but rather reduce the amount of uninformative hits. Let's see if the number of hits did indeed change, for the proteins which still have hits. "
   ]
  },
  {
   "cell_type": "code",
   "execution_count": 60,
   "id": "131c7f31-bfee-485b-a5b3-ac81048c5de9",
   "metadata": {},
   "outputs": [],
   "source": [
    "num_hits_pdb = list()\n",
    "num_hits_afdb = list()\n",
    "num_hits_pdb_fil = list()\n",
    "num_hits_afdb_fil = list()\n",
    "for key, value in protein_hits.items():\n",
    "    if value[0] != 0:\n",
    "        num_hits_pdb.append(value)\n",
    "    if value[1] != 0:\n",
    "        num_hits_afdb.append(value)\n",
    "for key, value in protein_hits_fil.items():\n",
    "    if value[0] != 0:\n",
    "        num_hits_pdb_fil.append(value)\n",
    "    if value[1] != 0:\n",
    "        num_hits_afdb_fil.append(value)"
   ]
  },
  {
   "cell_type": "code",
   "execution_count": 61,
   "id": "7e78de6b-1f72-42f9-bcc4-1121039a4e22",
   "metadata": {},
   "outputs": [
    {
     "name": "stdout",
     "output_type": "stream",
     "text": [
      "Before filtering, a total of 1483753 hits was found against the PDB. After filtering, the total count was 950210.\n"
     ]
    }
   ],
   "source": [
    "print(f\"Before filtering, a total of {np.sum(num_hits_pdb)} hits was found against the PDB. After filtering, the total count was {np.sum(num_hits_pdb_fil)}.\")"
   ]
  },
  {
   "cell_type": "code",
   "execution_count": 62,
   "id": "105e43e5-5575-441e-9094-34c225323ce4",
   "metadata": {},
   "outputs": [
    {
     "name": "stdout",
     "output_type": "stream",
     "text": [
      "Before filtering, a total of 1788261 hits was found against the PDB. After filtering, the total count was 1283164.\n"
     ]
    }
   ],
   "source": [
    "print(f\"Before filtering, a total of {np.sum(num_hits_afdb)} hits was found against the AlphaFold database. After filtering, the total count was {np.sum(num_hits_afdb_fil)}.\")"
   ]
  }
 ],
 "metadata": {
  "kernelspec": {
   "display_name": "Python 3 (ipykernel)",
   "language": "python",
   "name": "python3"
  },
  "language_info": {
   "codemirror_mode": {
    "name": "ipython",
    "version": 3
   },
   "file_extension": ".py",
   "mimetype": "text/x-python",
   "name": "python",
   "nbconvert_exporter": "python",
   "pygments_lexer": "ipython3",
   "version": "3.13.5"
  }
 },
 "nbformat": 4,
 "nbformat_minor": 5
}
